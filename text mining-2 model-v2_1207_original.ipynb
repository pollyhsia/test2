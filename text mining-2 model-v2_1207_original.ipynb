{
 "cells": [
  {
   "cell_type": "code",
   "execution_count": 1,
   "metadata": {},
   "outputs": [
    {
     "name": "stderr",
     "output_type": "stream",
     "text": [
      "[nltk_data] Downloading package stopwords to\n",
      "[nltk_data]     C:\\Users\\USER\\AppData\\Roaming\\nltk_data...\n",
      "[nltk_data]   Package stopwords is already up-to-date!\n",
      "c:\\users\\user\\appdata\\local\\programs\\python\\python35\\lib\\site-packages\\gensim\\utils.py:1212: UserWarning: detected Windows; aliasing chunkize to chunkize_serial\n",
      "  warnings.warn(\"detected Windows; aliasing chunkize to chunkize_serial\")\n",
      "c:\\users\\user\\appdata\\local\\programs\\python\\python35\\lib\\site-packages\\scipy\\sparse\\sparsetools.py:21: DeprecationWarning: `scipy.sparse.sparsetools` is deprecated!\n",
      "scipy.sparse.sparsetools is a private module for scipy.sparse, and should not be used.\n",
      "  _deprecated()\n"
     ]
    }
   ],
   "source": [
    "import numpy as np\n",
    "import pandas as pd\n",
    "import re, nltk\n",
    "\n",
    "nltk.download('stopwords')\n",
    "\n",
    "# Sklearn\n",
    "from sklearn.decomposition import LatentDirichletAllocation, TruncatedSVD\n",
    "from sklearn.feature_extraction.text import CountVectorizer, TfidfVectorizer,TfidfTransformer\n",
    "from sklearn.model_selection import GridSearchCV\n",
    "from sklearn.feature_extraction import text \n",
    "from pprint import pprint\n",
    "\n",
    "# Plotting tools\n",
    "import pyLDAvis\n",
    "import pyLDAvis.sklearn\n",
    "import pyLDAvis.gensim  # don't skip this\n",
    "import matplotlib.pyplot as plt\n",
    "%matplotlib inline\n",
    "\n",
    "from pprint import pprint\n",
    "\n",
    "# Gensim\n",
    "import gensim\n",
    "import gensim.corpora as corpora\n",
    "from gensim.utils import simple_preprocess\n",
    "from gensim.models import CoherenceModel\n",
    "\n",
    "# spacy for lemmatization\n",
    "import spacy\n",
    "\n",
    "# Enable logging for gensim - optional\n",
    "import logging\n",
    "logging.basicConfig(format='%(asctime)s : %(levelname)s : %(message)s', level=logging.ERROR)\n",
    "\n",
    "import warnings\n",
    "warnings.filterwarnings(\"ignore\",category=DeprecationWarning)"
   ]
  },
  {
   "cell_type": "code",
   "execution_count": 2,
   "metadata": {},
   "outputs": [],
   "source": [
    "data = pd.read_csv('datasince2012_all_labeled.csv',encoding='latin-1',error_bad_lines=False)"
   ]
  },
  {
   "cell_type": "code",
   "execution_count": 3,
   "metadata": {},
   "outputs": [],
   "source": [
    "df = data[['CDESCR']][data[\"prediction\"] == 1]\n",
    "\n",
    "df_0 = data[['CDESCR']][data[\"prediction\"] == 0]"
   ]
  },
  {
   "cell_type": "code",
   "execution_count": 4,
   "metadata": {},
   "outputs": [
    {
     "data": {
      "text/plain": [
       "(548, 1)"
      ]
     },
     "execution_count": 4,
     "metadata": {},
     "output_type": "execute_result"
    }
   ],
   "source": [
    "df.shape"
   ]
  },
  {
   "cell_type": "code",
   "execution_count": 5,
   "metadata": {},
   "outputs": [
    {
     "data": {
      "text/plain": [
       "(112418, 1)"
      ]
     },
     "execution_count": 5,
     "metadata": {},
     "output_type": "execute_result"
    }
   ],
   "source": [
    "df_0.shape"
   ]
  },
  {
   "cell_type": "markdown",
   "metadata": {},
   "source": [
    "## Data Preprocessing I"
   ]
  },
  {
   "cell_type": "code",
   "execution_count": 6,
   "metadata": {},
   "outputs": [],
   "source": [
    "def pre_process(text):\n",
    "    \n",
    "    # lowercase\n",
    "    text=str(text).lower()\n",
    "    \n",
    "    #remove tags\n",
    "    text=re.sub(\"</?.*?>\",\" <> \",text)\n",
    "    \n",
    "    # remove special characters and digits\n",
    "    text=re.sub(\"(\\\\d|\\\\W)+\",\" \",text)\n",
    "    \n",
    "    return text\n",
    "\n",
    "df['CDESCR'] = df['CDESCR'].apply(lambda x:pre_process(x))\n",
    "df_0['CDESCR'] = df_0['CDESCR'].apply(lambda x:pre_process(x))\n",
    "\n",
    "#show the first 'text'\n",
    "#df['CDESCR']"
   ]
  },
  {
   "cell_type": "code",
   "execution_count": 7,
   "metadata": {},
   "outputs": [],
   "source": [
    "#load a set of stop words and extend the list\n",
    "stopwords = text.ENGLISH_STOP_WORDS.union(['ford', 'honda', 'toyota', 'chrysler', 'subaru','kia','cherokee','jeep','gm','nissan','audi','car','vehicle','xxxx','xx','system','stated','tl','tr','systems','vehicles','cars','approximate'])\n",
    "\n",
    "\n",
    "#get the text column \n",
    "docs = df['CDESCR'].tolist()\n",
    "\n",
    "docs_0 = df_0['CDESCR'].tolist()"
   ]
  },
  {
   "cell_type": "markdown",
   "metadata": {},
   "source": [
    "## Keyword Extraction"
   ]
  },
  {
   "cell_type": "code",
   "execution_count": 8,
   "metadata": {},
   "outputs": [],
   "source": [
    "Num_Words = 10"
   ]
  },
  {
   "cell_type": "markdown",
   "metadata": {},
   "source": [
    "For complaints related to ADAS:"
   ]
  },
  {
   "cell_type": "code",
   "execution_count": 9,
   "metadata": {},
   "outputs": [
    {
     "data": {
      "text/plain": [
       "(548, 5319)"
      ]
     },
     "execution_count": 9,
     "metadata": {},
     "output_type": "execute_result"
    }
   ],
   "source": [
    "#create a vocabulary of words, \n",
    "#ignore words that appear in 85% of documents, \n",
    "#eliminate stop words\n",
    "\n",
    "cv=CountVectorizer(max_df=0.85,stop_words=stopwords,max_features=10000)\n",
    "word_count_vector=cv.fit_transform(docs)\n",
    "word_count_vector.shape"
   ]
  },
  {
   "cell_type": "code",
   "execution_count": 10,
   "metadata": {},
   "outputs": [
    {
     "data": {
      "text/plain": [
       "TfidfTransformer(norm='l2', smooth_idf=True, sublinear_tf=False, use_idf=True)"
      ]
     },
     "execution_count": 10,
     "metadata": {},
     "output_type": "execute_result"
    }
   ],
   "source": [
    "tfidf_transformer=TfidfTransformer(smooth_idf=True,use_idf=True)\n",
    "tfidf_transformer.fit(word_count_vector)"
   ]
  },
  {
   "cell_type": "code",
   "execution_count": 11,
   "metadata": {},
   "outputs": [],
   "source": [
    "def sort_coo(coo_matrix):\n",
    "    tuples = zip(coo_matrix.col, coo_matrix.data)\n",
    "    return sorted(tuples, key=lambda x: (x[1], x[0]), reverse=True)\n",
    "\n",
    "def extract_topn_from_vector(feature_names, sorted_items, topn=10):\n",
    "    \"\"\"get the feature names and tf-idf score of top n items\"\"\"\n",
    "    \n",
    "    #use only topn items from vector\n",
    "    sorted_items = sorted_items[:topn]\n",
    "\n",
    "    score_vals = []\n",
    "    feature_vals = []\n",
    "\n",
    "    for idx, score in sorted_items:\n",
    "        fname = feature_names[idx]\n",
    "        \n",
    "        #keep track of feature name and its corresponding score\n",
    "        score_vals.append(round(score, 3))\n",
    "        feature_vals.append(feature_names[idx])\n",
    "\n",
    "    #create a tuples of feature,score\n",
    "    #results = zip(feature_vals,score_vals)\n",
    "    results= {}\n",
    "    for idx in range(len(feature_vals)):\n",
    "        results[feature_vals[idx]]=score_vals[idx]\n",
    "    \n",
    "    return results"
   ]
  },
  {
   "cell_type": "code",
   "execution_count": 12,
   "metadata": {},
   "outputs": [
    {
     "name": "stdout",
     "output_type": "stream",
     "text": [
      "\n",
      "===Keywords===\n",
      "lane 0.132\n",
      "problem 0.141\n",
      "driving 0.117\n",
      "warning 0.137\n",
      "camera 0.133\n",
      "control 0.127\n",
      "brake 0.17\n",
      "cruise 0.123\n",
      "dealer 0.133\n",
      "collision 0.134\n"
     ]
    }
   ],
   "source": [
    "# you only needs to do this once\n",
    "feature_names=cv.get_feature_names()\n",
    "\n",
    "# get the document that we want to extract keywords from\n",
    "#doc=docs[0]\n",
    "#doc = str(docs)\n",
    "doc = ''.join(docs)\n",
    "\n",
    "#generate tf-idf for the given document\n",
    "tf_idf_vector=tfidf_transformer.transform(cv.transform([doc]))\n",
    "\n",
    "#sort the tf-idf vectors by descending order of scores\n",
    "sorted_items=sort_coo(tf_idf_vector.tocoo())\n",
    "\n",
    "#extract only the top n; n here is 10\n",
    "keywords=extract_topn_from_vector(feature_names,sorted_items,Num_Words)\n",
    "\n",
    "# now print the results\n",
    "print(\"\\n===Keywords===\")\n",
    "for k in keywords:\n",
    "    print(k,keywords[k])"
   ]
  },
  {
   "cell_type": "markdown",
   "metadata": {},
   "source": [
    "For complaints not related to ADAS:"
   ]
  },
  {
   "cell_type": "code",
   "execution_count": 13,
   "metadata": {},
   "outputs": [
    {
     "data": {
      "text/plain": [
       "(112418, 10000)"
      ]
     },
     "execution_count": 13,
     "metadata": {},
     "output_type": "execute_result"
    }
   ],
   "source": [
    "cv=CountVectorizer(max_df=0.85,stop_words=stopwords,max_features=10000)\n",
    "word_count_vector_0=cv.fit_transform(docs_0)\n",
    "word_count_vector_0.shape"
   ]
  },
  {
   "cell_type": "code",
   "execution_count": 14,
   "metadata": {},
   "outputs": [
    {
     "data": {
      "text/plain": [
       "TfidfTransformer(norm='l2', smooth_idf=True, sublinear_tf=False, use_idf=True)"
      ]
     },
     "execution_count": 14,
     "metadata": {},
     "output_type": "execute_result"
    }
   ],
   "source": [
    "tfidf_transformer=TfidfTransformer(smooth_idf=True,use_idf=True)\n",
    "tfidf_transformer.fit(word_count_vector_0)"
   ]
  },
  {
   "cell_type": "code",
   "execution_count": 15,
   "metadata": {},
   "outputs": [
    {
     "name": "stdout",
     "output_type": "stream",
     "text": [
      "\n",
      "===Keywords===\n",
      "time 0.116\n",
      "failure 0.201\n",
      "problem 0.136\n",
      "driving 0.142\n",
      "engine 0.138\n",
      "contact 0.268\n",
      "issue 0.133\n",
      "manufacturer 0.121\n",
      "dealer 0.154\n",
      "recall 0.14\n"
     ]
    }
   ],
   "source": [
    "# you only needs to do this once\n",
    "feature_names_0=cv.get_feature_names()\n",
    "\n",
    "# get the document that we want to extract keywords from\n",
    "#doc=docs[0]\n",
    "#doc = str(docs)\n",
    "doc_0 = ''.join(docs_0)\n",
    "\n",
    "#generate tf-idf for the given document\n",
    "tf_idf_vector_0=tfidf_transformer.transform(cv.transform([doc_0]))\n",
    "\n",
    "#sort the tf-idf vectors by descending order of scores\n",
    "sorted_items_0=sort_coo(tf_idf_vector_0.tocoo())\n",
    "\n",
    "#extract only the top n; n here is 10\n",
    "keywords_0=extract_topn_from_vector(feature_names_0,sorted_items_0,Num_Words)\n",
    "\n",
    "# now print the results\n",
    "print(\"\\n===Keywords===\")\n",
    "for k in keywords_0:\n",
    "    print(k,keywords_0[k])"
   ]
  },
  {
   "cell_type": "markdown",
   "metadata": {},
   "source": [
    "Comparison of keywords"
   ]
  },
  {
   "cell_type": "code",
   "execution_count": 16,
   "metadata": {},
   "outputs": [],
   "source": [
    "keywords_df = pd.DataFrame(list(keywords.items()), columns=['Word', 'TfIdf'])\n",
    "keywords_df.label=1"
   ]
  },
  {
   "cell_type": "code",
   "execution_count": 17,
   "metadata": {},
   "outputs": [],
   "source": [
    "keywords_0_df = pd.DataFrame(list(keywords_0.items()), columns=['Word', 'TfIdf'])\n",
    "keywords_0_df.label=0"
   ]
  },
  {
   "cell_type": "code",
   "execution_count": 18,
   "metadata": {},
   "outputs": [],
   "source": [
    "dfs = [keywords_df,keywords_0_df]"
   ]
  },
  {
   "cell_type": "code",
   "execution_count": 19,
   "metadata": {},
   "outputs": [],
   "source": [
    "def plot_tfidf_classfeats_h(dfs):\n",
    "    ''' Plot the data frames returned by the function plot_tfidf_classfeats(). '''\n",
    "    fig = plt.figure(figsize=(12, 9), facecolor=\"w\")\n",
    "    x = np.arange(len(dfs[0]))\n",
    "    for i, df in enumerate(dfs):\n",
    "        ax = fig.add_subplot(1, len(dfs), i+1)\n",
    "        ax.spines[\"top\"].set_visible(False)\n",
    "        ax.spines[\"right\"].set_visible(False)\n",
    "        ax.set_frame_on(False)\n",
    "        ax.get_xaxis().tick_bottom()\n",
    "        ax.get_yaxis().tick_left()\n",
    "        ax.set_xlabel(\"Mean Tf-Idf Score\", labelpad=16, fontsize=14)\n",
    "        ax.set_title(\"label = \" + str(df.label), fontsize=16)\n",
    "        ax.ticklabel_format(axis='x', style='sci', scilimits=(-2,2))\n",
    "        ax.barh(x, df.TfIdf, align='center', color='#9ecae1')\n",
    "        ax.set_yticks(x)\n",
    "        ax.set_ylim([-1, x[-1]+1])\n",
    "        yticks = ax.set_yticklabels(df.Word)\n",
    "        plt.subplots_adjust(bottom=0.09, right=0.97, left=0.15, top=0.95, wspace=0.52)\n",
    "    plt.show()"
   ]
  },
  {
   "cell_type": "code",
   "execution_count": 20,
   "metadata": {},
   "outputs": [
    {
     "data": {
      "image/png": "[encoded data removed]",
      "text/plain": [
       "<Figure size 864x648 with 2 Axes>"
      ]
     },
     "metadata": {},
     "output_type": "display_data"
    }
   ],
   "source": [
    "plot_tfidf_classfeats_h(dfs)"
   ]
  },
  {
   "cell_type": "markdown",
   "metadata": {},
   "source": [
    "## Data Preprocessing II"
   ]
  },
  {
   "cell_type": "code",
   "execution_count": 21,
   "metadata": {
    "scrolled": true
   },
   "outputs": [
    {
     "name": "stdout",
     "output_type": "stream",
     "text": [
      "[['release', 'button', 'for', 'emergency', 'brake', 'broke', 'and', 'came', 'off', 'unable', 'to', 'set', 'parking', 'brake', 'because', 'won', 'be', 'able', 'to', 'release', 'it', 'ford', 'service', 'informed', 'me', 'that', 'it', 'was', 'trim', 'issue', 'and', 'was', 'not', 'covered', 'by', 'warranty', 'can', 'not', 'set', 'the', 'parking', 'brake', 'which', 'leaves', 'the', 'danger', 'of', 'the', 'car', 'rolling', 'while', 'parked', 'and', 'injuring', 'someone', 'went', 'to', 'the', 'parts', 'department', 'out', 'of', 'desperation', 'to', 'order', 'the', 'button', 'and', 'was', 'told', 'the', 'entire', 'parking', 'brake', 'assyembly', 'had', 'to', 'be', 'replaced', 'at', 'over', 'that', 'does', 'not', 'sound', 'like', 'trim', 'issue', 'to', 'me', 'joe', 'cooper', 'ford', 'tulsa', 'oklahoma', 'js']]\n"
     ]
    }
   ],
   "source": [
    "def sent_to_words(sentences):\n",
    "    for sentence in sentences:\n",
    "        yield(gensim.utils.simple_preprocess(str(sentence), deacc=True))  # deacc=True removes punctuations\n",
    "\n",
    "data_words = list(sent_to_words(docs))\n",
    "\n",
    "print(data_words[:1])"
   ]
  },
  {
   "cell_type": "code",
   "execution_count": 22,
   "metadata": {},
   "outputs": [
    {
     "name": "stderr",
     "output_type": "stream",
     "text": [
      "c:\\users\\user\\appdata\\local\\programs\\python\\python35\\lib\\site-packages\\gensim\\models\\phrases.py:598: UserWarning: For a faster implementation, use the gensim.models.phrases.Phraser class\n",
      "  warnings.warn(\"For a faster implementation, use the gensim.models.phrases.Phraser class\")\n"
     ]
    },
    {
     "name": "stdout",
     "output_type": "stream",
     "text": [
      "['release', 'button', 'for', 'emergency', 'brake', 'broke', 'and', 'came', 'off', 'unable', 'to', 'set', 'parking', 'brake', 'because', 'won', 'be', 'able', 'to', 'release', 'it', 'ford', 'service', 'informed', 'me', 'that', 'it', 'was', 'trim', 'issue', 'and', 'was', 'not', 'covered', 'by', 'warranty', 'can', 'not', 'set', 'the', 'parking', 'brake', 'which', 'leaves', 'the', 'danger', 'of', 'the', 'car', 'rolling', 'while', 'parked', 'and', 'injuring', 'someone', 'went', 'to', 'the', 'parts', 'department', 'out', 'of', 'desperation', 'to', 'order', 'the', 'button', 'and', 'was', 'told', 'the', 'entire', 'parking', 'brake', 'assyembly', 'had', 'to', 'be', 'replaced', 'at', 'over', 'that', 'does', 'not', 'sound', 'like', 'trim', 'issue', 'to', 'me', 'joe', 'cooper', 'ford', 'tulsa', 'oklahoma', 'js']\n"
     ]
    }
   ],
   "source": [
    "# Build the bigram and trigram models\n",
    "bigram = gensim.models.Phrases(data_words, min_count=5, threshold=100) # higher threshold fewer phrases.\n",
    "trigram = gensim.models.Phrases(bigram[data_words], threshold=100)  \n",
    "\n",
    "# Faster way to get a sentence clubbed as a trigram/bigram\n",
    "bigram_mod = gensim.models.phrases.Phraser(bigram)\n",
    "trigram_mod = gensim.models.phrases.Phraser(trigram)\n",
    "\n",
    "# See trigram example\n",
    "print(trigram_mod[bigram_mod[data_words[0]]])"
   ]
  },
  {
   "cell_type": "code",
   "execution_count": 23,
   "metadata": {},
   "outputs": [],
   "source": [
    "def remove_stopwords(texts):\n",
    "    return [[word for word in simple_preprocess(str(doc)) if word not in stop_words] for doc in texts]\n",
    "\n",
    "def make_bigrams(texts):\n",
    "    return [bigram_mod[doc] for doc in texts]\n",
    "\n",
    "def make_trigrams(texts):\n",
    "    return [trigram_mod[bigram_mod[doc]] for doc in texts]\n",
    "\n",
    "def lemmatization(texts, allowed_postags=['NOUN', 'ADJ', 'VERB', 'ADV']):\n",
    "    \"\"\"https://spacy.io/api/annotation\"\"\"\n",
    "    texts_out = []\n",
    "    for sent in texts:\n",
    "        doc = nlp(\" \".join(sent)) \n",
    "        texts_out.append([token.lemma_ for token in doc if token.pos_ in allowed_postags])\n",
    "    return texts_out"
   ]
  },
  {
   "cell_type": "code",
   "execution_count": 24,
   "metadata": {},
   "outputs": [],
   "source": [
    "# NLTK Stop words\n",
    "from nltk.corpus import stopwords\n",
    "stop_words = stopwords.words('english')\n",
    "stop_words.extend(['ford', 'honda', 'toyota', 'chrysler', 'subaru','kia','cherokee','jeep','gm','nissan','audi','car','vehicle'])"
   ]
  },
  {
   "cell_type": "code",
   "execution_count": 25,
   "metadata": {},
   "outputs": [],
   "source": [
    "#!python -m spacy download en"
   ]
  },
  {
   "cell_type": "code",
   "execution_count": 26,
   "metadata": {},
   "outputs": [
    {
     "name": "stdout",
     "output_type": "stream",
     "text": [
      "[['release', 'button', 'emergency', 'brake', 'break', 'come', 'unable', 'set', 'parking', 'brake', 'able', 'release', 'service', 'inform', 'trim', 'issue', 'cover', 'warranty', 'set', 'parking', 'brake', 'leave', 'danger', 'roll', 'park', 'injure', 'someone', 'go', 'part', 'department', 'desperation', 'order', 'button', 'tell', 'entire', 'parking', 'brake', 'assyembly', 'replace', 'sound', 'trim', 'issue', 'joe', 'cooper', 'tulsa', 'oklahoma']]\n"
     ]
    }
   ],
   "source": [
    "# Remove Stop Words\n",
    "data_words_nostops = remove_stopwords(data_words)\n",
    "\n",
    "# Form Bigrams\n",
    "data_words_bigrams = make_trigrams(data_words_nostops)\n",
    "\n",
    "# Initialize spacy 'en' model, keeping only tagger component (for efficiency)\n",
    "# python3 -m spacy download en\n",
    "nlp = spacy.load('en', disable=['parser', 'ner'])\n",
    "\n",
    "# Do lemmatization keeping only noun, adj, vb, adv\n",
    "data_lemmatized = lemmatization(data_words_bigrams, allowed_postags=['NOUN', 'ADJ', 'VERB', 'ADV'])\n",
    "\n",
    "print(data_lemmatized[:1])"
   ]
  },
  {
   "cell_type": "code",
   "execution_count": 27,
   "metadata": {},
   "outputs": [
    {
     "name": "stdout",
     "output_type": "stream",
     "text": [
      "[[(0, 1), (1, 1), (2, 4), (3, 1), (4, 2), (5, 1), (6, 1), (7, 1), (8, 1), (9, 1), (10, 1), (11, 1), (12, 1), (13, 1), (14, 1), (15, 1), (16, 2), (17, 1), (18, 1), (19, 1), (20, 1), (21, 1), (22, 3), (23, 1), (24, 2), (25, 1), (26, 1), (27, 1), (28, 2), (29, 1), (30, 1), (31, 1), (32, 2), (33, 1), (34, 1), (35, 1)]]\n"
     ]
    }
   ],
   "source": [
    "# Create Dictionary\n",
    "id2word = corpora.Dictionary(data_lemmatized)\n",
    "\n",
    "# Create Corpus\n",
    "texts = data_lemmatized\n",
    "\n",
    "# Term Document Frequency\n",
    "corpus = [id2word.doc2bow(text) for text in texts]\n",
    "\n",
    "# View\n",
    "print(corpus[:1])"
   ]
  },
  {
   "cell_type": "code",
   "execution_count": 28,
   "metadata": {
    "scrolled": true
   },
   "outputs": [
    {
     "data": {
      "text/plain": [
       "[[('able', 1),\n",
       "  ('assyembly', 1),\n",
       "  ('brake', 4),\n",
       "  ('break', 1),\n",
       "  ('button', 2),\n",
       "  ('come', 1),\n",
       "  ('cooper', 1),\n",
       "  ('cover', 1),\n",
       "  ('danger', 1),\n",
       "  ('department', 1),\n",
       "  ('desperation', 1),\n",
       "  ('emergency', 1),\n",
       "  ('entire', 1),\n",
       "  ('go', 1),\n",
       "  ('inform', 1),\n",
       "  ('injure', 1),\n",
       "  ('issue', 2),\n",
       "  ('joe', 1),\n",
       "  ('leave', 1),\n",
       "  ('oklahoma', 1),\n",
       "  ('order', 1),\n",
       "  ('park', 1),\n",
       "  ('parking', 3),\n",
       "  ('part', 1),\n",
       "  ('release', 2),\n",
       "  ('replace', 1),\n",
       "  ('roll', 1),\n",
       "  ('service', 1),\n",
       "  ('set', 2),\n",
       "  ('someone', 1),\n",
       "  ('sound', 1),\n",
       "  ('tell', 1),\n",
       "  ('trim', 2),\n",
       "  ('tulsa', 1),\n",
       "  ('unable', 1),\n",
       "  ('warranty', 1)]]"
      ]
     },
     "execution_count": 28,
     "metadata": {},
     "output_type": "execute_result"
    }
   ],
   "source": [
    "# Human readable format of corpus (term-frequency)\n",
    "[[(id2word[id], freq) for id, freq in cp] for cp in corpus[:1]]"
   ]
  },
  {
   "cell_type": "markdown",
   "metadata": {},
   "source": [
    "## Preparation for LSA"
   ]
  },
  {
   "cell_type": "code",
   "execution_count": 29,
   "metadata": {},
   "outputs": [],
   "source": [
    "tfidf = gensim.models.TfidfModel(corpus)"
   ]
  },
  {
   "cell_type": "code",
   "execution_count": 30,
   "metadata": {},
   "outputs": [],
   "source": [
    "corpus_tfidf = tfidf[corpus]"
   ]
  },
  {
   "cell_type": "markdown",
   "metadata": {},
   "source": [
    "## Model comparison"
   ]
  },
  {
   "cell_type": "code",
   "execution_count": 31,
   "metadata": {},
   "outputs": [],
   "source": [
    "def compute_coherence_values_lda(dictionary, corpus, texts, limit, start=2, step=3):\n",
    "    \"\"\"\n",
    "    Compute c_v coherence for various number of topics\n",
    "\n",
    "    Parameters:\n",
    "    ----------\n",
    "    dictionary : Gensim dictionary\n",
    "    corpus : Gensim corpus\n",
    "    texts : List of input texts\n",
    "    limit : Max num of topics\n",
    "\n",
    "    Returns:\n",
    "    -------\n",
    "    model_list : List of LDA topic models\n",
    "    coherence_values : Coherence values corresponding to the LDA model with respective number of topics\n",
    "    \"\"\"\n",
    "    coherence_values = []\n",
    "    model_list = []\n",
    "    for num_topics in range(start, limit, step):\n",
    "        model = gensim.models.ldamodel.LdaModel(corpus=corpus, num_topics=num_topics, id2word=id2word,random_state=100,update_every=1,chunksize=10, passes=10,\n",
    "                                               alpha='auto')\n",
    "        model_list.append(model)\n",
    "        coherencemodel = CoherenceModel(model=model, texts=texts, dictionary=dictionary, coherence='c_v')\n",
    "        coherence_values.append(coherencemodel.get_coherence())\n",
    "\n",
    "    return model_list, coherence_values"
   ]
  },
  {
   "cell_type": "code",
   "execution_count": 32,
   "metadata": {},
   "outputs": [],
   "source": [
    "# Can take a long time to run.\n",
    "lda_model_list, lda_coherence_values = compute_coherence_values_lda(dictionary=id2word, corpus=corpus, texts=data_lemmatized, start=2, limit=60, step=4)"
   ]
  },
  {
   "cell_type": "code",
   "execution_count": 33,
   "metadata": {},
   "outputs": [],
   "source": [
    "def compute_coherence_values_lsa(dictionary, corpus, texts, limit, start=2, step=3):\n",
    "    \"\"\"\n",
    "    Compute c_v coherence for various number of topics\n",
    "\n",
    "    Parameters:\n",
    "    ----------\n",
    "    dictionary : Gensim dictionary\n",
    "    corpus : Gensim corpus\n",
    "    texts : List of input texts\n",
    "    limit : Max num of topics\n",
    "\n",
    "    Returns:\n",
    "    -------\n",
    "    model_list : List of LSA topic models\n",
    "    coherence_values : Coherence values corresponding to the LSA model with respective number of topics\n",
    "    \"\"\"\n",
    "    coherence_values = []\n",
    "    model_list = []\n",
    "    for num_topics in range(start, limit, step):\n",
    "        model = gensim.models.lsimodel.LsiModel(corpus=corpus, num_topics=num_topics, id2word=id2word)\n",
    "        model_list.append(model)\n",
    "        coherencemodel = CoherenceModel(model=model, texts=texts, dictionary=dictionary, coherence='c_v')\n",
    "        coherence_values.append(coherencemodel.get_coherence())\n",
    "\n",
    "    return model_list, coherence_values"
   ]
  },
  {
   "cell_type": "code",
   "execution_count": 34,
   "metadata": {},
   "outputs": [],
   "source": [
    "# Can take a long time to run.\n",
    "lsa_model_list, lsa_coherence_values = compute_coherence_values_lsa(dictionary=id2word, corpus=corpus_tfidf, texts=data_lemmatized, start=2, limit=60, step=4)"
   ]
  },
  {
   "cell_type": "code",
   "execution_count": 35,
   "metadata": {},
   "outputs": [
    {
     "data": {
      "image/png": "[encoded data removed]",
      "text/plain": [
       "<Figure size 432x288 with 1 Axes>"
      ]
     },
     "metadata": {
      "needs_background": "light"
     },
     "output_type": "display_data"
    }
   ],
   "source": [
    "# Show graph\n",
    "limit=60; start=2; step=4;\n",
    "x = range(start, limit, step)\n",
    "plt.plot(x, lda_coherence_values,color=\"red\")\n",
    "plt.plot(x, lsa_coherence_values,color=\"blue\")\n",
    "plt.xlabel(\"Num Topics\")\n",
    "plt.ylabel(\"Coherence score\")\n",
    "plt.legend([\"LDA\",\"LSA\"])\n",
    "plt.show()"
   ]
  },
  {
   "cell_type": "code",
   "execution_count": 36,
   "metadata": {},
   "outputs": [
    {
     "name": "stdout",
     "output_type": "stream",
     "text": [
      "LDA model of Num Topics = 2  has Coherence Value of 0.31\n",
      "LDA model of Num Topics = 6  has Coherence Value of 0.32\n",
      "LDA model of Num Topics = 10  has Coherence Value of 0.32\n",
      "LDA model of Num Topics = 14  has Coherence Value of 0.31\n",
      "LDA model of Num Topics = 18  has Coherence Value of 0.34\n",
      "LDA model of Num Topics = 22  has Coherence Value of 0.36\n",
      "LDA model of Num Topics = 26  has Coherence Value of 0.38\n",
      "LDA model of Num Topics = 30  has Coherence Value of 0.38\n",
      "LDA model of Num Topics = 34  has Coherence Value of 0.41\n",
      "LDA model of Num Topics = 38  has Coherence Value of 0.42\n",
      "LDA model of Num Topics = 42  has Coherence Value of 0.42\n",
      "LDA model of Num Topics = 46  has Coherence Value of 0.44\n",
      "LDA model of Num Topics = 50  has Coherence Value of 0.44\n",
      "LDA model of Num Topics = 54  has Coherence Value of 0.45\n",
      "LDA model of Num Topics = 58  has Coherence Value of 0.45\n"
     ]
    }
   ],
   "source": [
    "# Print the coherence scores of LDA model\n",
    "for m, cv in zip(x, lda_coherence_values):\n",
    "    print(\"LDA model of Num Topics =\", m, \" has Coherence Value of\", round(cv, 2))"
   ]
  },
  {
   "cell_type": "code",
   "execution_count": 37,
   "metadata": {},
   "outputs": [
    {
     "name": "stdout",
     "output_type": "stream",
     "text": [
      "LSA model of Num Topics = 2  has Coherence Value of 0.49\n",
      "LSA model of Num Topics = 6  has Coherence Value of 0.43\n",
      "LSA model of Num Topics = 10  has Coherence Value of 0.33\n",
      "LSA model of Num Topics = 14  has Coherence Value of 0.33\n",
      "LSA model of Num Topics = 18  has Coherence Value of 0.31\n",
      "LSA model of Num Topics = 22  has Coherence Value of 0.3\n",
      "LSA model of Num Topics = 26  has Coherence Value of 0.31\n",
      "LSA model of Num Topics = 30  has Coherence Value of 0.3\n",
      "LSA model of Num Topics = 34  has Coherence Value of 0.29\n",
      "LSA model of Num Topics = 38  has Coherence Value of 0.3\n",
      "LSA model of Num Topics = 42  has Coherence Value of 0.31\n",
      "LSA model of Num Topics = 46  has Coherence Value of 0.3\n",
      "LSA model of Num Topics = 50  has Coherence Value of 0.29\n",
      "LSA model of Num Topics = 54  has Coherence Value of 0.29\n",
      "LSA model of Num Topics = 58  has Coherence Value of 0.3\n"
     ]
    }
   ],
   "source": [
    "# Print the coherence scores of LSA model\n",
    "for m, cv in zip(x, lsa_coherence_values):\n",
    "    print(\"LSA model of Num Topics =\", m, \" has Coherence Value of\", round(cv, 2))"
   ]
  },
  {
   "cell_type": "code",
   "execution_count": 38,
   "metadata": {
    "scrolled": true
   },
   "outputs": [
    {
     "name": "stdout",
     "output_type": "stream",
     "text": [
      "[(23,\n",
      "  '0.070*\"deceleration\" + 0.064*\"service_department\" + 0.059*\"wiring\" + '\n",
      "  '0.054*\"usually\" + 0.037*\"live\" + 0.036*\"lka\" + 0.033*\"significant\" + '\n",
      "  '0.028*\"recover\" + 0.027*\"husband\" + 0.025*\"figure\"'),\n",
      " (45,\n",
      "  '0.091*\"sit\" + 0.089*\"picture\" + 0.082*\"distance\" + 0.053*\"collide\" + '\n",
      "  '0.043*\"least\" + 0.036*\"warm\" + 0.030*\"maintain\" + 0.030*\"cabin\" + '\n",
      "  '0.025*\"forget\" + 0.023*\"barrier\"'),\n",
      " (36,\n",
      "  '0.079*\"sometimes\" + 0.054*\"console\" + 0.044*\"far\" + 0.037*\"land\" + '\n",
      "  '0.033*\"disappear\" + 0.033*\"acura\" + 0.027*\"uncheck\" + 0.020*\"flat_tire\" + '\n",
      "  '0.020*\"vary\" + 0.020*\"interior\"'),\n",
      " (12,\n",
      "  '0.096*\"local\" + 0.053*\"record\" + 0.046*\"mechanic\" + 0.039*\"lucky\" + '\n",
      "  '0.035*\"track\" + 0.034*\"handle\" + 0.031*\"half\" + 0.023*\"rail\" + 0.020*\"alfa\" '\n",
      "  '+ 0.018*\"free\"'),\n",
      " (50,\n",
      "  '0.076*\"detect\" + 0.045*\"marking\" + 0.043*\"residential\" + 0.042*\"morning\" + '\n",
      "  '0.032*\"fully\" + 0.029*\"produce\" + 0.026*\"technology\" + 0.025*\"upload\" + '\n",
      "  '0.025*\"care\" + 0.025*\"document\"'),\n",
      " (20,\n",
      "  '0.204*\"due\" + 0.102*\"night\" + 0.045*\"weather\" + 0.041*\"daytime\" + '\n",
      "  '0.031*\"active\" + 0.029*\"jerk\" + 0.025*\"scared\" + 0.022*\"reprogramm\" + '\n",
      "  '0.022*\"app\" + 0.020*\"flow\"'),\n",
      " (46,\n",
      "  '0.195*\"electrical\" + 0.072*\"rd\" + 0.054*\"barely\" + 0.047*\"water\" + '\n",
      "  '0.039*\"house\" + 0.032*\"poorly\" + 0.028*\"harness\" + 0.021*\"bumper\" + '\n",
      "  '0.019*\"utilize\" + 0.018*\"seal\"'),\n",
      " (22,\n",
      "  '0.160*\"change\" + 0.063*\"head\" + 0.045*\"trunk\" + 0.041*\"safe\" + '\n",
      "  '0.036*\"initial\" + 0.026*\"mode\" + 0.024*\"throttle\" + 0.022*\"national\" + '\n",
      "  '0.021*\"merced\" + 0.021*\"length\"'),\n",
      " (29,\n",
      "  '0.074*\"heavy\" + 0.046*\"startup\" + 0.040*\"range\" + 0.040*\"none\" + '\n",
      "  '0.039*\"cycle\" + 0.031*\"temperature\" + 0.029*\"dog\" + 0.024*\"empty\" + '\n",
      "  '0.023*\"outside\" + 0.020*\"advise\"'),\n",
      " (24,\n",
      "  '0.077*\"dashboard\" + 0.060*\"oliver\" + 0.057*\"connect\" + 0.038*\"terrible\" + '\n",
      "  '0.036*\"owner\" + 0.029*\"business\" + 0.027*\"learn\" + 0.025*\"downhill\" + '\n",
      "  '0.023*\"amber\" + 0.023*\"rate\"'),\n",
      " (7,\n",
      "  '0.097*\"keep\" + 0.097*\"move\" + 0.085*\"even\" + 0.070*\"away\" + 0.060*\"steer\" + '\n",
      "  '0.050*\"flash\" + 0.050*\"center\" + 0.047*\"assistance\" + 0.047*\"last\" + '\n",
      "  '0.034*\"beep\"'),\n",
      " (5,\n",
      "  '0.097*\"display\" + 0.092*\"purchase\" + 0.071*\"call\" + 0.067*\"blind_spot\" + '\n",
      "  '0.064*\"error\" + 0.053*\"battery\" + 0.036*\"odometer\" + 0.032*\"total\" + '\n",
      "  '0.032*\"small\" + 0.030*\"detection\"'),\n",
      " (18,\n",
      "  '0.307*\"camera\" + 0.148*\"fail\" + 0.124*\"control\" + 0.051*\"much\" + '\n",
      "  '0.033*\"properly\" + 0.023*\"long\" + 0.022*\"disengage\" + 0.021*\"constantly\" + '\n",
      "  '0.020*\"possible\" + 0.013*\"check_engine_light\"'),\n",
      " (27,\n",
      "  '0.150*\"also\" + 0.139*\"make\" + 0.123*\"say\" + 0.066*\"many\" + 0.063*\"year\" + '\n",
      "  '0.048*\"do\" + 0.041*\"recall\" + 0.038*\"gas\" + 0.036*\"think\" + '\n",
      "  '0.029*\"difficult\"'),\n",
      " (13,\n",
      "  '0.193*\"warning\" + 0.094*\"alert\" + 0.079*\"several\" + 0.059*\"not\" + '\n",
      "  '0.052*\"new\" + 0.044*\"can\" + 0.038*\"information\" + 0.035*\"signal\" + '\n",
      "  '0.028*\"dangerous\" + 0.026*\"package\"'),\n",
      " (1,\n",
      "  '0.337*\"system\" + 0.169*\"problem\" + 0.115*\"work\" + 0.083*\"collision\" + '\n",
      "  '0.034*\"fix\" + 0.029*\"still\" + 0.025*\"pull\" + 0.022*\"rain\" + 0.022*\"include\" '\n",
      "  '+ 0.018*\"wheel\"'),\n",
      " (35,\n",
      "  '0.162*\"drive\" + 0.087*\"light\" + 0.070*\"truck\" + 0.064*\"collision\" + '\n",
      "  '0.053*\"warn\" + 0.052*\"engage\" + 0.049*\"may\" + 0.045*\"forward\" + '\n",
      "  '0.043*\"turn\" + 0.040*\"highway\"'),\n",
      " (52,\n",
      "  '0.088*\"lane\" + 0.081*\"dealer\" + 0.079*\"take\" + 0.052*\"back\" + '\n",
      "  '0.045*\"adaptive_cruise_control\" + 0.040*\"sensor\" + 0.037*\"turn\" + '\n",
      "  '0.035*\"leave\" + 0.031*\"find\" + 0.031*\"apply\"'),\n",
      " (32,\n",
      "  '0.105*\"issue\" + 0.100*\"time\" + 0.063*\"safety\" + 0.053*\"happen\" + '\n",
      "  '0.047*\"would\" + 0.042*\"get\" + 0.038*\"mile\" + 0.037*\"dealership\" + '\n",
      "  '0.032*\"need\" + 0.031*\"use\"'),\n",
      " (10,\n",
      "  '0.166*\"brake\" + 0.069*\"front\" + 0.067*\"stop\" + 0.042*\"go\" + 0.039*\"mph\" + '\n",
      "  '0.037*\"road\" + 0.035*\"come\" + 0.034*\"speed\" + 0.032*\"could\" + '\n",
      "  '0.030*\"emergency\"')]\n"
     ]
    }
   ],
   "source": [
    "# Select the model and print the topics\n",
    "optimal_model = lda_model_list[13]\n",
    "model_topics = optimal_model.show_topics(formatted=False)\n",
    "pprint(optimal_model.print_topics(num_words=10))"
   ]
  },
  {
   "cell_type": "code",
   "execution_count": 39,
   "metadata": {},
   "outputs": [
    {
     "name": "stdout",
     "output_type": "stream",
     "text": [
      "\n",
      "Perplexity:  -7.899201004171363\n",
      "\n",
      "Coherence Score:  0.44846375338991745\n"
     ]
    }
   ],
   "source": [
    "# Compute Perplexity\n",
    "print('\\nPerplexity: ', optimal_model.log_perplexity(corpus))  # a measure of how good the model is. lower the better.\n",
    "\n",
    "# Compute Coherence Score\n",
    "coherence_model_lda = CoherenceModel(model=optimal_model, texts=data_lemmatized, dictionary=id2word, coherence='c_v')\n",
    "coherence_lda = coherence_model_lda.get_coherence()\n",
    "print('\\nCoherence Score: ', coherence_lda)"
   ]
  },
  {
   "cell_type": "code",
   "execution_count": 40,
   "metadata": {},
   "outputs": [
    {
     "name": "stderr",
     "output_type": "stream",
     "text": [
      "c:\\users\\user\\appdata\\local\\programs\\python\\python35\\lib\\site-packages\\pyLDAvis\\_prepare.py:257: FutureWarning: Sorting because non-concatenation axis is not aligned. A future version\n",
      "of pandas will change to not sort by default.\n",
      "\n",
      "To accept the future behavior, pass 'sort=False'.\n",
      "\n",
      "To retain the current behavior and silence the warning, pass 'sort=True'.\n",
      "\n",
      "  return pd.concat([default_term_info] + list(topic_dfs))\n"
     ]
    },
    {
     "data": {
      "text/html": [
       "\n",
       "<link rel=\"stylesheet\" type=\"text/css\" href=\"https://cdn.rawgit.com/bmabey/pyLDAvis/files/ldavis.v1.0.0.css\">\n",
       "\n",
       "\n",
       "<div id=\"ldavis_el1528422949447101127155203086\"></div>\n",
       "<script type=\"text/javascript\">\n",
       "\n",
       "var ldavis_el1528422949447101127155203086_data = {\"token.table\": {\"Term\": [\"aaa\", \"ab\", \"ability\", \"able\", \"abnormal\", \"abreast\", \"abrupt\", \"abruptly\", \"absolutely\", \"acc\", \"accelerate\", \"accelerated\", \"acceleration\", \"accelerator\", \"accept\", \"accessory\", \"accident\", \"accident\", \"accord\", \"acid\", \"acknowledge\", \"act\", \"activate\", \"active\", \"actually\", \"acura\", \"ad\", \"adaptive_cruise\", \"adaptive_cruise_control\", \"add\", \"addition\", \"additional\", \"address\", \"addtionally\", \"adjacent\", \"adjust\", \"adjustment\", \"admit\", \"advertise\", \"advertised\", \"advertising\", \"advise\", \"advisor\", \"aeb\", \"aftersal\", \"age\", \"agency\", \"ago\", \"agree\", \"ahead\", \"air\", \"alarm\", \"alert\", \"alfa\", \"alignment\", \"allegedly\", \"allow\", \"almost\", \"alone\", \"already\", \"also\", \"always\", \"amber\", \"ambulance\", \"america\", \"amount\", \"analysis\", \"angle\", \"annoying\", \"answer\", \"anti\", \"anti_lock\", \"anymore\", \"anyone\", \"anything\", \"app\", \"apparent_reason\", \"apparently\", \"appear\", \"apple\", \"application\", \"apply\", \"appointment\", \"appose\", \"approach\", \"appropriate\", \"approx\", \"approximate\", \"approximately\", \"appx\", \"april\", \"area\", \"around\", \"assembly\", \"assist\", \"assistance\", \"assistant\", \"associate\", \"associated\", \"assume\", \"assurance\", \"asterisk\", \"atla\", \"attach\", \"attempt\", \"attention\", \"audible\", \"audio\", \"austin\", \"auto\", \"autobrak\", \"automate\", \"automatic\", \"autonomous\", \"autopilot\", \"autozone\", \"available\", \"avodiance\", \"avoid\", \"avoidance\", \"aware\", \"away\", \"awd\", \"baby\", \"back\", \"backing\", \"backup\", \"backup_camera\", \"backwards\", \"bad\", \"balance\", \"balloon\", \"barely\", \"barrier\", \"base\", \"basic\", \"battery\", \"bcm\", \"because\", \"become\", \"beep\", \"beeping\", \"begin\", \"behind\", \"belief\", \"believe\", \"better\", \"big\", \"bill\", \"bind\", \"black\", \"blame\", \"blank\", \"blind_spot\", \"blind_spot_detection\", \"blind_spot_monitor\", \"blindingly\", \"blindspot\", \"blinker\", \"blk\", \"block\", \"blow\", \"bluetooth\", \"blurry\", \"blvd\", \"board\", \"body\", \"bogg\", \"bolt\", \"book\", \"booster\", \"bottom\", \"boulder\", \"box\", \"brake\", \"brakea\", \"braking\", \"brand_new\", \"break\", \"breaking\", \"bridge\", \"brightness\", \"broken\", \"bug\", \"buick\", \"bulletin\", \"bumped\", \"bumper\", \"bumper\", \"bundle\", \"burn\", \"business\", \"busy\", \"butt\", \"buttock\", \"button\", \"buy\", \"ca\", \"cabin\", \"cable\", \"calibration\", \"california\", \"call\", \"caller\", \"calmly\", \"camera\", \"camper\", \"camry\", \"can\", \"capability\", \"capture\", \"car\", \"cara\", \"care\", \"case\", \"cause\", \"celsius\", \"cement\", \"center\", \"ceo\", \"certain\", \"cgi\", \"change\", \"changed\", \"charge\", \"check\", \"check_engine_light\", \"chest\", \"chevrolet\", \"child\", \"circumstance\", \"city\", \"claim\", \"clean\", \"clear\", \"clearly\", \"click\", \"clicking\", \"climb\", \"close\", \"closed\", \"closely\", \"cloud\", \"clubman\", \"clue\", \"cluster\", \"cmb\", \"coast\", \"cockpit\", \"code\", \"colleague\", \"collide\", \"collided\", \"collision\", \"collision\", \"collision\", \"collison\", \"collusion\", \"com\", \"come\", \"comfort\", \"comfortable\", \"comment\", \"common\", \"communicate\", \"commuter\", \"company\", \"comparable\", \"compare\", \"compensation\", \"complain\", \"complaint\", \"completely\", \"complicated\", \"component\", \"compressor\", \"computer\", \"concern\", \"concerned\", \"concrete\", \"condition\", \"conditioner\", \"confirm\", \"confirmed\", \"confused\", \"connect\", \"connection\", \"connector\", \"consider\", \"considerably\", \"consistently\", \"console\", \"constant\", \"constantly\", \"construction\", \"consumer_write\", \"contact\", \"contact_own\", \"contact_stat\", \"contacting\", \"continue\", \"continuously\", \"control\", \"controller\", \"conversation\", \"cool\", \"copy\", \"corner\", \"corp\", \"corporate\", \"correctly\", \"cost\", \"could\", \"countertop\", \"couple\", \"cover\", \"crack\", \"crash\", \"crashed\", \"create\", \"critical\", \"cross\", \"cross_traffic\", \"crossing\", \"cruise_control\", \"crv\", \"cue\", \"culvert\", \"cup\", \"curb\", \"curiously\", \"currently\", \"customer\", \"cycle\", \"cycling\", \"cylinder\", \"daily\", \"dalla\", \"damage\", \"damaged\", \"danbury\", \"danger\", \"dangerous\", \"dangerously\", \"dark\", \"dash\", \"dashboard\", \"database\", \"date\", \"daughter\", \"day\", \"daylight\", \"daytime\", \"dead\", \"deadly\", \"dealer\", \"dealership\", \"dealrship\", \"death\", \"debris\", \"decelerate\", \"deceleration\", \"december\", \"decide\", \"decline\", \"deductible\", \"deeply\", \"definitely\", \"defogger\", \"degrease\", \"degree\", \"delay\", \"denver\", \"departue\", \"departure\", \"deploy\", \"depress\", \"depressed\", \"depth\", \"descent\", \"described\", \"description\", \"design\", \"desire\", \"desperately\", \"destination\", \"detect\", \"detection\", \"determine\", \"deterrent\", \"develop\", \"device\", \"diagnose\", \"diagnostic\", \"dick\", \"didna\", \"difference\", \"difficult\", \"dim\", \"dimly\", \"dimmer\", \"direction\", \"directly\", \"dirty\", \"disability\", \"disable\", \"disabled\", \"disappear\", \"disappointed\", \"disappointing\", \"disarm\", \"disclose\", \"disconnect\", \"disconnected\", \"discover\", \"discuss\", \"discussion\", \"disengage\", \"disgust\", \"display\", \"distance\", \"distract\", \"distraction\", \"district\", \"do\", \"document\", \"dodge\", \"doesna\", \"dog\", \"dona\", \"door\", \"doorbell\", \"downhill\", \"download\", \"downpayment\", \"drift\", \"drive\", \"drive\", \"driver\", \"drivetrain\", \"driveway\", \"driving\", \"drop\", \"dry\", \"due\", \"duplicate\", \"durango\", \"duty\", \"dynamic\", \"early\", \"easily\", \"east\", \"easy\", \"ecu\", \"effort\", \"elantra\", \"electric\", \"electrical\", \"electronic\", \"else\", \"email\", \"emergency\", \"emission\", \"emmission\", \"emphasize\", \"employee\", \"empty\", \"enclave\", \"encounter\", \"end\", \"ending\", \"engage\", \"engaged\", \"engagement\", \"engaging\", \"engine\", \"engineer\", \"enhance\", \"enhanced\", \"enough\", \"entertainment\", \"entire\", \"envision\", \"episode\", \"equip\", \"error\", \"error_message\", \"especially\", \"essential\", \"ethernet\", \"evasive\", \"even\", \"even\", \"even_though\", \"evening\", \"event\", \"ever\", \"everyone\", \"everything\", \"evidence\", \"exact\", \"example\", \"exceed\", \"exhaust\", \"exist\", \"existent\", \"exit\", \"exl\", \"expect\", \"experience\", \"explain\", \"express\", \"expressway\", \"extend\", \"extremely\", \"eye\", \"eyesight\", \"face\", \"fact\", \"factory\", \"fahrenheit\", \"fail\", \"failure\", \"failure_mileage\", \"fall\", \"false\", \"family\", \"fan\", \"far\", \"fast\", \"faub\", \"fault\", \"faulty\", \"fca\", \"fcw\", \"fcws\", \"fear\", \"feature\", \"feb\", \"february\", \"feel\", \"feel_safe\", \"fence\", \"fiat\", \"fight\", \"figure\", \"file\", \"filter\", \"finally\", \"find\", \"fine\", \"fire\", \"first\", \"fix\", \"flash\", \"flashing\", \"flat\", \"flat_tire\", \"flaw\", \"flip\", \"floor\", \"florida\", \"flow\", \"fob\", \"foil\", \"follow\", \"foot\", \"footage\", \"force\", \"forcefully\", \"forester\", \"forget\", \"form\", \"fort\", \"fortunately\", \"forum\", \"forward\", \"fourth\", \"frame\", \"free\", \"freedom\", \"freeway\", \"freeze\", \"frequently\", \"friday\", \"friend\", \"front\", \"frontal\", \"fsc\", \"fuel\", \"full\", \"fully\", \"function\", \"functional\", \"funtionly\", \"funxtion\", \"furnish\", \"furthermore\", \"fuse\", \"fusion\", \"future\", \"garage\", \"gas\", \"gateway\", \"gauge\", \"gear\", \"gearshift\", \"general\", \"generate\", \"genesis\", \"gentle\", \"get\", \"give\", \"glare\", \"glich\", \"glitch\", \"gmail\", \"gmc\", \"go\", \"go\", \"good\", \"gps\", \"grab\", \"granite\", \"gray\", \"green\", \"grill\", \"grind\", \"grocery\", \"ground\", \"guarantee\", \"guess\", \"guidance\", \"guide\", \"gutter\", \"half\", \"hand\", \"handle\", \"hannah\", \"happen\", \"haptic\", \"hard\", \"harness\", \"hat\", \"hatch\", \"haywire\", \"hazard\", \"hazardous\", \"head\", \"headlight\", \"hear\", \"heat\", \"heater\", \"heavy\", \"help\", \"helpful\", \"hesitate\", \"high\", \"highlander\", \"highly\", \"highway\", \"hill\", \"hinrich\", \"hit\", \"hold\", \"hollow\", \"home\", \"honk\", \"hop\", \"hope\", \"horn\", \"horrible\", \"hospital\", \"hot\", \"hour\", \"house\", \"housing\", \"houston\", \"however\", \"hrs\", \"https\", \"huge\", \"human\", \"humidity\", \"hundred\", \"hurt\", \"husband\", \"hvac\", \"hwy\", \"hypothesis\", \"hyundai\", \"ice\", \"icon\", \"ide\", \"identifiable\", \"identify\", \"idk\", \"idle\", \"ignition\", \"ignore\", \"iihs\", \"illuminate\", \"image\", \"imagine\", \"immediate\", \"immediately\", \"impact\", \"impend\", \"important\", \"impossible\", \"improve\", \"inappropriate\", \"inappropriately\", \"inch\", \"incident\", \"incline\", \"include\", \"inconvenience\", \"incorrect\", \"incorrectly\", \"increasingly\", \"incredibly\", \"indicate\", \"indication\", \"indicator\", \"inevitable\", \"infiniti\", \"info\", \"informaiton\", \"information\", \"information_act_foia\", \"informed\", \"infotainment\", \"infront\", \"initial\", \"initialization\", \"initially\", \"injure\", \"injury\", \"inoperable\", \"inside\", \"inspect\", \"instal\", \"installation\", \"instance\", \"instead\", \"institute\", \"instrument_cluster\", \"instrument_panel\", \"instrumention\", \"insulate\", \"insurance\", \"insurance_company\", \"intake\", \"intellilink\", \"intend\", \"interested\", \"interior\", \"intermittantly\", \"intermittent\", \"intermittently\", \"internal\", \"intersection\", \"interstate\", \"interval\", \"intervention\", \"investigate\", \"investigation\", \"involve\", \"iphone\", \"ish\", \"island\", \"issue\", \"ita\", \"item\", \"jack\", \"jammed\", \"january\", \"jerk\", \"jobsite\", \"join\", \"journey\", \"jump\", \"june\", \"keep\", \"keepnupdat\", \"kerkorian\", \"key\", \"kick\", \"kid\", \"kill\", \"kilometer\", \"kne\", \"know\", \"land\", \"lane\", \"lane_departure\", \"language\", \"large\", \"last\", \"lastly\", \"latch\", \"late\", \"later\", \"lawsuit\", \"lcd\", \"ldw\", \"lead\", \"leak\", \"learn\", \"lease\", \"least\", \"leave\", \"leesburg\", \"left\", \"leg\", \"lemon_law\", \"length\", \"less\", \"letter\", \"level\", \"lift\", \"liftgate\", \"light\", \"lighthouse\", \"lighting\", \"like\", \"likely\", \"limit\", \"limitation\", \"limited\", \"line\", \"link\", \"list\", \"literature\", \"little\", \"live\", \"lka\", \"load\", \"local\", \"locate\", \"location\", \"lock\", \"long\", \"longer\", \"look\", \"lose\", \"loss\", \"lot\", \"loud\", \"love\", \"low\", \"lower\", \"luckily\", \"lucky\", \"lumbar\", \"lurch\", \"magnetic\", \"mail\", \"main\", \"maintain\", \"major\", \"make\", \"making\", \"malfunction\", \"malfunctiona\", \"malfuntion\", \"malibu\", \"manage\", \"maniflord\", \"manual\", \"manually\", \"manufacture\", \"manufacturer\", \"many\", \"map\", \"march\", \"marginally\", \"mark\", \"market\", \"marking\", \"master\", \"matic\", \"matter\", \"maximum\", \"may\", \"mazda\", \"mbusa\", \"md\", \"mdx\", \"mean\", \"mechanic\", \"mechanism\", \"median\", \"medium\", \"meet\", \"memory\", \"mention\", \"merced\", \"mercede\", \"mercedes_benz\", \"message\", \"metal\", \"mgr\", \"mid\", \"middle\", \"mil\", \"mile\", \"mileage\", \"miles_per_hour\", \"min\", \"mindful\", \"mine\", \"minimum\", \"minor\", \"minute\", \"mirror\", \"miserable\", \"misguide\", \"mitigation\", \"mode\", \"model\", \"moderate\", \"module\", \"moisture\", \"moment\", \"monitor\", \"monitoring\", \"month\", \"morning\", \"mostly\", \"mother\", \"motion\", \"motor\", \"motorist\", \"mount\", \"mountain\", \"move\", \"moving\", \"mph\", \"much\", \"multiple\", \"museum\", \"music\", \"must\", \"name\", \"narrowly\", \"national\", \"nationally\", \"nature\", \"navigation\", \"near\", \"nearby\", \"need\", \"neighborhood\", \"network\", \"neutral\", \"never\", \"new\", \"next\", \"nhsta\", \"nhtsa\", \"night\", \"niro\", \"niussan\", \"noice\", \"noise\", \"non\", \"none\", \"normal\", \"normally\", \"north\", \"not\", \"nothing\", \"nothing_wrong\", \"notice\", \"noticeable\", \"notification\", \"notify\", \"november\", \"ntsb\", \"numerous\", \"object\", \"obliterate\", \"obstruction\", \"obtain\", \"occasion\", \"occupant\", \"occupy\", \"occur\", \"occuranc\", \"occurrence\", \"odd\", \"odometer\", \"offer\", \"office\", \"offline\", \"often\", \"oil\", \"ok\", \"old\", \"oliver\", \"oncoming_traffic\", \"one\", \"ongoing\", \"online\", \"open\", \"opening\", \"operable\", \"operate\", \"operating\", \"operational\", \"opinion\", \"opportunity\", \"option\", \"order\", \"original\", \"ota\", \"other\", \"outline\", \"outside\", \"overhead\", \"overheat\", \"override\", \"own\", \"owner\", \"ownership\", \"pacakage\", \"package\", \"pain\", \"palm\", \"panel\", \"panic\", \"par\", \"paragraph\", \"parameter\", \"park\", \"parking\", \"parking_lot\", \"parking_space\", \"parking_spot\", \"part\", \"partial\", \"partially\", \"particular\", \"pas\", \"pass\", \"passat\", \"passenger_side\", \"past\", \"pay\", \"payment\", \"pcs\", \"pdf\", \"pedal\", \"pend\", \"people\", \"perception\", \"perform\", \"performance\", \"period\", \"permanently\", \"permit\", \"persist\", \"personally\", \"peruse\", \"petal\", \"philadelphia\", \"phillip\", \"phoenix\", \"phone\", \"photo\", \"physical\", \"pick\", \"pickup\", \"picture\", \"piece\", \"pillow\", \"pilot\", \"place\", \"placement\", \"plan\", \"plastic\", \"play\", \"playing\", \"pm\", \"pocket\", \"point\", \"poistion\", \"pole\", \"police_report\", \"pong\", \"poor\", \"poorly\", \"pop\", \"porsche\", \"portion\", \"pose\", \"position\", \"possible\", \"possibly\", \"post\", \"power\", \"power_steer\", \"power_steering\", \"powered\", \"practically\", \"pray\", \"pre\", \"precede\", \"precision\", \"premature\", \"prematurely\", \"premier\", \"premium\", \"presafe\", \"present\", \"press\", \"pressing\", \"pressure\", \"prevent\", \"previous\", \"previously\", \"primary\", \"prime\", \"prior\", \"prius\", \"private\", \"probability\", \"probably\", \"problem\", \"problematic\", \"proceed\", \"process\", \"produce\", \"product\", \"programming\", \"promote\", \"prompt\", \"proof\", \"proper\", \"properly\", \"property\", \"protect\", \"protection\", \"provide\", \"proximity\", \"public\", \"pull\", \"purchase\", \"purpose\", \"pursuant\", \"push\", \"put\", \"question\", \"quick\", \"quickly\", \"quit\", \"quite\", \"radar\", \"rader\", \"radio\", \"rail\", \"railroad\", \"rain\", \"ram\", \"ramp\", \"random\", \"randomly\", \"range\", \"rapid\", \"rapidly\", \"rate\", \"rather\", \"rattle\", \"rd\", \"reach\", \"react\", \"read\", \"reader\", \"realize\", \"really\", \"rear\", \"rear_end\", \"rear_view\", \"reasonable\", \"reassurance\", \"reboot\", \"rebooting\", \"recall\", \"receive\", \"recently\", \"recess\", \"recognition\", \"recommend\", \"record\", \"recover\", \"recurrent\", \"red\", \"redact\", \"reference\", \"reflector\", \"refuse\", \"regard\", \"regardless\", \"register\", \"regular\", \"relevant\", \"reliability\", \"rely\", \"remain\", \"remind\", \"remote\", \"rental\", \"reoccurr\", \"rep\", \"repair\", \"reparked\", \"repeat\", \"replace\", \"replicate\", \"replication\", \"reply\", \"report\", \"representative\", \"reproduce\", \"reprogramm\", \"request\", \"require\", \"research\", \"reset\", \"residential\", \"resistance\", \"resolution\", \"resolve\", \"respectfully\", \"respond\", \"response\", \"responsive\", \"restart\", \"restarting\", \"result\", \"retainment\", \"retract\", \"retrieve\", \"reverse\", \"richmond\", \"ride\", \"ridiculous\", \"right\", \"rim\", \"ring\", \"risk\", \"road\", \"road_departure_mitigation\", \"roadside\", \"roadway\", \"roatation\", \"rogue\", \"roll\", \"room\", \"root\", \"rough\", \"round\", \"row\", \"rpm\", \"rub\", \"rubber\", \"run\", \"rural\", \"rush\", \"safe\", \"safe\", \"safelty\", \"safely\", \"safety\", \"sale\", \"salesman\", \"santa\", \"saturday\", \"say\", \"scan\", \"scar\", \"scared\", \"scary\", \"score\", \"scratch\", \"screen\", \"seal\", \"seat\", \"seat_belt\", \"seatbelt\", \"sec\", \"second\", \"secondary\", \"secretary\", \"secure\", \"security\", \"sedan\", \"see\", \"seek\", \"seem\", \"seize\", \"sel\", \"selection\", \"selector\", \"self\", \"sell\", \"sense\", \"sensing\", \"sensitive\", \"sensitivity\", \"sensor\", \"separate_occasion\", \"separation\", \"sept\", \"sequence\", \"series\", \"serious\", \"seriously\", \"service\", \"service_department\", \"set\", \"setting\", \"several\", \"shade\", \"shake\", \"shape\", \"share\", \"sheehan\", \"shift\", \"shock\", \"shop\", \"short\", \"shortly\", \"shoulder\", \"show\", \"shut\", \"side\", \"sight\", \"sign\", \"signal\", \"significant\", \"silver\", \"simi\", \"similar\", \"simple\", \"simultaneously\", \"sit\", \"site\", \"situation\", \"situational\", \"skid\", \"slab\", \"slight\", \"slightly\", \"slope\", \"slow\", \"slower\", \"small\", \"smart\", \"snow\", \"snowy\", \"software\", \"software_updat\", \"solution\", \"someone\", \"something\", \"sometimes\", \"son\", \"sonar\", \"sonata\", \"soon\", \"sore\", \"sorry\", \"sound\", \"source\", \"speaker\", \"specialist\", \"specific\", \"specifically\", \"specification\", \"specify\", \"speed\", \"speedometer\", \"spine\", \"sporadic\", \"spot\", \"spreed\", \"spun\", \"spurious\", \"st\", \"stabilitrak\", \"stability\", \"stall\", \"stand\", \"standard\", \"star\", \"start\", \"starter\", \"startling\", \"startup\", \"state\", \"station\", \"stationary\", \"stay\", \"steady\", \"steel\", \"steep\", \"steer\", \"steering\", \"steering_pilot\", \"steering_wheel\", \"step\", \"stereo\", \"sticker\", \"stiff\", \"still\", \"still\", \"stomp\", \"stop\", \"store\", \"straight\", \"strange\", \"street\", \"strike\", \"strongly\", \"strut\", \"subsequently\", \"suburban\", \"succession\", \"sudden\", \"suddenly\", \"suffer\", \"sugar\", \"suggest\", \"suggestion\", \"suite\", \"sun\", \"sunny\", \"supply\", \"support\", \"suppose\", \"supposedly\", \"surely\", \"surface\", \"surprise\", \"surprised\", \"surround\", \"suspect\", \"sustain\", \"suv\", \"swerving\", \"swing\", \"switch\", \"symbol\", \"symptom\", \"system\", \"systemic\", \"tailgate\", \"take\", \"tampa\", \"tape\", \"tar\", \"tech\", \"technician\", \"technology\", \"telematic\", \"telephone\", \"tell\", \"temperature\", \"terrible\", \"tesla\", \"test\", \"tested\", \"testing\", \"text\", \"thankfully\", \"theft\", \"therapist\", \"therefore\", \"think\", \"thirdly\", \"thousand\", \"throttle\", \"throttle_body\", \"tight\", \"time\", \"tiny\", \"tire\", \"tire_pressure\", \"title\", \"tlx\", \"tomorrow\", \"tone\", \"top\", \"total\", \"totally\", \"touareg\", \"touch\", \"tour\", \"tow\", \"town\", \"track\", \"traction\", \"trade\", \"traffic\", \"trailer\", \"transfer\", \"transmission\", \"trap\", \"travel\", \"trigger\", \"truck\", \"trunk\", \"trust\", \"truth\", \"try\", \"tsb\", \"tsp\", \"turbo\", \"turn\", \"turn\", \"turning\", \"tv\", \"ultimately\", \"unable\", \"unacceptable\", \"unannounced\", \"unavailable\", \"uncheck\", \"unchecked\", \"uncomfortable\", \"understand\", \"underwater\", \"undivided\", \"unexpected\", \"unexpectedly\", \"unimpressed\", \"unintended\", \"unintended_acceleration\", \"unintentionally\", \"unit\", \"unknown\", \"unlatch\", \"unlock\", \"unrelated\", \"unsafe\", \"unsettling\", \"unsuspecting\", \"unsync\", \"unusual\", \"update\", \"upgrade\", \"uphill\", \"upload\", \"usa\", \"use\", \"used\", \"useless\", \"usual\", \"usually\", \"utilize\", \"vague\", \"valid\", \"vancouver\", \"variability\", \"variety\", \"various\", \"vary\", \"vaughn\", \"vaughnkerkorian\", \"vegas\", \"veh\", \"vehicle\", \"vehicle\", \"vehicler\", \"vehiclewould\", \"verification\", \"verify\", \"vibrate\", \"vibration\", \"video\", \"videotape\", \"view\", \"vin\", \"virtual\", \"visibility\", \"visit\", \"visual\", \"volkswagen\", \"volt\", \"voltage\", \"vw\", \"wagon\", \"wait\", \"wall\", \"want\", \"warm\", \"warn\", \"warn\", \"warning\", \"warninga\", \"warrant\", \"warranty\", \"warrany\", \"warrenty\", \"watch\", \"water\", \"way\", \"wea\", \"weather\", \"website\", \"week\", \"well\", \"wet\", \"whatsoever\", \"wheel\", \"wheelerbis\", \"wheen\", \"white\", \"whole\", \"wide\", \"widespread\", \"wif\", \"wife\", \"willing\", \"wind\", \"window\", \"windshield\", \"wipe\", \"wire\", \"wiring\", \"wish\", \"witness\", \"wobbling\", \"woebcken\", \"wonder\", \"wook\", \"word\", \"work\", \"worker\", \"working\", \"worried\", \"worse\", \"worth\", \"would\", \"wreck\", \"write\", \"writing\", \"wrong\", \"xxxx\", \"xxxxx\", \"yard\", \"year\", \"year_old\", \"yell\", \"yesterday\", \"yet\", \"youtu\", \"youtube\", \"zone\"], \"Topic\": [37, 15, 32, 36, 18, 28, 47, 13, 46, 20, 31, 4, 31, 31, 39, 33, 1, 2, 6, 5, 26, 17, 1, 49, 19, 52, 39, 3, 3, 13, 41, 6, 43, 36, 7, 43, 14, 19, 6, 37, 40, 47, 40, 32, 49, 44, 30, 15, 23, 24, 16, 15, 6, 51, 40, 25, 1, 37, 27, 28, 7, 21, 44, 53, 29, 18, 13, 27, 20, 19, 48, 39, 25, 41, 15, 49, 17, 9, 1, 45, 31, 3, 47, 46, 3, 41, 33, 13, 2, 21, 13, 27, 50, 38, 14, 11, 44, 39, 48, 39, 49, 23, 34, 4, 3, 22, 6, 22, 6, 2, 31, 39, 1, 11, 33, 20, 29, 50, 1, 5, 16, 11, 32, 5, 3, 23, 34, 43, 32, 20, 19, 45, 48, 53, 42, 44, 10, 23, 15, 5, 11, 32, 13, 21, 36, 3, 42, 10, 44, 10, 28, 15, 10, 10, 32, 48, 43, 11, 19, 50, 33, 46, 14, 12, 36, 51, 52, 44, 5, 46, 24, 41, 36, 49, 1, 6, 1, 20, 2, 22, 13, 43, 34, 44, 7, 26, 30, 3, 48, 39, 39, 44, 28, 25, 25, 36, 3, 51, 53, 38, 6, 23, 10, 28, 31, 8, 53, 36, 6, 19, 44, 4, 53, 50, 26, 9, 28, 25, 11, 43, 39, 45, 42, 35, 10, 2, 8, 53, 11, 43, 54, 26, 28, 33, 15, 9, 30, 30, 53, 22, 26, 9, 20, 24, 42, 22, 27, 31, 24, 26, 30, 53, 21, 3, 4, 5, 12, 18, 27, 1, 25, 9, 52, 39, 50, 51, 42, 43, 33, 46, 42, 39, 28, 33, 13, 46, 14, 2, 33, 34, 21, 18, 34, 36, 50, 44, 16, 45, 17, 21, 23, 52, 26, 8, 41, 18, 3, 18, 18, 52, 1, 32, 8, 31, 45, 23, 47, 48, 37, 54, 5, 40, 1, 47, 45, 29, 46, 3, 36, 16, 22, 46, 10, 10, 4, 25, 11, 47, 40, 41, 53, 10, 11, 47, 48, 51, 41, 51, 15, 19, 18, 29, 6, 39, 43, 21, 44, 45, 26, 37, 15, 37, 49, 27, 52, 3, 2, 29, 29, 25, 18, 54, 4, 25, 34, 29, 41, 37, 53, 47, 14, 38, 7, 29, 12, 34, 31, 22, 36, 36, 19, 16, 3, 39, 42, 22, 50, 10, 36, 52, 37, 43, 20, 40, 20, 11, 52, 7, 48, 49, 43, 39, 43, 37, 27, 22, 22, 52, 41, 42, 7, 30, 29, 35, 17, 22, 51, 8, 20, 10, 53, 37, 32, 49, 7, 50, 42, 26, 47, 34, 23, 41, 44, 12, 28, 47, 3, 4, 38, 5, 34, 4, 17, 13, 49, 15, 5, 53, 5, 41, 9, 31, 10, 20, 21, 31, 31, 48, 17, 43, 33, 1, 44, 36, 49, 19, 47, 19, 41, 30, 24, 4, 4, 36, 36, 35, 3, 20, 24, 7, 18, 9, 11, 38, 19, 10, 27, 41, 49, 44, 40, 7, 11, 28, 39, 22, 54, 47, 12, 45, 47, 27, 18, 9, 32, 21, 37, 5, 28, 3, 28, 46, 25, 34, 26, 28, 15, 6, 33, 9, 28, 8, 18, 18, 17, 26, 26, 53, 52, 19, 35, 43, 29, 16, 6, 5, 22, 24, 13, 13, 1, 19, 12, 8, 50, 54, 24, 50, 33, 3, 4, 9, 2, 5, 11, 23, 17, 52, 37, 53, 17, 21, 49, 30, 53, 4, 1, 35, 16, 32, 39, 53, 38, 51, 28, 8, 4, 9, 45, 51, 30, 9, 46, 41, 54, 37, 1, 41, 16, 42, 24, 50, 19, 51, 50, 46, 49, 33, 45, 22, 41, 35, 7, 48, 31, 36, 30, 40, 39, 12, 44, 2, 19, 21, 7, 45, 51, 41, 1, 12, 28, 14, 12, 47, 30, 31, 25, 46, 13, 13, 50, 32, 37, 52, 31, 51, 14, 51, 20, 2, 54, 1, 48, 49, 9, 28, 10, 28, 42, 37, 4, 16, 46, 47, 28, 23, 8, 19, 37, 15, 4, 17, 43, 1, 5, 18, 4, 49, 54, 11, 34, 12, 12, 13, 4, 48, 35, 18, 3, 50, 33, 7, 33, 35, 51, 15, 54, 45, 40, 47, 32, 15, 10, 50, 44, 54, 40, 17, 30, 17, 25, 13, 43, 41, 14, 25, 34, 46, 22, 24, 54, 22, 22, 33, 4, 41, 5, 11, 40, 16, 9, 21, 26, 14, 15, 41, 24, 45, 36, 6, 30, 22, 8, 31, 42, 47, 36, 29, 3, 44, 8, 27, 27, 40, 15, 14, 43, 10, 32, 19, 51, 12, 34, 50, 43, 16, 43, 52, 20, 16, 5, 14, 24, 9, 23, 51, 37, 22, 24, 28, 47, 52, 2, 35, 17, 53, 23, 33, 49, 12, 31, 46, 17, 48, 11, 7, 51, 30, 41, 35, 27, 28, 25, 1, 52, 3, 5, 28, 3, 11, 53, 47, 26, 2, 54, 46, 12, 46, 13, 44, 6, 53, 3, 26, 38, 25, 14, 42, 1, 11, 17, 12, 48, 4, 52, 37, 29, 26, 8, 29, 22, 9, 52, 54, 44, 37, 54, 54, 52, 51, 43, 39, 2, 8, 17, 2, 32, 9, 21, 17, 40, 31, 53, 15, 51, 25, 12, 51, 13, 21, 53, 26, 7, 48, 35, 7, 50, 29, 25, 50, 19, 24, 7, 18, 7, 42, 13, 42, 29, 23, 50, 51, 42, 10, 14, 4, 18, 44, 54, 18, 46, 51, 31, 37, 32, 19, 52, 8, 42, 42, 18, 20, 23, 26, 24, 5, 9, 2, 18, 33, 31, 37, 27, 53, 48, 23, 10, 25, 39, 20, 42, 45, 38, 13, 18, 45, 27, 33, 20, 50, 19, 34, 33, 16, 31, 16, 21, 11, 46, 1, 8, 1, 54, 19, 41, 30, 8, 42, 51, 26, 11, 27, 45, 2, 21, 54, 12, 2, 6, 20, 32, 22, 49, 34, 51, 50, 17, 39, 47, 1, 32, 23, 6, 2, 20, 13, 19, 29, 3, 33, 4, 5, 21, 49, 15, 25, 15, 32, 50, 1, 51, 16, 20, 10, 43, 22, 46, 20, 9, 12, 20, 44, 14, 23, 16, 27, 22, 37, 14, 16, 18, 47, 18, 50, 39, 29, 8, 42, 15, 51, 47, 6, 23, 53, 32, 44, 19, 50, 6, 34, 36, 27, 25, 42, 49, 26, 12, 36, 30, 48, 48, 3, 12, 35, 9, 21, 7, 43, 46, 25, 14, 28, 15, 50, 17, 26, 27, 49, 14, 17, 16, 46, 30, 34, 12, 47, 34, 44, 26, 14, 10, 19, 23, 23, 23, 53, 34, 25, 47, 30, 37, 12, 34, 17, 45, 4, 41, 7, 36, 34, 24, 42, 37, 48, 46, 21, 10, 49, 3, 8, 53, 7, 9, 7, 44, 40, 38, 49, 4, 22, 5, 36, 51, 49, 43, 40, 13, 17, 17, 35, 23, 41, 21, 45, 19, 15, 40, 15, 40, 22, 5, 39, 45, 15, 50, 7, 20, 38, 38, 38, 51, 8, 15, 33, 44, 40, 20, 23, 5, 10, 38, 30, 9, 25, 19, 24, 2, 46, 39, 3, 50, 46, 51, 51, 5, 23, 37, 26, 32, 47, 22, 32, 44, 23, 9, 48, 39, 23, 13, 35, 6, 20, 24, 1, 33, 39, 31, 17, 44, 7, 21, 6, 40, 24, 49, 51, 54, 7, 21, 30, 39, 24, 15, 39, 32, 28, 49, 15, 40, 6, 14, 45, 35, 30, 52, 45, 18, 30, 29, 29, 10, 52, 14, 2, 50, 42, 49, 29, 20, 39, 45, 50, 36, 11, 41, 44, 31, 6, 33, 35, 8, 9, 44, 8, 32, 2, 24, 9, 23, 14, 11, 10, 6, 1, 45, 33, 25, 40, 36, 12, 34, 40, 51, 29, 49, 17, 48, 35, 35, 49, 50, 39, 42, 50, 16, 2, 28, 45, 52, 22, 7, 30, 49, 49, 38, 43, 11, 13, 48, 2, 8, 53, 34, 2, 44, 47, 46, 38, 43, 19, 20, 2, 38, 43, 30, 16, 40, 24, 16, 53, 25, 47, 3, 47, 29, 27, 47, 14, 2, 10, 12, 54, 1, 11, 6, 29, 38, 29, 41, 52, 16, 7, 21, 32, 45, 9, 14, 17, 4, 13, 21, 6, 54, 21, 47, 6, 40, 54, 53, 27, 1, 20, 15, 34, 21, 25, 14, 3, 50, 10, 16, 13, 49, 14, 9, 11, 29, 12, 52, 53, 19, 32, 7, 53, 53, 4, 32, 32, 12, 8, 31, 44, 46, 1, 16, 25, 48, 23, 50, 53, 36, 43, 48, 45, 35, 34, 8, 20, 13, 42, 20, 47, 3, 22, 36, 16, 5, 54, 34, 11, 40, 11, 14, 7, 41, 9, 25, 5, 35, 54, 1, 16, 3, 41, 34, 4, 15, 52, 34, 35, 48, 1, 2, 27, 18, 21, 4, 40, 8, 15, 16, 6, 43, 45, 19, 26, 46, 40, 47, 48, 34, 21, 50, 36, 30, 43, 51, 5, 54, 37, 3, 30, 30, 50, 6, 8, 50, 48, 28, 12, 47, 44, 16, 26, 40, 8, 10, 22, 48, 25, 27, 7, 31, 41, 42, 18, 13, 2, 42, 40, 27, 27, 18, 33, 39, 8, 10, 33, 43, 27, 45, 31, 17, 51, 8, 11, 21, 3, 14, 9, 29, 1, 27, 4, 42, 27, 11, 25, 26, 25, 36, 3, 4, 14, 43, 32, 12, 54, 54, 18, 52, 28, 25, 42, 28, 20, 22, 47, 44, 14, 30, 31, 46, 11, 53, 31, 5, 30, 21, 26, 28, 16, 13, 45, 18, 50, 7, 2, 31, 8, 37, 54, 48, 51, 47, 20, 5, 50, 18, 52, 51, 51, 49, 26, 1, 3, 36, 36, 54, 23, 17, 19, 45, 30, 24, 18, 24, 41, 31, 6, 43, 48, 10, 29, 40, 4, 12, 39, 53, 3, 4, 6, 7, 13, 29, 29, 35, 33, 48, 37, 27, 49, 28, 2, 9, 13, 37, 5, 7, 50, 22, 5, 50, 33, 52, 34, 40, 20, 33, 4, 23, 32, 54, 37, 16, 5, 43, 12, 50, 32, 5, 47, 46, 17, 5, 51, 2, 12, 14, 52, 27, 44, 44, 24, 7, 29, 47, 17, 27, 52, 33, 42], \"Freq\": [0.8966517448425293, 0.8598732352256775, 0.9474280476570129, 0.9779409766197205, 0.8435251712799072, 0.9009299874305725, 0.913066565990448, 0.9317331314086914, 0.9436811208724976, 0.9776460528373718, 0.9908260107040405, 0.9114224314689636, 0.9837284088134766, 0.9468953609466553, 0.6740913391113281, 0.8525884747505188, 0.7857217192649841, 0.20099858939647675, 0.9414926767349243, 0.4794597029685974, 0.8599335551261902, 0.9114487171173096, 0.9914848804473877, 0.9514570832252502, 0.9292019009590149, 0.8709915280342102, 0.6740913391113281, 0.9620310664176941, 0.9935179352760315, 0.9328974485397339, 0.9860716462135315, 0.8406254649162292, 0.9711726307868958, 0.7887864708900452, 0.8636574745178223, 0.9294791221618652, 0.95502108335495, 0.942682683467865, 0.9515353441238403, 0.8010931611061096, 0.8133808374404907, 0.9332614541053772, 0.7869358062744141, 0.9817773103713989, 0.7422806620597839, 0.8340950608253479, 0.9480842351913452, 0.9510393738746643, 0.9531580805778503, 0.9876482486724854, 0.9747470021247864, 0.9776952266693115, 0.9915563464164734, 0.798842191696167, 0.8821462988853455, 0.8137286901473999, 0.9904038310050964, 0.9884449243545532, 0.8549789786338806, 0.9689106941223145, 0.9941622018814087, 0.9346771836280823, 0.9132108688354492, 0.8374300599098206, 0.8865929245948792, 0.921368420124054, 0.892987847328186, 0.7865591645240784, 0.795229971408844, 0.9151277542114258, 0.9400390386581421, 0.917675256729126, 0.9131662845611572, 0.9322994351387024, 0.96141117811203, 0.8717628717422485, 0.900590717792511, 0.9655444622039795, 0.9817960262298584, 0.8015474677085876, 0.6916904449462891, 0.9895878434181213, 0.8992286324501038, 0.8570020794868469, 0.9861047863960266, 0.8756788372993469, 0.9198834896087646, 0.7913918495178223, 0.9849173426628113, 0.841849684715271, 0.93598473072052, 0.9508509635925293, 0.8874710202217102, 0.5430991649627686, 0.989385187625885, 0.9692701101303101, 0.7789960503578186, 0.6016733050346375, 0.8527653217315674, 0.9478986859321594, 0.7519738674163818, 0.8124725818634033, 0.9375396966934204, 0.9511728286743164, 0.9934303760528564, 0.9665136337280273, 0.9190163612365723, 0.9254025220870972, 0.7983015775680542, 0.9821986556053162, 0.6989119052886963, 0.8622317314147949, 0.9968209266662598, 0.9503777623176575, 0.9492102265357971, 0.795229971408844, 0.9856650233268738, 0.4386235475540161, 0.9919576644897461, 0.9588837623596191, 0.9818012714385986, 0.9826001524925232, 0.9562286734580994, 0.8369899392127991, 0.99363112449646, 0.9553724527359009, 0.8751431107521057, 0.9798813462257385, 0.9545536041259766, 0.9516404271125793, 0.8975064754486084, 0.9112268090248108, 0.9464612007141113, 0.927720844745636, 0.9434979557991028, 0.8340950608253479, 0.9804363250732422, 0.9393025636672974, 0.9751911163330078, 0.9724189639091492, 0.9736296534538269, 0.9634490609169006, 0.972429633140564, 0.9650505781173706, 0.7887864708900452, 0.9883518218994141, 0.695327877998352, 0.9565836191177368, 0.8941897749900818, 0.8834644556045532, 0.9655469059944153, 0.9164476990699768, 0.9559803009033203, 0.9774316549301147, 0.789074182510376, 0.4451253116130829, 0.738052487373352, 0.8562125563621521, 0.8936491012573242, 0.4386235475540161, 0.8910412192344666, 0.6717426776885986, 0.8316956162452698, 0.9080101847648621, 0.6719851493835449, 0.8677959442138672, 0.795966625213623, 0.8340950608253479, 0.9361237287521362, 0.8812227845191956, 0.5080612897872925, 0.9189327359199524, 0.6418488621711731, 0.8462610840797424, 0.9994360208511353, 0.9291638135910034, 0.9633738994598389, 0.9517806768417358, 0.986410915851593, 0.8667532801628113, 0.7500429749488831, 0.8707053661346436, 0.882934033870697, 0.8340950608253479, 0.912634551525116, 0.6643725633621216, 0.8979072570800781, 0.6048682332038879, 0.38491612672805786, 0.6740913391113281, 0.8077449202537537, 0.9471286535263062, 0.907471239566803, 0.8372379541397095, 0.8372379541397095, 0.9875794649124146, 0.9759893417358398, 0.935741662979126, 0.8524973392486572, 0.92997145652771, 0.9407784342765808, 0.879486083984375, 0.9856978058815002, 0.9009299874305725, 0.9054404497146606, 0.9956949949264526, 0.7126444578170776, 0.7887812852859497, 0.974256694316864, 0.9614307880401611, 0.8651703596115112, 0.9933028817176819, 0.7275564670562744, 0.8921158909797668, 0.987834632396698, 0.9917728304862976, 0.9009299874305725, 0.7923399209976196, 0.9684710502624512, 0.43911367654800415, 0.8855264186859131, 0.8166363835334778, 0.9808231592178345, 0.7264883518218994, 0.9300749897956848, 0.9773447513580322, 0.9020246267318726, 0.7275564670562744, 0.8831262588500977, 0.9675417542457581, 0.46249619126319885, 0.9214452505111694, 0.9530348777770996, 0.8875240683555603, 0.9664297103881836, 0.9542577266693115, 0.830194890499115, 0.8979072570800781, 0.5464248061180115, 0.9696365594863892, 0.6288235187530518, 0.9260457158088684, 0.795229971408844, 0.5475759506225586, 0.695327877998352, 0.9162210822105408, 0.8818885087966919, 0.8414758443832397, 0.48190227150917053, 0.9897429347038269, 0.8979072570800781, 0.9284477829933167, 0.7658124566078186, 0.07840484380722046, 0.4340268075466156, 0.4844299256801605, 0.6391218900680542, 0.9365016222000122, 0.9635348916053772, 0.9972103238105774, 0.8372379541397095, 0.8847173452377319, 0.6121335029602051, 0.9493188261985779, 0.8356751799583435, 0.6860442757606506, 0.886405348777771, 0.43911367654800415, 0.9322229027748108, 0.7096075415611267, 0.9351399540901184, 0.982019305229187, 0.9591572880744934, 0.9190066456794739, 0.9295419454574585, 0.8812227845191956, 0.9953001141548157, 0.981569230556488, 0.953067421913147, 0.8681468367576599, 0.972990870475769, 0.9449422955513, 0.9651403427124023, 0.7106119394302368, 0.8180853724479675, 0.9386029839515686, 0.9216919541358948, 0.7124772071838379, 0.9359460473060608, 0.841849684715271, 0.880396842956543, 0.966907262802124, 0.8748404383659363, 0.9473066926002502, 0.8196079730987549, 0.9190604090690613, 0.9838610291481018, 0.9275346994400024, 0.8030334115028381, 0.8980658054351807, 0.9787138104438782, 0.96463543176651, 0.9924137592315674, 0.7941946387290955, 0.9323469400405884, 0.9386942386627197, 0.9062250256538391, 0.9165105819702148, 0.7194674611091614, 0.8804432153701782, 0.9211345911026001, 0.9499838352203369, 0.9929103255271912, 0.8354673385620117, 0.9538823962211609, 0.9688323140144348, 0.9488358497619629, 0.9754195809364319, 0.7106119394302368, 0.9806246161460876, 0.8494386672973633, 0.9608582258224487, 0.9673857092857361, 0.8311734795570374, 0.9810160398483276, 0.9724584221839905, 0.8850439786911011, 0.7466994524002075, 0.8709986209869385, 0.9862584471702576, 0.7275564670562744, 0.9564758539199829, 0.9382851123809814, 0.946690559387207, 0.921417772769928, 0.8902201652526855, 0.9484165906906128, 0.8037253618240356, 0.9840289354324341, 0.7477297186851501, 0.8633062839508057, 0.9367424845695496, 0.9623456001281738, 0.9353224039077759, 0.9340765476226807, 0.9718332886695862, 0.9609667062759399, 0.9040644764900208, 0.94625324010849, 0.9294630289077759, 0.9930315017700195, 0.6721576452255249, 0.9626312255859375, 0.9700958132743835, 0.7813274264335632, 0.9965204000473022, 0.9953683614730835, 0.8381626009941101, 0.8788495063781738, 0.8259707093238831, 0.9127959609031677, 0.9413681030273438, 0.9471181631088257, 0.8809729218482971, 0.84743332862854, 0.8792946934700012, 0.9162808060646057, 0.8985175490379333, 0.535528838634491, 0.7466994524002075, 0.9723652005195618, 0.7881472706794739, 0.8279080986976624, 0.8381626009941101, 0.875548243522644, 0.9568076729774475, 0.9594131112098694, 0.9070125222206116, 0.8926475644111633, 0.6418488621711731, 0.8051819205284119, 0.936181366443634, 0.9911609888076782, 0.4732028543949127, 0.695327877998352, 0.9308657050132751, 0.9650701284408569, 0.9585801959037781, 0.9672940969467163, 0.8980658054351807, 0.8331939578056335, 0.8335258364677429, 0.9837824702262878, 0.8681604862213135, 0.6623120307922363, 0.7587155103683472, 0.8447516560554504, 0.989088773727417, 0.8759011030197144, 0.8310881853103638, 0.768736720085144, 0.8641833662986755, 0.7816232442855835, 0.9710972309112549, 0.8732407093048096, 0.9888921976089478, 0.9325680136680603, 0.870547890663147, 0.920979917049408, 0.695327877998352, 0.8279080986976624, 0.8614860773086548, 0.9537714123725891, 0.7192407250404358, 0.9528071880340576, 0.9272306561470032, 0.6860442757606506, 0.9410223364830017, 0.6623120307922363, 0.9896537661552429, 0.9839833974838257, 0.44060152769088745, 0.85145503282547, 0.7396995425224304, 0.9934741258621216, 0.8953677415847778, 0.8358572125434875, 0.512747585773468, 0.966597855091095, 0.9193066358566284, 0.9929051399230957, 0.848169207572937, 0.8590949177742004, 0.8844273686408997, 0.9009299874305725, 0.7827593684196472, 0.014958145096898079, 0.9847445487976074, 0.9969403147697449, 0.4794597029685974, 0.9859052300453186, 0.9854459166526794, 0.9154073596000671, 0.9467578530311584, 0.9819902777671814, 0.9802495241165161, 0.8177136778831482, 0.8942648768424988, 0.9672507047653198, 0.9523984789848328, 0.9642844796180725, 0.7927491664886475, 0.8060483932495117, 0.8596360683441162, 0.8323124051094055, 0.7447925806045532, 0.893727719783783, 0.9820310473442078, 0.9514049887657166, 0.7955471873283386, 0.8173471093177795, 0.9925803542137146, 0.8810329437255859, 0.7887864708900452, 0.7422806620597839, 0.9520692825317383, 0.9225707054138184, 0.8051819801330566, 0.7821491360664368, 0.9841757416725159, 0.7441673874855042, 0.9920375347137451, 0.9141247272491455, 0.8887462615966797, 0.6509999632835388, 0.9913396239280701, 0.9785091280937195, 0.795229971408844, 0.6066979765892029, 0.9785284996032715, 0.9747313857078552, 0.921945333480835, 0.8347494006156921, 0.9159102439880371, 0.9383764863014221, 0.9830968976020813, 0.8749639391899109, 0.9232949614524841, 0.7422806620597839, 0.8340950608253479, 0.8991802334785461, 0.05430755391716957, 0.9368053078651428, 0.96219402551651, 0.930490255355835, 0.9899393916130066, 0.738166093826294, 0.7466994524002075, 0.8474858999252319, 0.8496309518814087, 0.8065581321716309, 0.8929482698440552, 0.885553240776062, 0.9062005281448364, 0.9171056151390076, 0.9240691661834717, 0.9322398900985718, 0.900443971157074, 0.8826690316200256, 0.9834577441215515, 0.971730649471283, 0.7612215876579285, 0.9081078767776489, 0.8892539143562317, 0.979223906993866, 0.9253886342048645, 0.9812656044960022, 0.9330059289932251, 0.9000290036201477, 0.9335567951202393, 0.9009299874305725, 0.99036705493927, 0.9972014427185059, 0.9015064239501953, 0.9479456543922424, 0.9513238668441772, 0.9473884701728821, 0.4430696666240692, 0.909012496471405, 0.9077906012535095, 0.9255543947219849, 0.9744349718093872, 0.9190776348114014, 0.8559386134147644, 0.941211462020874, 0.8578599691390991, 0.9015109539031982, 0.9908319711685181, 0.757369875907898, 0.915532112121582, 0.9905064702033997, 0.8786736726760864, 0.849375307559967, 0.7928659319877625, 0.6250841617584229, 0.8488039970397949, 0.9762824177742004, 0.4386235475540161, 0.9424301981925964, 0.9908142685890198, 0.917134165763855, 0.8901498913764954, 0.9862407445907593, 0.9931793212890625, 0.9782606363296509, 0.9533166289329529, 0.9279499650001526, 0.8431272506713867, 0.9508828520774841, 0.5464248061180115, 0.886425793170929, 0.9163034558296204, 0.942282497882843, 0.9631264805793762, 0.46813878417015076, 0.9824367165565491, 0.994454562664032, 0.895762026309967, 0.98037189245224, 0.8911548256874084, 0.6722423434257507, 0.8567219376564026, 0.9593525528907776, 0.6860442757606506, 0.8752437233924866, 0.8967162370681763, 0.9917824864387512, 0.9420948624610901, 0.697446346282959, 0.8590993285179138, 0.888555109500885, 0.9717054963111877, 0.9466876983642578, 0.9568202495574951, 0.4761015772819519, 0.8606660962104797, 0.9984885454177856, 0.7861050367355347, 0.975159227848053, 0.8807904124259949, 0.9617895483970642, 0.931991457939148, 0.9821767807006836, 0.756392776966095, 0.4386235475540161, 0.7096075415611267, 0.7422806620597839, 0.9227070212364197, 0.7470508813858032, 0.7543336153030396, 0.829573929309845, 0.9817731976509094, 0.9701802134513855, 0.782200038433075, 0.8964340090751648, 0.9641152024269104, 0.8960604667663574, 0.7954555749893188, 0.8659259676933289, 0.8563501238822937, 0.9134984612464905, 0.9928582310676575, 0.9859530329704285, 0.6246392726898193, 0.8279080986976624, 0.9067162275314331, 0.6860442757606506, 0.8699130415916443, 0.7371466159820557, 0.26274535059928894, 0.9418236613273621, 0.824856162071228, 0.9395462870597839, 0.7466994524002075, 0.8424930572509766, 0.9543604254722595, 0.9111527800559998, 0.8475723266601562, 0.6061300039291382, 0.7973198890686035, 0.8938460946083069, 0.7183844447135925, 0.9176853895187378, 0.8473311066627502, 0.8531226515769958, 0.9624314308166504, 0.966329038143158, 0.8947576880455017, 0.6623120307922363, 0.9971571564674377, 0.9198280572891235, 0.9837542772293091, 0.9329991936683655, 0.7422806620597839, 0.8324747681617737, 0.9009299874305725, 0.9805005192756653, 0.9172348380088806, 0.9675272107124329, 0.8185365796089172, 0.9468026161193848, 0.9035511612892151, 0.9156036376953125, 0.9789151549339294, 0.981776773929596, 0.8845751881599426, 0.84036785364151, 0.9661284685134888, 0.8867620229721069, 0.8963950276374817, 0.9885536432266235, 0.9815624356269836, 0.43911367654800415, 0.9902555346488953, 0.9601514339447021, 0.8926496505737305, 0.9746448993682861, 0.6173436045646667, 0.6311926245689392, 0.8903792500495911, 0.892632246017456, 0.9029250741004944, 0.8472455143928528, 0.8208497762680054, 0.9761159420013428, 0.917685866355896, 0.9004995822906494, 0.8522384762763977, 0.9933068156242371, 0.7377538084983826, 0.8988336324691772, 0.8706384897232056, 0.8806174397468567, 0.9255543947219849, 0.6110204458236694, 0.8928229808807373, 0.9394356608390808, 0.8166363835334778, 0.7528224587440491, 0.8319154977798462, 0.9610986113548279, 0.8107746839523315, 0.9739919304847717, 0.4386235475540161, 0.8977676630020142, 0.6963294148445129, 0.8709986209869385, 0.9610975980758667, 0.9626868963241577, 0.9418865442276001, 0.8372379541397095, 0.9680817723274231, 0.9512302875518799, 0.849326491355896, 0.9284155964851379, 0.986802875995636, 0.9651229977607727, 0.6028774380683899, 0.8855754733085632, 0.9728511571884155, 0.8193929195404053, 0.7543336153030396, 0.9122492074966431, 0.865124523639679, 0.9866352081298828, 0.9068783521652222, 0.9746821522712708, 0.8815822601318359, 0.8561446070671082, 0.8537886738777161, 0.8212915658950806, 0.841849684715271, 0.9563524723052979, 0.8224073648452759, 0.9698081612586975, 0.8504697680473328, 0.7947868704795837, 0.8129140138626099, 0.7887864708900452, 0.9853825569152832, 0.888555109500885, 0.9145292043685913, 0.9655815958976746, 0.6989119052886963, 0.9107785820960999, 0.8319154977798462, 0.8329787254333496, 0.9118292331695557, 0.952562689781189, 0.9384518265724182, 0.9018470644950867, 0.8035550117492676, 0.9059939980506897, 0.7548930048942566, 0.9721854329109192, 0.9463510513305664, 0.43911367654800415, 0.9576665759086609, 0.9435355067253113, 0.8051819801330566, 0.6860442757606506, 0.9513723850250244, 0.9421992301940918, 0.4386235475540161, 0.8560568690299988, 0.9050999283790588, 0.7144895792007446, 0.8537231087684631, 0.795229971408844, 0.940861165523529, 0.9440998435020447, 0.6448362469673157, 0.9737961292266846, 0.9836530089378357, 0.8479796648025513, 0.8165997266769409, 0.9615612030029297, 0.9515682458877563, 0.9608867764472961, 0.9626287817955017, 0.7466994524002075, 0.8671917915344238, 0.9985105991363525, 0.8269367814064026, 0.8734169602394104, 0.5464248061180115, 0.8237076997756958, 0.8498823046684265, 0.9025039076805115, 0.8894263505935669, 0.9054404497146606, 0.8838698267936707, 0.860710859298706, 0.6694255471229553, 0.9869168996810913, 0.8279080986976624, 0.6860442757606506, 0.9863051176071167, 0.8947559595108032, 0.5179439187049866, 0.9463228583335876, 0.9009299874305725, 0.8372379541397095, 0.988538920879364, 0.9647274017333984, 0.9985331892967224, 0.9656054377555847, 0.9009299874305725, 0.9665495157241821, 0.9782555103302002, 0.7183018922805786, 0.8311647176742554, 0.9862747192382812, 0.9788943529129028, 0.6846832633018494, 0.7753134965896606, 0.8331222534179688, 0.961866021156311, 0.8784452676773071, 0.8983793258666992, 0.9403743147850037, 0.9439601302146912, 0.9933673143386841, 0.6288235187530518, 0.9308755993843079, 0.9135692715644836, 0.8682061433792114, 0.8712336421012878, 0.9863032102584839, 0.9145976305007935, 0.903771162033081, 0.8253036141395569, 0.8527653217315674, 0.9940901398658752, 0.8980658054351807, 0.682737410068512, 0.9040815830230713, 0.7771930694580078, 0.9091941118240356, 0.835400402545929, 0.8029594421386719, 0.9801878929138184, 0.6348013877868652, 0.8725438117980957, 0.9186348915100098, 0.8467392325401306, 0.9039027690887451, 0.9380608797073364, 0.8948202133178711, 0.958864688873291, 0.9499729871749878, 0.9731448888778687, 0.9764835238456726, 0.9747316837310791, 0.9775503277778625, 0.9779441952705383, 0.9774965643882751, 0.976114809513092, 0.988267183303833, 0.9010295271873474, 0.9279090762138367, 0.9839053750038147, 0.6015527248382568, 0.9170439839363098, 0.9462569952011108, 0.8372379541397095, 0.9361870884895325, 0.6860442757606506, 0.8372060656547546, 0.9315890669822693, 0.8423294425010681, 0.9702584743499756, 0.9953809976577759, 0.784369945526123, 0.9911339282989502, 0.8279080986976624, 0.4386235475540161, 0.9075782895088196, 0.7763720154762268, 0.4386235475540161, 0.9719778299331665, 0.9456698894500732, 0.938255250453949, 0.9683913588523865, 0.9914063215255737, 0.8441621661186218, 0.9280263185501099, 0.695327877998352, 0.9689403176307678, 0.9340123534202576, 0.9003974199295044, 0.6764542460441589, 0.695327877998352, 0.963634729385376, 0.8237683176994324, 0.9912469983100891, 0.924740195274353, 0.7758655548095703, 0.8190010786056519, 0.9190106391906738, 0.952701985836029, 0.9570099711418152, 0.8403176665306091, 0.7598149180412292, 0.9117546081542969, 0.8383088111877441, 0.6656342148780823, 0.8711441159248352, 0.8674973249435425, 0.8834811449050903, 0.9161443710327148, 0.9850174784660339, 0.9634419083595276, 0.6288235187530518, 0.9086746573448181, 0.9390474557876587, 0.8846282958984375, 0.9915181994438171, 0.9270999431610107, 0.964003324508667, 0.9001594185829163, 0.7092136740684509, 0.9325955510139465, 0.7859026193618774, 0.8569507002830505, 0.9708975553512573, 0.9801819920539856, 0.8372379541397095, 0.6740913391113281, 0.9886495471000671, 0.9223726391792297, 0.9673802852630615, 0.9620867371559143, 0.9767814874649048, 0.8686027526855469, 0.9366991519927979, 0.9780989289283752, 0.7428117990493774, 0.979882001876831, 0.9542630910873413, 0.8547914624214172, 0.9141221046447754, 0.957981288433075, 0.9375078678131104, 0.8910147547721863, 0.9468417167663574, 0.841849684715271, 0.993632972240448, 0.8570020794868469, 0.9962168335914612, 0.9802930355072021, 0.9825369119644165, 0.8214819431304932, 0.9597917795181274, 0.9726440906524658, 0.7529308199882507, 0.9354339241981506, 0.949220597743988, 0.8037253618240356, 0.6099051237106323, 0.9107479453086853, 0.9151694178581238, 0.8935872912406921, 0.9898809790611267, 0.9449558258056641, 0.4461241364479065, 0.9465372562408447, 0.9854965209960938, 0.9882444143295288, 0.9866122007369995, 0.8853209614753723, 0.9173031449317932, 0.9837144613265991, 0.8969852924346924, 0.6860442757606506, 0.8094955682754517, 0.9543442726135254, 0.9594231843948364, 0.9154115915298462, 0.9775222539901733, 0.8724959492683411, 0.9480170011520386, 0.9852113127708435, 0.9785221219062805, 0.8145626783370972, 0.9688885807991028, 0.8948720693588257, 0.8898324370384216, 0.9751114249229431, 0.9004104137420654, 0.8503344058990479, 0.9472202658653259, 0.976546049118042, 0.7422806620597839, 0.9514161944389343, 0.8088304996490479, 0.9685845375061035, 0.6962941288948059, 0.6250841617584229, 0.9933122396469116, 0.6860442757606506, 0.9787973165512085, 0.8018501400947571, 0.985278844833374, 0.8891078233718872, 0.9176329374313354, 0.7473775148391724, 0.8991622924804688, 0.8480942845344543, 0.8737885355949402, 0.957145094871521, 0.9805316925048828, 0.9636532068252563, 0.9602836966514587, 0.972878098487854, 0.9446694850921631, 0.984732985496521, 0.7092136740684509, 0.7139869332313538, 0.9773393869400024, 0.933983325958252, 0.7382534146308899, 0.7862973213195801, 0.753206729888916, 0.9510421752929688, 0.955109179019928, 0.7077165246009827, 0.695327877998352, 0.9502710103988647, 0.8203640580177307, 0.9532660841941833, 0.848881185054779, 0.9074380993843079, 0.7202796339988708, 0.949392557144165, 0.9203662872314453, 0.8661091923713684, 0.4386235475540161, 0.987248957157135, 0.9425947070121765, 0.707417368888855, 0.9598664045333862, 0.9392266273498535, 0.695327877998352, 0.7899571061134338, 0.6288235187530518, 0.9947306513786316, 0.9946048259735107, 0.9771900773048401, 0.7863909602165222, 0.8197239637374878, 0.9838778972625732, 0.8020379543304443, 0.8623300790786743, 0.8631104826927185, 0.9038177132606506, 0.9647591710090637, 0.8765937685966492, 0.8480573892593384, 0.9343163371086121, 0.9615074396133423, 0.9001036882400513, 0.8957943320274353, 0.7213789224624634, 0.9893246293067932, 0.694003164768219, 0.9601291418075562, 0.7422806620597839, 0.9453157186508179, 0.9134113192558289, 0.819990336894989, 0.9536816477775574, 0.8979072570800781, 0.705066978931427, 0.9176965355873108, 0.7466994524002075, 0.8978341221809387, 0.8340950608253479, 0.6288235187530518, 0.8949551582336426, 0.9205025434494019, 0.93194580078125, 0.81932133436203, 0.8608598709106445, 0.9420928359031677, 0.9591619372367859, 0.9252269268035889, 0.8372379541397095, 0.7113250494003296, 0.9707777500152588, 0.9012424349784851, 0.8849780559539795, 0.7851433157920837, 0.9675050377845764, 0.8218170404434204, 0.9728853106498718, 0.8525893092155457, 0.9628661870956421, 0.7887864708900452, 0.8433550000190735, 0.969748854637146, 0.695327877998352, 0.902025580406189, 0.9278898239135742, 0.9281373023986816, 0.8523740172386169, 0.9163489937782288, 0.7422806620597839, 0.9901461601257324, 0.9462760090827942, 0.8892433643341064, 0.9301772713661194, 0.9770787954330444, 0.9273505210876465, 0.8187595009803772, 0.8595439195632935, 0.963688313961029, 0.89019376039505, 0.9845266342163086, 0.9180551767349243, 0.4794597029685974, 0.6573058366775513, 0.8593544960021973, 0.8658539652824402, 0.9435652494430542, 0.8717798590660095, 0.9514925479888916, 0.9896901249885559, 0.9635394811630249, 0.9201036691665649, 0.9764618873596191, 0.9516520500183105, 0.8505332469940186, 0.6898626685142517, 0.8998116850852966, 0.880361795425415, 0.9482462406158447, 0.9359096884727478, 0.8717798590660095, 0.8580036759376526, 0.9980005621910095, 0.7779109477996826, 0.8270436525344849, 0.8602676391601562, 0.903104305267334, 0.9623476266860962, 0.8648954629898071, 0.7703677415847778, 0.9270339012145996, 0.7243092060089111, 0.7961432337760925, 0.975483775138855, 0.9664850234985352, 0.9579853415489197, 0.8977676630020142, 0.9755445122718811, 0.9340965747833252, 0.8723600506782532, 0.9797735214233398, 0.9907817840576172, 0.6239181756973267, 0.9110742807388306, 0.9465551972389221, 0.993134617805481, 0.9226909875869751, 0.6822040677070618, 0.9933555722236633, 0.9570680856704712, 0.7027721405029297, 0.9745930433273315, 0.8094955682754517, 0.9811147451400757, 0.8524684309959412, 0.6860442757606506, 0.976597785949707, 0.9156618118286133, 0.9297897815704346, 0.9225818514823914, 0.9690349698066711, 0.9117874503135681, 0.8624399304389954, 0.89630526304245, 0.921768307685852, 0.955917477607727, 0.8928363919258118, 0.9774542450904846, 0.9279454350471497, 0.8716993927955627, 0.9833771586418152, 0.8171775937080383, 0.8758054375648499, 0.969505250453949, 0.988299548625946, 0.987826406955719, 0.9754965305328369, 0.6690302491188049, 0.7582218647003174, 0.9660609364509583, 0.8340950608253479, 0.9884459376335144, 0.9763339161872864, 0.937424898147583, 0.7652855515480042, 0.48190227150917053, 0.7420574426651001, 0.9695942401885986, 0.9257757067680359, 0.8279080986976624, 0.9873102903366089, 0.888555109500885, 0.6113563179969788, 0.6247871518135071, 0.9165146350860596, 0.930986762046814, 0.9624146819114685, 0.9033392667770386, 0.8155869245529175, 0.8975521922111511, 0.8717798590660095, 0.8860598206520081, 0.9672251343727112, 0.7582413554191589, 0.8778870105743408, 0.8992667198181152, 0.8924638628959656, 0.9573944807052612, 0.9875680804252625, 0.8979071974754333, 0.9197388887405396, 0.9756553173065186, 0.9163691997528076, 0.8980658054351807, 0.7604988217353821, 0.9947636127471924, 0.709587037563324, 0.9319466948509216, 0.8569086790084839, 0.9473750591278076, 0.9537829756736755, 0.954218864440918, 0.9730417728424072, 0.9461376070976257, 0.9208272099494934, 0.8701277375221252, 0.9766404628753662, 0.8977676630020142, 0.9587331414222717, 0.9489585161209106, 0.8274936676025391, 0.9788084030151367, 0.88213711977005, 0.9920894503593445, 0.8340950608253479, 0.8683627247810364, 0.9495083689689636, 0.986832857131958, 0.48190227150917053, 0.8691494464874268, 0.8838431239128113, 0.9948057532310486, 0.7587155103683472, 0.8542327880859375, 0.933800220489502, 0.9978986978530884, 0.9355428814888, 0.9563477635383606, 0.9309988617897034, 0.8709986209869385, 0.8330839276313782, 0.9781845211982727, 0.9449583292007446, 0.9383469223976135, 0.7953588366508484, 0.8136585354804993, 0.7422806620597839, 0.9653415679931641, 0.782200038433075, 0.8194928765296936, 0.9889062643051147, 0.7422806620597839, 0.793312132358551, 0.5862843990325928, 0.37309005856513977, 0.4386235475540161, 0.9530496597290039, 0.9969468116760254, 0.9532592296600342, 0.7628647685050964, 0.8670893907546997, 0.8393097519874573, 0.997234046459198, 0.8191516399383545, 0.9184101819992065, 0.9043282866477966, 0.9127116799354553, 0.8106094002723694, 0.9356721043586731, 0.9942684173583984, 0.902918815612793, 0.9895073771476746, 0.87583988904953, 0.7895413041114807, 0.7078173160552979, 0.9933187961578369, 0.840939998626709, 0.7466994524002075, 0.8157594799995422, 0.9531139135360718, 0.8503144383430481, 0.9948942065238953, 0.789206862449646, 0.9767849445343018, 0.899185836315155, 0.43911367654800415, 0.8555930256843567, 0.8619558811187744, 0.9104556441307068, 0.8474426865577698, 0.9619937539100647, 0.8454532027244568, 0.8452444672584534, 0.8378958106040955, 0.9919427633285522, 0.9421617984771729, 0.9147107601165771, 0.9190140962600708, 0.826452374458313, 0.851603090763092, 0.9847736358642578, 0.9073663949966431, 0.992082417011261, 0.9690716862678528, 0.9895963668823242, 0.9717644453048706, 0.9854444861412048, 0.9193370938301086, 0.8588797450065613, 0.8719852566719055, 0.8310229182243347, 0.8980658054351807, 0.9812753200531006, 0.8716597557067871, 0.9669645428657532, 0.9417704939842224, 0.686133623123169, 0.8421374559402466, 0.9897080659866333, 0.9878132939338684, 0.9855597615242004, 0.9505336880683899, 0.9331819415092468, 0.9701188206672668, 0.8936330080032349, 0.841849684715271, 0.7466994524002075, 0.973499596118927, 0.9037152528762817, 0.46741870045661926, 0.9830217957496643, 0.9464854598045349, 0.9905367493629456, 0.795229971408844, 0.9093729257583618, 0.9108235239982605, 0.9553020000457764, 0.8788720369338989, 0.8103987574577332, 0.9872795343399048, 0.7803085446357727, 0.9756971001625061, 0.9608439803123474, 0.9581630229949951, 0.6624062657356262, 0.9652595520019531, 0.9015285968780518, 0.9669083952903748, 0.9492247700691223, 0.9782947301864624, 0.9558152556419373, 0.8805491328239441, 0.883164644241333, 0.9186678528785706, 0.9613626599311829, 0.6015527248382568, 0.7275564670562744, 0.9910850524902344, 0.8773072361946106, 0.8212288618087769, 0.9301878213882446, 0.9195758104324341, 0.8350469470024109, 0.7612683773040771, 0.8486637473106384, 0.9953823685646057, 0.9571657180786133, 0.9193786978721619, 0.7978543639183044, 0.8266478776931763, 0.4386235475540161, 0.5464248061180115, 0.9275963306427002, 0.906000018119812, 0.7919896245002747, 0.9547686576843262, 0.9664738178253174, 0.8969033360481262, 0.8901298642158508, 0.9600428342819214, 0.9927660226821899, 0.9327090382575989, 0.6623120307922363, 0.9189339876174927, 0.9885870218276978, 0.873190701007843, 0.9632106423377991, 0.9331551194190979, 0.8171302676200867, 0.8298995494842529, 0.9108235239982605, 0.9928649067878723, 0.933384895324707, 0.9516428112983704, 0.9769159555435181, 0.8840636610984802, 0.7704219818115234, 0.9504241943359375, 0.9252268075942993, 0.8594393730163574, 0.1247573271393776, 0.6602879166603088, 0.998414933681488, 0.9689726233482361, 0.9688854217529297, 0.8587562441825867, 0.9581397175788879, 0.9350912570953369, 0.9176530838012695, 0.8609185814857483, 0.7910662889480591, 0.9178370237350464, 0.82761150598526, 0.9895419478416443, 0.9807659983634949, 0.757876992225647, 0.8926496505737305, 0.8985170125961304, 0.9091395139694214, 0.8656373620033264, 0.8811455368995667, 0.9691904187202454, 0.9048457145690918, 0.9817299246788025, 0.9545009732246399, 0.7067505717277527, 0.8496690392494202, 0.9483787417411804, 0.942439079284668, 0.8972315192222595, 0.7925370931625366, 0.81581711769104, 0.7926202416419983, 0.965671718120575, 0.8075690269470215, 0.8425339460372925, 0.9443017840385437, 0.43911367654800415, 0.7816191911697388, 0.9989067912101746, 0.8026670813560486, 0.9743297696113586, 0.9987102150917053, 0.837853729724884, 0.7677422165870667, 0.8726586103439331, 0.9626606702804565, 0.7861629724502563, 0.8770465850830078, 0.782200038433075, 0.8995258212089539, 0.9843153953552246, 0.8952475190162659, 0.9525250792503357, 0.945499062538147, 0.9922950267791748, 0.7780141234397888, 0.8822923302650452, 0.9607983231544495, 0.9393634796142578, 0.7895228266716003, 0.8372379541397095, 0.8920630812644958, 0.9914106726646423, 0.749466061592102, 0.7147932052612305, 0.867565929889679, 0.9353525042533875, 0.9524789452552795, 0.9987630844116211, 0.695327877998352, 0.9738492965698242, 0.8836271166801453, 0.8268038630485535, 0.7602612376213074, 0.9425031542778015, 0.802727460861206, 0.9139872789382935, 0.9524169564247131, 0.8690902590751648, 0.43911367654800415, 0.9316970705986023, 0.7102572321891785, 0.9813486337661743, 0.9532135128974915, 0.9510381817817688, 0.9083508253097534, 0.8886650800704956, 0.9890137910842896, 0.9934201240539551, 0.879986584186554, 0.9845663905143738, 0.8611766695976257, 0.9938689470291138, 0.9365015625953674, 0.9949427247047424, 0.9727450609207153, 0.8873201608657837, 0.7884734272956848, 0.9895647764205933, 0.7008289694786072, 0.8372379541397095, 0.7069661617279053, 0.5472583174705505, 0.44968509674072266, 0.8368865251541138, 0.8106093406677246, 0.8983839750289917, 0.9761330485343933, 0.6714590787887573, 0.6846832036972046, 0.9804432392120361, 0.8998508453369141, 0.9009299874305725, 0.8372379541397095, 0.8639230132102966, 0.9626287817955017, 0.9155654311180115, 0.9389142394065857, 0.8820810914039612, 0.8977676630020142, 0.8676856160163879, 0.9731570482254028, 0.6989119052886963, 0.8831148147583008, 0.7964328527450562, 0.5464248061180115, 0.8402917385101318, 0.9325694441795349, 0.9546827077865601, 0.841849684715271, 0.512747585773468, 0.9009299874305725, 0.9178617000579834, 0.9775963425636292, 0.9360363483428955, 0.8909872174263, 0.8912860155105591, 0.8969762325286865, 0.9945657849311829, 0.9270979762077332, 0.6940348744392395, 0.8250429034233093, 0.9285297989845276, 0.8965474963188171, 0.6860442757606506, 0.8145988583564758, 0.6623120307922363, 0.4794597029685974, 0.7636160850524902, 0.9249199628829956, 0.8439258933067322, 0.6860442757606506, 0.6860442757606506, 0.7234347462654114, 0.7240387797355652, 0.4775422215461731, 0.517337441444397, 0.7887864708900452, 0.7887864708900452, 0.6846832036972046, 0.9278823137283325, 0.9683066010475159, 0.808017373085022, 0.9852465391159058, 0.8689332604408264, 0.9600346684455872, 0.9411781430244446, 0.48190227150917053, 0.8585788607597351, 0.9742562770843506, 0.9784877300262451, 0.9217504858970642, 0.8401297926902771, 0.8613286018371582, 0.9682546257972717, 0.9224721193313599, 0.949596643447876, 0.9472974538803101, 0.9693595767021179, 0.9272483587265015, 0.04437950998544693, 0.9541594982147217, 0.9980734586715698, 0.8279080986976624, 0.9142777323722839, 0.9414684176445007, 0.8381626009941101, 0.9255542159080505, 0.738149881362915, 0.9522439241409302, 0.9859081506729126, 0.9222047328948975, 0.9665420055389404, 0.8847109079360962, 0.9774267673492432, 0.9940328001976013, 0.8838966488838196, 0.918578028678894, 0.9668421745300293, 0.8279080986976624, 0.8094955682754517, 0.9416082501411438, 0.7440937757492065, 0.8625995516777039, 0.8918813467025757, 0.8980658054351807, 0.9742537140846252, 0.9497520327568054, 0.8961014151573181, 0.9731979966163635, 0.915292501449585, 0.879099428653717, 0.9496603012084961, 0.9245302677154541, 0.905732274055481, 0.9221022725105286, 0.8369899392127991, 0.43911367654800415, 0.914576530456543, 0.4386235475540161, 0.9368449449539185, 0.9978291392326355, 0.7466994524002075, 0.9030553698539734, 0.8797667026519775, 0.9027243852615356, 0.6860442757606506, 0.9949904084205627, 0.7110375761985779, 0.9667999744415283, 0.7734914422035217, 0.9848005175590515, 0.8977676630020142, 0.8977676630020142, 0.7936577796936035, 0.993442714214325, 0.9198646545410156, 0.7466993927955627, 0.8751854300498962, 0.9582936763763428, 0.8670893907546997, 0.8373197913169861, 0.8442601561546326]}, \"R\": 30, \"mdsDat\": {\"x\": [-0.24396026222513284, -0.21352745554628794, -0.24915714333255928, -0.2527225215098373, -0.2253820203798737, -0.09391340492977672, -0.07442223733609597, -0.059304231507201134, -0.023054467842545803, -0.04179299593359502, -0.05376952278932031, -0.0692895037959434, -0.038816182436191136, -0.04616988970912374, -0.02266344705676323, -0.026994608765439167, 0.012730963867598713, -0.023320792525438623, 0.0026828926626408724, 0.007820510011430993, -0.005433016612310259, 0.012501785677074774, 0.046585725043167034, 0.036095399846965824, 0.030813112654604114, 0.027604836099731335, 0.035239627672316816, 0.0030652078911327257, 0.02040001817293776, 0.011419540772928463, 0.02285713565340655, 0.04625789987217257, 0.04883824174925515, 0.02208496905153504, 0.030644353043130457, 0.024482810612568105, 0.04032896106541653, 0.059260175029316145, 0.08665307950070204, 0.04913373491162531, 0.06855119560444742, 0.0786411317335088, 0.05927849564924231, 0.034030432916554616, 0.0704985211110133, 0.08814017057745537, 0.036858601937029, 0.0904098116718928, 0.07042660059885855, 0.09317115623429693, 0.10256998931108681, 0.10344758562700308, 0.08806361197119017, 0.10210541842819776], \"topics\": [1, 2, 3, 4, 5, 6, 7, 8, 9, 10, 11, 12, 13, 14, 15, 16, 17, 18, 19, 20, 21, 22, 23, 24, 25, 26, 27, 28, 29, 30, 31, 32, 33, 34, 35, 36, 37, 38, 39, 40, 41, 42, 43, 44, 45, 46, 47, 48, 49, 50, 51, 52, 53, 54], \"cluster\": [1, 1, 1, 1, 1, 1, 1, 1, 1, 1, 1, 1, 1, 1, 1, 1, 1, 1, 1, 1, 1, 1, 1, 1, 1, 1, 1, 1, 1, 1, 1, 1, 1, 1, 1, 1, 1, 1, 1, 1, 1, 1, 1, 1, 1, 1, 1, 1, 1, 1, 1, 1, 1, 1], \"Freq\": [11.497001647949219, 9.108454704284668, 8.423503875732422, 5.825381755828857, 5.035590648651123, 2.642038345336914, 2.5539984703063965, 2.223719596862793, 1.9988739490509033, 1.9562658071517944, 1.9512068033218384, 1.9261541366577148, 1.8344931602478027, 1.7988851070404053, 1.6984730958938599, 1.644378900527954, 1.6306705474853516, 1.5832874774932861, 1.3805992603302002, 1.3782721757888794, 1.3679190874099731, 1.3247926235198975, 1.21607506275177, 1.2022923231124878, 1.170001745223999, 1.164469599723816, 1.1478632688522339, 1.1215382814407349, 1.1108579635620117, 1.1106961965560913, 1.0595489740371704, 1.0505790710449219, 1.0386533737182617, 1.0188668966293335, 1.0181869268417358, 1.0030518770217896, 0.9044431447982788, 0.8883060812950134, 0.8717280030250549, 0.8506011366844177, 0.8408917784690857, 0.8295168280601501, 0.8216460347175598, 0.8162616491317749, 0.8140773773193359, 0.8034420013427734, 0.7986558675765991, 0.7547077536582947, 0.6736884117126465, 0.6628892421722412, 0.657782793045044, 0.611107587814331, 0.5975046157836914, 0.5860975980758667], \"y\": [0.2842715912572559, 0.16720278094774912, -0.15698855343770307, -0.2425793535156657, -0.19176992326322548, 0.038711140715002805, 0.03161647700631881, 0.02396431898324438, 0.011130592253477206, 0.017280076126892016, 0.023602583724453074, 0.14175463360461402, 0.016609692039081345, 0.019106963805107367, 0.011191077869821663, 0.012027821835233128, 0.0014997476214355255, 0.011036250275126783, 0.004374355822340012, 0.003005794076908768, 0.006504710421652065, 0.0012843622698563361, -0.005741177907389193, -0.003061028053846849, -0.0027728888044751972, -0.0014197068890063123, -0.0033585213962332816, 0.0037084081132301035, -0.0002907177072161621, 0.0013276956746212064, -0.0008545019432838598, -0.005637334543812727, -0.006174789095594426, -0.0012782378045056498, -0.02745409492697163, -0.0010325649207604717, -0.0043696400188003625, -0.007226347824708271, -0.012841630787753194, -0.006306741820419023, -0.009284864717477328, -0.012133141827742338, -0.007609687594552613, -0.0035432195528270227, -0.00933116285280764, -0.011970253288025746, -0.004090845450254416, -0.01610322997510278, -0.009619586735559522, -0.012904510394040504, -0.013747235684917059, -0.013931555718659915, -0.012014133454694282, -0.013769892535389546]}, \"lambda.step\": 0.01, \"plot.opts\": {\"xlab\": \"PC1\", \"ylab\": \"PC2\"}, \"topic.order\": [11, 33, 53, 36, 2, 14, 28, 19, 52, 6, 8, 38, 35, 29, 48, 34, 5, 40, 27, 49, 50, 10, 17, 12, 41, 39, 4, 20, 3, 18, 9, 44, 22, 42, 26, 7, 15, 43, 16, 45, 1, 23, 54, 25, 31, 32, 30, 47, 21, 51, 13, 37, 46, 24], \"tinfo\": {\"logprob\": [30.0, 29.0, 28.0, 27.0, 26.0, 25.0, 24.0, 23.0, 22.0, 21.0, 20.0, 19.0, 18.0, 17.0, 16.0, 15.0, 14.0, 13.0, 12.0, 11.0, 10.0, 9.0, 8.0, 7.0, 6.0, 5.0, 4.0, 3.0, 2.0, 1.0, -1.7985999584197998, -2.6770999431610107, -2.707900047302246, -3.2500998973846436, -3.290299892425537, -3.3415000438690186, -3.3880999088287354, -3.430000066757202, -3.4967000484466553, -3.607300043106079, -3.6675000190734863, -3.745300054550171, -3.806999921798706, -3.840399980545044, -4.036799907684326, -4.304100036621094, -4.3267998695373535, -4.351900100708008, -4.411399841308594, -4.435200214385986, -4.438199996948242, -4.441800117492676, -4.476900100708008, -4.549200057983398, -4.6331000328063965, -4.665299892425537, -4.670599937438965, -4.721099853515625, -4.768099784851074, -4.905799865722656, -3.1691999435424805, -4.017199993133545, -4.6066999435424805, -2.2539000511169434, -2.303100109100342, -2.770400047302246, -2.9453001022338867, -3.0601000785827637, -3.158900022506714, -3.269700050354004, -3.3090999126434326, -3.4514999389648438, -3.4646999835968018, -3.711899995803833, -3.746500015258789, -3.8080999851226807, -4.030399799346924, -4.066800117492676, -4.0782999992370605, -4.182400226593018, -4.216400146484375, -4.221199989318848, -4.225200176239014, -4.2270002365112305, -4.25, -4.263999938964844, -4.27239990234375, -4.343400001525879, -4.38730001449585, -4.417099952697754, -4.478499889373779, -4.527500152587891, -4.55109977722168, -2.431999921798706, -2.510999917984009, -2.541800022125244, -2.9583001136779785, -3.106600046157837, -3.2202999591827393, -3.343899965286255, -3.4804000854492188, -3.488600015640259, -3.5443999767303467, -3.734299898147583, -3.8687000274658203, -3.9602999687194824, -4.011499881744385, -4.036300182342529, -4.106299877166748, -4.1290998458862305, -4.242099761962891, -4.243599891662598, -4.331699848175049, -4.351399898529053, -4.382500171661377, -4.412399768829346, -4.454100131988525, -4.470600128173828, -4.513999938964844, -4.577700138092041, -4.600500106811523, -4.859799861907959, -4.888500213623047, -3.3015999794006348, -4.216100215911865, -2.446199893951416, -2.65339994430542, -2.949700117111206, -3.022900104522705, -3.103300094604492, -3.228100061416626, -3.243499994277954, -3.385200023651123, -3.570199966430664, -3.5734000205993652, -3.6034998893737793, -3.6143999099731445, -1.8173999786376953, -3.998199939727783, -4.237800121307373, -4.2778000831604, -4.644899845123291, -4.87060022354126, -4.923600196838379, -4.955100059509277, -4.958199977874756, -2.939199924468994, -5.122600078582764, -5.287700176239014, -5.376399993896484, -5.3831000328063965, -5.506999969482422, -5.635799884796143, -5.86899995803833, -5.96750020980835, -2.7535998821258545, -3.135999917984009, -1.0887000560760498, -1.7806999683380127, -2.166100025177002, -3.377700090408325, -3.674499988555908, -3.815200090408325, -3.835599899291992, -4.027100086212158, -4.082600116729736, -4.304500102996826, -4.430300235748291, -4.522200107574463, -4.684500217437744, -4.690100193023682, -4.693600177764893, -5.390100002288818, -5.459799766540527, -5.473299980163574, -5.564300060272217, -5.890100002288818, -5.93179988861084, -3.525099992752075, -6.3078999519348145, -6.607900142669678, -6.608799934387207, -6.639100074768066, -6.639100074768066, -7.03410005569458, -7.427800178527832, -7.427800178527832, -2.49399995803833, -7.427800178527832, -7.427800178527832, -1.645300030708313, -2.359800100326538, -2.533600091934204, -2.8280999660491943, -2.964400053024292, -3.124500036239624, -3.2720999717712402, -3.358299970626831, -3.5585999488830566, -3.65339994430542, -3.851900100708008, -3.9368999004364014, -4.02370023727417, -4.042300224304199, -4.053400039672852, -4.085999965667725, -4.154099941253662, -4.199100017547607, -4.264800071716309, -4.280700206756592, -4.349299907684326, -4.518599987030029, -4.527100086212158, -4.551199913024902, -4.967800140380859, -4.991099834442139, -5.223999977111816, -5.313499927520752, -5.384799957275391, -5.421299934387207, -1.8948999643325806, -1.9744999408721924, -2.099100112915039, -2.7255001068115234, -2.7569000720977783, -3.0290000438690186, -3.1939001083374023, -3.2720000743865967, -3.319999933242798, -3.552799940109253, -3.610300064086914, -3.706199884414673, -4.211299896240234, -4.2820000648498535, -4.48960018157959, -4.6092000007629395, -4.7204999923706055, -4.770599842071533, -4.848100185394287, -5.0131001472473145, -5.1605000495910645, -5.20359992980957, -5.245299816131592, -5.45419979095459, -5.585400104522705, -5.585400104522705, -5.585400104522705, -5.585400104522705, -5.585400104522705, -5.585400104522705, -5.585400104522705, -5.585400104522705, -1.1819000244140625, -1.9085999727249146, -2.086899995803833, -2.97979998588562, -3.400099992752075, -3.7534000873565674, -3.8159000873565674, -3.876300096511841, -3.9316000938415527, -4.309100151062012, -4.381999969482422, -4.395899772644043, -4.409800052642822, -4.410799980163574, -4.722899913787842, -4.724100112915039, -4.748499870300293, -4.854700088500977, -4.864299774169922, -4.918799877166748, -5.0320000648498535, -5.04640007019043, -5.05649995803833, -5.0868000984191895, -5.326200008392334, -5.384900093078613, -5.465199947357178, -5.583399772644043, -5.607600212097168, -5.751200199127197, -2.0336999893188477, -2.48799991607666, -2.63919997215271, -2.689300060272217, -2.872999906539917, -3.009000062942505, -3.0332000255584717, -3.0543999671936035, -3.523699998855591, -3.570199966430664, -3.833699941635132, -3.9697000980377197, -3.989000082015991, -4.036399841308594, -4.153800010681152, -4.377200126647949, -4.445300102233887, -4.5121002197265625, -4.569900035858154, -4.671000003814697, -4.713799953460693, -4.741099834442139, -4.768700122833252, -4.775599956512451, -4.85830020904541, -4.894700050354004, -4.922500133514404, -4.970099925994873, -5.082499980926514, -5.164299964904785, -2.3348000049591064, -2.3884999752044678, -2.6435999870300293, -2.7076001167297363, -2.751800060272217, -2.9423999786376953, -3.315999984741211, -3.4284000396728516, -3.4532999992370605, -3.5178000926971436, -3.5411999225616455, -3.58489990234375, -3.81469988822937, -3.8747000694274902, -3.9430999755859375, -4.007699966430664, -4.018400192260742, -4.025599956512451, -4.202700138092041, -4.251699924468994, -4.291100025177002, -4.336699962615967, -4.508600234985352, -4.627200126647949, -4.881700038909912, -4.978799819946289, -5.02400016784668, -5.059599876403809, -5.101099967956543, -5.130799770355225, -2.329400062561035, -2.3362998962402344, -2.6554999351501465, -2.819700002670288, -2.9862000942230225, -3.0011000633239746, -3.05430006980896, -3.063800096511841, -3.3722000122070312, -3.5062999725341797, -3.696899890899658, -4.135300159454346, -2.4656999111175537, -4.188899993896484, -4.252900123596191, -4.258299827575684, -4.389400005340576, -4.597300052642822, -4.808000087738037, -4.917200088500977, -4.926499843597412, -5.125999927520752, -5.212299823760986, -5.212299823760986, -5.258200168609619, -5.270299911499023, -5.326900005340576, -5.357800006866455, -5.377500057220459, -5.403299808502197, -1.3353999853134155, -1.9876999855041504, -2.313800096511841, -2.7118000984191895, -3.1038999557495117, -3.401599884033203, -3.911799907684326, -4.217899799346924, -4.315999984741211, -4.646299839019775, -4.683700084686279, -4.7729997634887695, -4.857100009918213, -4.894199848175049, -4.935699939727783, -4.963399887084961, -4.974899768829346, -5.002699851989746, -5.156000137329102, -5.311200141906738, -5.384099960327148, -5.390999794006348, -5.4095001220703125, -5.659599781036377, -5.6971001625061035, -5.707900047302246, -5.734399795532227, -5.751299858093262, -5.859000205993652, -6.007599830627441, -2.416300058364868, -1.4386999607086182, -1.8876999616622925, -2.851799964904785, -2.9052000045776367, -2.9184000492095947, -3.176500082015991, -3.403599977493286, -3.5539000034332275, -3.653899908065796, -3.7230000495910645, -3.780400037765503, -3.8422999382019043, -3.9921998977661133, -4.095799922943115, -4.3694000244140625, -4.443299770355225, -4.571300029754639, -4.610000133514404, -4.675300121307373, -4.682199954986572, -4.76609992980957, -4.980800151824951, -5.13070011138916, -5.136600017547607, -5.148200035095215, -5.268400192260742, -5.3471999168396, -5.73859977722168, -6.114999771118164, -6.126100063323975, -1.9600000381469727, -1.9926999807357788, -2.069999933242798, -2.5994999408721924, -2.9035000801086426, -3.177299976348877, -3.246999979019165, -3.2780001163482666, -3.487299919128418, -3.7197999954223633, -3.7386999130249023, -3.7785000801086426, -3.865799903869629, -4.0920000076293945, -4.158299922943115, -4.642099857330322, -4.717899799346924, -4.755000114440918, -4.79449987411499, -4.8317999839782715, -4.946599960327148, -4.9654998779296875, -4.976600170135498, -4.98390007019043, -5.133699893951416, -5.231100082397461, -5.293399810791016, -5.698400020599365, -5.803400039672852, -5.945700168609619, -2.021399974822998, -2.3696000576019287, -2.8694000244140625, -3.008500099182129, -3.056999921798706, -3.1919000148773193, -3.2053000926971436, -3.296799898147583, -3.443700075149536, -3.4786999225616455, -3.7265000343322754, -3.8761000633239746, -3.892899990081787, -3.8935000896453857, -3.963200092315674, -4.031000137329102, -4.034299850463867, -4.1219000816345215, -4.189799785614014, -4.190199851989746, -4.368800163269043, -4.427199840545654, -4.472499847412109, -4.473899841308594, -4.4969000816345215, -4.520199775695801, -4.574399948120117, -4.774600028991699, -4.79449987411499, -5.152599811553955, -2.5569000244140625, -2.700000047683716, -2.967099905014038, -3.152600049972534, -3.242500066757202, -3.2472000122070312, -3.5206000804901123, -3.5571000576019287, -3.6087000370025635, -3.6751999855041504, -3.718899965286255, -3.721400022506714, -3.82069993019104, -3.884700059890747, -3.9260001182556152, -4.047299861907959, -4.052599906921387, -4.071000099182129, -4.159900188446045, -4.207099914550781, -4.3871002197265625, -4.449100017547607, -4.471099853515625, -4.47160005569458, -4.537199974060059, -4.545000076293945, -4.599299907684326, -4.6153998374938965, -4.6620001792907715, -4.707799911499023, -2.178299903869629, -2.7235000133514404, -3.0078999996185303, -3.0320000648498535, -3.0920000076293945, -3.1082000732421875, -3.248300075531006, -3.6268999576568604, -3.6421000957489014, -3.676300048828125, -3.7467000484466553, -3.836199998855591, -3.8506999015808105, -3.8650999069213867, -4.009799957275391, -4.0721001625061035, -4.0746002197265625, -4.093900203704834, -4.151199817657471, -4.1757001876831055, -4.234499931335449, -4.26609992980957, -4.307799816131592, -4.452099800109863, -4.534299850463867, -4.550600051879883, -4.558700084686279, -4.58489990234375, -4.648200035095215, -4.726600170135498, -1.6442999839782715, -2.095900058746338, -2.5713999271392822, -2.8445000648498535, -2.912400007247925, -3.6940999031066895, -3.7625999450683594, -3.910900115966797, -4.008500099182129, -4.015100002288818, -4.1031999588012695, -4.164899826049805, -4.30049991607666, -4.3958001136779785, -4.437099933624268, -4.460899829864502, -4.508900165557861, -4.575399875640869, -4.597099781036377, -4.746099948883057, -4.754000186920166, -4.756800174713135, -4.808499813079834, -4.877600193023682, -4.899799823760986, -4.922500133514404, -5.005899906158447, -5.04610013961792, -5.130799770355225, -5.200099945068359, -5.200099945068359, -1.604099988937378, -2.0866000652313232, -2.576200008392334, -2.711199998855591, -2.7892000675201416, -3.446199893951416, -3.5315001010894775, -3.6273000240325928, -3.734600067138672, -4.063700199127197, -4.086900234222412, -4.114299774169922, -4.132699966430664, -4.149799823760986, -4.321000099182129, -4.4369001388549805, -4.548900127410889, -4.674300193786621, -4.674300193786621, -4.674300193786621, -4.678299903869629, -4.7210001945495605, -4.736700057983398, -4.80079984664917, -4.803800106048584, -4.833499908447266, -5.009500026702881, -5.0493998527526855, -5.0655999183654785, -5.200300216674805, -1.9215999841690063, -2.0878000259399414, -2.2362000942230225, -2.477299928665161, -2.8691999912261963, -3.252500057220459, -3.3329999446868896, -3.349400043487549, -3.3552000522613525, -3.6507999897003174, -3.6705000400543213, -3.733099937438965, -4.224100112915039, -4.286900043487549, -4.458199977874756, -4.589799880981445, -4.649400234222412, -4.6859002113342285, -4.9303998947143555, -5.014599800109863, -5.433199882507324, -5.573200225830078, -5.573200225830078, -5.573200225830078, -5.573200225830078, -5.573200225830078, -5.836100101470947, -5.836100101470947, -5.836100101470947, -5.836100101470947, -5.836100101470947, -5.836100101470947, -1.7086999416351318, -2.680299997329712, -2.7179999351501465, -2.7860000133514404, -2.832900047302246, -2.839099884033203, -2.8396999835968018, -2.8510000705718994, -3.053800106048584, -3.52839994430542, -3.5564000606536865, -3.6937999725341797, -3.9530999660491943, -4.081500053405762, -4.2652997970581055, -4.463900089263916, -4.49459981918335, -4.613800048828125, -4.868100166320801, -5.061600208282471, -5.0858001708984375, -5.360000133514404, -5.486100196838379, -5.916200160980225, -5.916200160980225, -5.916200160980225, -5.916200160980225, -5.916200160980225, -5.916200160980225, -5.932000160217285, -2.5336999893188477, -2.688699960708618, -2.801500082015991, -2.8761000633239746, -3.4358999729156494, -3.7227001190185547, -3.7353999614715576, -3.8060998916625977, -3.818700075149536, -3.825000047683716, -3.826900005340576, -3.902899980545044, -4.066299915313721, -4.081600189208984, -4.237100124359131, -4.249599933624268, -4.275899887084961, -4.290200233459473, -4.329400062561035, -4.427800178527832, -4.472099781036377, -4.4857001304626465, -4.600100040435791, -4.630000114440918, -4.706999778747559, -4.718800067901611, -4.764999866485596, -4.7789998054504395, -4.786499977111816, -4.8180999755859375, -4.8180999755859375, -2.17549991607666, -2.486799955368042, -2.751199960708618, -3.29830002784729, -3.397900104522705, -3.5840001106262207, -3.626699924468994, -3.7356998920440674, -3.7518999576568604, -3.961199998855591, -3.964200019836426, -3.9691998958587646, -3.9784998893737793, -4.059999942779541, -4.076099872589111, -4.1082000732421875, -4.122600078582764, -4.183499813079834, -4.199999809265137, -4.241300106048584, -4.266300201416016, -4.271599769592285, -4.358699798583984, -4.364699840545654, -4.368800163269043, -4.397600173950195, -4.485099792480469, -4.557400226593018, -4.649199962615967, -4.649700164794922, -1.5716999769210815, -1.628999948501587, -2.3510000705718994, -2.73799991607666, -2.888000011444092, -3.349299907684326, -3.5339999198913574, -3.6105000972747803, -3.761699914932251, -3.8380000591278076, -4.0725998878479, -4.385499954223633, -4.465000152587891, -4.519000053405762, -5.055300235748291, -5.316500186920166, -5.4770002365112305, -5.697700023651123, -6.002200126647949, -6.002200126647949, -6.002200126647949, -6.002200126647949, -6.092299938201904, -6.226200103759766, -6.484600067138672, -6.912300109863281, -7.287899971008301, -7.287899971008301, -7.49370002746582, -7.770400047302246, -2.0336999893188477, -2.137200117111206, -2.561199903488159, -3.3322999477386475, -3.5167999267578125, -3.674299955368042, -3.704699993133545, -3.747499942779541, -3.9883999824523926, -4.078100204467773, -4.127799987792969, -4.151500225067139, -4.182700157165527, -4.443900108337402, -4.490300178527832, -4.514100074768066, -4.521100044250488, -4.538400173187256, -4.61359977722168, -4.67140007019043, -4.728099822998047, -4.818999767303467, -4.818999767303467, -4.818999767303467, -4.818999767303467, -4.818999767303467, -4.818999767303467, -4.818999767303467, -4.818999767303467, -4.818999767303467, -4.818999767303467, -4.818999767303467, -2.045099973678589, -2.1096999645233154, -2.3029000759124756, -2.816200017929077, -2.8691999912261963, -2.9138998985290527, -2.948899984359741, -3.124000072479248, -3.1760001182556152, -3.380500078201294, -3.4495999813079834, -3.6303999423980713, -3.684999942779541, -4.049300193786621, -4.21619987487793, -4.948800086975098, -4.989500045776367, -5.079100131988525, -5.292399883270264, -6.078000068664551, -6.078000068664551, -6.468699932098389, -6.468699932098389, -6.468699932098389, -6.468699932098389, -6.468699932098389, -6.588500022888184, -6.689599990844727, -6.997399806976318, -7.2378997802734375, -2.430799961090088, -2.903599977493286, -2.9860000610351562, -3.02839994430542, -3.0664000511169434, -3.102799892425537, -3.270400047302246, -3.2964000701904297, -3.3775999546051025, -3.5982000827789307, -3.7565999031066895, -3.884399890899658, -3.915299892425537, -3.924999952316284, -3.9402999877929688, -3.9630000591278076, -4.008800029754639, -4.010900020599365, -4.064799785614014, -4.075300216674805, -4.076399803161621, -4.176199913024902, -4.19980001449585, -4.311600208282471, -4.595600128173828, -4.644100189208984, -4.648200035095215, -4.680099964141846, -4.724400043487549, -4.75, -2.6410999298095703, -2.745500087738037, -2.806299924850464, -2.9556000232696533, -3.0766000747680664, -3.186000108718872, -3.395900011062622, -3.526400089263916, -3.598599910736084, -3.631500005722046, -3.6946001052856445, -3.6946001052856445, -3.745699882507324, -3.914299964904785, -4.031599998474121, -4.066500186920166, -4.0833001136779785, -4.36329984664917, -4.384900093078613, -4.3856000900268555, -4.38670015335083, -4.38670015335083, -4.38670015335083, -4.38670015335083, -4.38670015335083, -4.38670015335083, -4.38670015335083, -4.38670015335083, -4.38670015335083, -4.38670015335083, -2.1782000064849854, -2.5355000495910645, -2.6991000175476074, -2.865499973297119, -3.122499942779541, -3.135999917984009, -3.240999937057495, -3.4535999298095703, -3.4916000366210938, -3.549999952316284, -3.5508999824523926, -3.6919000148773193, -3.79259991645813, -3.8322999477386475, -3.8643999099731445, -4.076099872589111, -4.174499988555908, -4.175099849700928, -4.215799808502197, -4.59250020980835, -4.606299877166748, -4.732900142669678, -4.801799774169922, -4.816999912261963, -4.841899871826172, -4.866199970245361, -5.125999927520752, -5.130300045013428, -5.130300045013428, -5.130300045013428, -2.3043999671936035, -2.6531999111175537, -2.6826000213623047, -2.805799961090088, -3.0861001014709473, -3.3907999992370605, -3.4270999431610107, -3.8819000720977783, -3.8824000358581543, -4.051700115203857, -4.066100120544434, -4.152299880981445, -4.161900043487549, -4.259799957275391, -4.294300079345703, -4.300600051879883, -4.3180999755859375, -4.477399826049805, -4.572299957275391, -4.572299957275391, -4.572299957275391, -4.6402997970581055, -4.66349983215332, -4.757500171661377, -4.8506999015808105, -4.853300094604492, -4.853300094604492, -4.853300094604492, -4.853300094604492, -4.853300094604492, -1.7754000425338745, -2.6034998893737793, -2.8071999549865723, -2.88919997215271, -2.948899984359741, -3.011699914932251, -3.081199884414673, -3.2592999935150146, -3.5485000610351562, -3.5659000873565674, -3.8684000968933105, -4.1427001953125, -4.160699844360352, -4.160699844360352, -4.392099857330322, -4.45959997177124, -4.45959997177124, -4.574999809265137, -4.587500095367432, -4.656599998474121, -4.803800106048584, -4.851799964904785, -4.851799964904785, -4.851799964904785, -4.93149995803833, -4.954100131988525, -5.0782999992370605, -5.0883002281188965, -5.106299877166748, -5.372200012207031, -2.4437999725341797, -2.5927000045776367, -2.989000082015991, -3.1501998901367188, -3.201900005340576, -3.302299976348877, -3.4412999153137207, -3.450000047683716, -3.6140999794006348, -3.7223000526428223, -3.723400115966797, -3.766900062561035, -3.796299934387207, -3.8166000843048096, -3.839400053024292, -3.992000102996826, -4.063700199127197, -4.110300064086914, -4.2027997970581055, -4.205399990081787, -4.215400218963623, -4.317500114440918, -4.3429999351501465, -4.466000080108643, -4.511600017547607, -4.519400119781494, -4.553199768066406, -4.639800071716309, -4.837900161743164, -4.876800060272217, -2.688800096511841, -2.7411999702453613, -3.0290000438690186, -3.041300058364868, -3.1779000759124756, -3.2260000705718994, -3.3050999641418457, -3.3069000244140625, -3.509500026702881, -3.5689001083374023, -3.6654999256134033, -3.8543999195098877, -3.8559000492095947, -3.914099931716919, -3.9465999603271484, -3.974100112915039, -4.134099960327148, -4.263000011444092, -4.283199787139893, -4.292200088500977, -4.297699928283691, -4.331999778747559, -4.348400115966797, -4.407100200653076, -4.42140007019043, -4.452400207519531, -4.456099987030029, -4.699900150299072, -4.899499893188477, -4.907400131225586, -1.891700029373169, -2.585900068283081, -2.8650999069213867, -3.3547000885009766, -3.6013998985290527, -3.6013998985290527, -3.6494998931884766, -3.772700071334839, -3.8280999660491943, -4.017099857330322, -4.112299919128418, -4.160900115966797, -4.1697998046875, -4.353000164031982, -4.425000190734863, -4.468200206756592, -4.478600025177002, -4.604100227355957, -4.613100051879883, -4.696199893951416, -4.7256999015808105, -4.755199909210205, -4.765699863433838, -4.7657999992370605, -4.7846999168396, -4.7846999168396, -4.7891998291015625, -4.796199798583984, -4.823999881744385, -4.828800201416016, -1.7223999500274658, -1.8809000253677368, -2.1651999950408936, -2.886399984359741, -2.8894999027252197, -3.172600030899048, -3.3125, -3.613800048828125, -3.742799997329712, -3.8366000652313232, -3.9377999305725098, -4.065999984741211, -4.532800197601318, -4.532800197601318, -4.532800197601318, -4.664999961853027, -4.847099781036377, -5.013199806213379, -5.401199817657471, -5.574900150299072, -5.961999893188477, -7.140200138092041, -7.140200138092041, -7.140200138092041, -7.140200138092041, -7.140200138092041, -7.140200138092041, -7.140200138092041, -7.140200138092041, -7.140200138092041, -7.140200138092041, -3.801500082015991, -1.5401999950408936, -2.0982000827789307, -2.438800096511841, -2.5220000743865967, -2.659600019454956, -3.0485999584198, -3.854300022125244, -4.1855998039245605, -4.198500156402588, -4.394800186157227, -4.470399856567383, -4.782199859619141, -4.811299800872803, -4.812099933624268, -4.817800045013428, -4.817800045013428, -4.94980001449585, -4.94980001449585, -4.94980001449585, -4.94980001449585, -4.94980001449585, -4.94980001449585, -4.94980001449585, -4.949900150299072, -5.111599922180176, -5.213799953460693, -5.213799953460693, -5.2332000732421875, -5.246399879455566, -5.277100086212158, -1.8724000453948975, -2.0673000812530518, -2.876499891281128, -3.0764000415802, -3.2778000831604004, -3.3278000354766846, -3.488800048828125, -3.535599946975708, -3.7016000747680664, -3.7901999950408936, -3.849600076675415, -3.991499900817871, -4.002799987792969, -4.082399845123291, -4.1006999015808105, -4.168300151824951, -4.245999813079834, -4.270899772644043, -4.445499897003174, -4.544300079345703, -4.652200222015381, -4.674499988555908, -4.6757001876831055, -4.7118000984191895, -4.7118000984191895, -4.959700107574463, -5.173900127410889, -5.195799827575684, -5.269999980926514, -5.575200080871582, -0.8353999853134155, -2.639699935913086, -3.0557000637054443, -3.407900094985962, -3.4605000019073486, -3.4623000621795654, -3.551100015640259, -3.6001999378204346, -3.621500015258789, -3.827699899673462, -3.924999952316284, -4.010499954223633, -4.826300144195557, -5.349899768829346, -5.910600185394287, -6.18179988861084, -6.524499893188477, -6.727700233459473, -6.727700233459473, -6.727700233459473, -6.727700233459473, -7.525599956512451, -8.011300086975098, -8.293999671936035, -8.339200019836426, -9.47719955444336, -9.47719955444336, -9.47719955444336, -9.47719955444336, -9.73859977722168, -9.73859977722168, -9.73859977722168, -9.732399940490723, -9.732399940490723, -2.184299945831299, -2.6826999187469482, -2.8111000061035156, -2.890399932861328, -2.9983999729156494, -3.1015000343322754, -3.340100049972534, -3.504699945449829, -3.52620005607605, -3.532099962234497, -3.5485000610351562, -3.7137999534606934, -3.7167999744415283, -3.8310999870300293, -3.9102001190185547, -3.9126999378204346, -4.662099838256836, -4.79010009765625, -4.928999900817871, -5.005300045013428, -5.128300189971924, -5.39109992980957, -5.4004998207092285, -5.650300025939941, -2.786799907684326, -6.0858001708984375, -6.322700023651123, -6.328999996185303, -6.328999996185303, -6.328999996185303, -6.328999996185303, -2.0139000415802, -2.202399969100952, -3.0162999629974365, -3.4974000453948975, -3.598599910736084, -3.65310001373291, -3.7848000526428223, -3.8196001052856445, -3.8940000534057617, -3.9811999797821045, -3.9948999881744385, -4.0518999099731445, -4.11359977722168, -4.137199878692627, -4.296899795532227, -4.3927998542785645, -4.412399768829346, -4.42609977722168, -4.439000129699707, -4.465799808502197, -4.532800197601318, -4.541399955749512, -4.548999786376953, -4.548999786376953, -4.548999786376953, -4.603499889373779, -4.725599765777588, -4.729100227355957, -4.91540002822876, -4.91540002822876, -4.91540002822876, -2.314500093460083, -2.5810000896453857, -2.7829999923706055, -2.8052000999450684, -3.1117000579833984, -3.3048999309539795, -3.3617000579833984, -3.6530001163482666, -3.711699962615967, -3.7674999237060547, -3.869800090789795, -3.9426000118255615, -3.985300064086914, -4.035299777984619, -4.058199882507324, -4.19920015335083, -4.238999843597412, -4.242199897766113, -4.276299953460693, -4.335700035095215, -4.350100040435791, -4.388700008392334, -4.406700134277344, -4.412799835205078, -4.602799892425537, -4.648099899291992, -4.837900161743164, -4.840199947357178, -4.86870002746582, -4.883200168609619, -1.8344999551773071, -2.7595999240875244, -3.0982000827789307, -3.3334999084472656, -3.657900094985962, -3.719899892807007, -3.8192999362945557, -3.8677000999450684, -3.872499942779541, -3.8880999088287354, -3.947999954223633, -3.948899984359741, -3.951900005340576, -4.010499954223633, -4.065899848937988, -4.137499809265137, -4.4730000495910645, -4.485000133514404, -4.513199806213379, -4.536799907684326, -4.600100040435791, -4.600100040435791, -4.600100040435791, -4.600100040435791, -4.600100040435791, -4.600100040435791, -4.600100040435791, -4.600100040435791, -4.600100040435791, -4.600100040435791, -3.1854000091552734, -2.148200035095215, -2.5007998943328857, -2.50819993019104, -2.6863999366760254, -3.136899948120117, -3.228300094604492, -3.276400089263916, -3.4391000270843506, -3.5657999515533447, -3.6477999687194824, -3.7583000659942627, -3.869999885559082, -3.8859000205993652, -3.9412999153137207, -3.9867000579833984, -4.218999862670898, -4.226900100708008, -4.3632001876831055, -4.382999897003174, -4.513599872589111, -4.624800205230713, -4.761000156402588, -4.785200119018555, -4.785200119018555, -5.210299968719482, -5.473299980163574, -5.473299980163574, -5.473299980163574, -5.473299980163574, -5.473299980163574, -5.473299980163574, -5.473299980163574, -5.473299980163574, -2.563800096511841, -2.805999994277954, -2.864799976348877, -3.2802000045776367, -3.3289999961853027, -3.556299924850464, -3.6135001182556152, -3.6935999393463135, -3.7609000205993652, -3.7713000774383545, -3.791100025177002, -3.849299907684326, -3.910099983215332, -3.9605000019073486, -4.190700054168701, -4.190700054168701, -4.190700054168701, -4.190700054168701, -4.190700054168701, -4.190700054168701, -4.190700054168701, -4.190700054168701, -4.303899765014648, -4.345699787139893, -4.3684000968933105, -4.373199939727783, -4.4654998779296875, -4.52239990234375, -4.540599822998047, -4.545599937438965, -4.545599937438965, -4.545599937438965, -4.545599937438965, -4.545599937438965, -4.545599937438965, -1.7319999933242798, -2.2978999614715576, -2.5571000576019287, -2.914900064468384, -3.1277999877929688, -3.141700029373169, -3.1756999492645264, -3.6758999824523926, -3.7850000858306885, -3.968400001525879, -4.0731000900268555, -4.110400199890137, -4.157199859619141, -4.208600044250488, -4.267600059509277, -4.281300067901611, -4.559899806976318, -4.601500034332275, -4.690000057220459, -5.096399784088135, -5.104000091552734, -5.1194000244140625, -5.145299911499023, -5.149700164794922, -5.2179999351501465, -5.248600006103516, -5.322199821472168, -5.350399971008301, -5.350399971008301, -5.360000133514404, -2.4217000007629395, -2.6303000450134277, -2.6314001083374023, -2.9530999660491943, -3.037600040435791, -3.1863999366760254, -3.5782999992370605, -3.6566998958587646, -3.6612000465393066, -3.796299934387207, -3.9298999309539795, -3.9834001064300537, -4.030399799346924, -4.070799827575684, -4.104000091552734, -4.193699836730957, -4.266499996185303, -4.350200176239014, -4.411200046539307, -4.457499980926514, -4.4710001945495605, -4.4710001945495605, -4.505000114440918, -4.505000114440918, -4.6579999923706055, -4.68120002746582, -4.905399799346924, -5.052800178527832, -5.129899978637695, -5.129899978637695, -2.601599931716919, -3.0685999393463135, -3.2118000984191895, -3.216099977493286, -3.251800060272217, -3.473400115966797, -3.5566000938415527, -3.7504000663757324, -3.7867000102996826, -3.912400007247925, -3.923099994659424, -3.9614999294281006, -4.023200035095215, -4.045199871063232, -4.054100036621094, -4.062699794769287, -4.109600067138672, -4.158100128173828, -4.16480016708374, -4.165800094604492, -4.165800094604492, -4.3572001457214355, -4.393099784851074, -4.405099868774414, -4.439199924468994, -4.591800212860107, -4.638500213623047, -4.652900218963623, -4.652900218963623, -4.652900218963623, -4.652900218963623, -4.652900218963623, -4.652900218963623, -4.652900218963623, -4.652900218963623, -4.652900218963623, -4.652900218963623, -1.636199951171875, -2.629499912261963, -2.911099910736084, -3.0492000579833984, -3.2469000816345215, -3.4549999237060547, -3.575700044631958, -3.9842000007629395, -3.992300033569336, -4.009399890899658, -4.03849983215332, -4.085299968719482, -4.09089994430542, -4.1020002365112305, -4.142499923706055, -4.227700233459473, -4.3094000816345215, -4.656899929046631, -4.660200119018555, -4.669300079345703, -4.8003997802734375, -4.985499858856201, -5.209000110626221, -5.209000110626221, -5.209000110626221, -5.238500118255615, -5.3171000480651855, -5.340199947357178, -5.340199947357178, -5.407800197601318, -3.841599941253662, -1.5914000272750854, -2.2832999229431152, -3.1036999225616455, -3.1849000453948975, -3.4842000007629395, -3.5557000637054443, -3.7065999507904053, -3.8199000358581543, -3.839400053024292, -3.928499937057495, -3.9941999912261963, -4.1975998878479, -4.280799865722656, -4.308700084686279, -4.342700004577637, -4.381199836730957, -4.474400043487549, -4.491199970245361, -4.595200061798096, -4.763199806213379, -4.859600067138672, -4.98390007019043, -5.015999794006348, -5.021100044250488, -5.021100044250488, -5.021100044250488, -5.021100044250488, -5.021100044250488, -5.021100044250488, -5.021100044250488, -5.021100044250488, -5.021100044250488, -5.021100044250488, -2.581199884414673, -3.097100019454956, -3.150099992752075, -3.1591999530792236, -3.445199966430664, -3.54010009765625, -3.655900001525879, -3.6738998889923096, -3.6749000549316406, -3.678999900817871, -3.8241000175476074, -3.8433001041412354, -3.9444000720977783, -3.959399938583374, -4.020999908447266, -4.124199867248535, -4.330999851226807, -4.450300216674805, -4.493899822235107, -4.521500110626221, -4.542600154876709, -4.568699836730957, -4.568699836730957, -4.568699836730957, -4.610000133514404, -4.7631001472473145, -4.7631001472473145, -4.9390997886657715, -4.962600231170654, -5.256800174713135, -5.256800174713135, -5.256800174713135, -5.256800174713135, -5.256800174713135, -5.256800174713135, -5.256800174713135, -5.256800174713135, -5.256800174713135, -5.256800174713135, -5.256800174713135, -5.256800174713135, -2.3454999923706055, -2.9309000968933105, -3.0689001083374023, -3.23580002784729, -3.344399929046631, -3.392699956893921, -3.4725000858306885, -3.7894999980926514, -3.923799991607666, -4.008200168609619, -4.019999980926514, -4.049900054931641, -4.108799934387207, -4.121099948883057, -4.182300090789795, -4.193699836730957, -4.193699836730957, -4.212800025939941, -4.5152997970581055, -4.537700176239014, -4.577700138092041, -4.638299942016602, -4.723899841308594, -4.8632001876831055, -4.882900238037109, -4.882900238037109, -4.882900238037109, -4.882900238037109, -4.882900238037109, -4.882900238037109, -4.882900238037109, -4.882900238037109, -4.882900238037109, -4.882900238037109, -4.882900238037109, -4.882900238037109, -4.882900238037109, -4.882900238037109, -2.540600061416626, -2.927500009536743, -3.1191000938415527, -3.2864999771118164, -3.4182000160217285, -3.418800115585327, -3.6031999588012695, -3.9130001068115234, -3.914099931716919, -3.9275999069213867, -3.94569993019104, -3.94569993019104, -4.074399948120117, -4.20359992980957, -4.212500095367432, -4.4654998779296875, -4.542699813842773, -4.5467000007629395, -4.615200042724609, -4.61870002746582, -4.623600006103516, -4.623600006103516, -4.623600006103516, -4.623600006103516, -4.623600006103516, -4.623600006103516, -4.653299808502197, -4.702499866485596, -4.7677001953125, -4.997700214385986, -2.4019999504089355, -2.4226999282836914, -2.4976000785827637, -2.9407999515533447, -3.137399911880493, -3.335900068283081, -3.507200002670288, -3.5206000804901123, -3.69950008392334, -3.7904999256134033, -3.882999897003174, -3.953200101852417, -4.071400165557861, -4.1595001220703125, -4.2281999588012695, -4.316800117492676, -4.433199882507324, -4.5756001472473145, -4.6082000732421875, -4.6082000732421875, -4.842199802398682, -4.853499889373779, -4.8719000816345215, -4.8719000816345215, -4.8719000816345215, -4.8719000816345215, -5.170000076293945, -5.259200096130371, -5.491799831390381, -5.52869987487793, -5.52869987487793, -5.52869987487793, -5.52869987487793, -5.52869987487793, -2.6528000831604004, -2.746999979019165, -2.8382999897003174, -2.9214999675750732, -3.288599967956543, -3.329200029373169, -3.405400037765503, -3.593400001525879, -3.6098999977111816, -3.6695001125335693, -3.711199998855591, -3.973599910736084, -4.101399898529053, -4.1020002365112305, -4.117400169372559, -4.178400039672852, -4.255000114440918, -4.328000068664551, -4.464700222015381, -4.653299808502197, -4.715099811553955, -4.738399982452393, -4.765699863433838, -4.765699863433838, -4.765699863433838, -4.996699810028076, -5.160900115966797, -5.219099998474121, -5.236499786376953, -5.267000198364258], \"Category\": [\"Default\", \"Default\", \"Default\", \"Default\", \"Default\", \"Default\", \"Default\", \"Default\", \"Default\", \"Default\", \"Default\", \"Default\", \"Default\", \"Default\", \"Default\", \"Default\", \"Default\", \"Default\", \"Default\", \"Default\", \"Default\", \"Default\", \"Default\", \"Default\", \"Default\", \"Default\", \"Default\", \"Default\", \"Default\", \"Default\", \"Topic1\", \"Topic1\", \"Topic1\", \"Topic1\", \"Topic1\", \"Topic1\", \"Topic1\", \"Topic1\", \"Topic1\", \"Topic1\", \"Topic1\", \"Topic1\", \"Topic1\", \"Topic1\", \"Topic1\", \"Topic1\", \"Topic1\", \"Topic1\", \"Topic1\", \"Topic1\", \"Topic1\", \"Topic1\", \"Topic1\", \"Topic1\", \"Topic1\", \"Topic1\", \"Topic1\", \"Topic1\", \"Topic1\", \"Topic1\", \"Topic1\", \"Topic1\", \"Topic1\", \"Topic2\", \"Topic2\", \"Topic2\", \"Topic2\", \"Topic2\", \"Topic2\", \"Topic2\", \"Topic2\", \"Topic2\", \"Topic2\", \"Topic2\", \"Topic2\", \"Topic2\", \"Topic2\", \"Topic2\", \"Topic2\", \"Topic2\", \"Topic2\", \"Topic2\", \"Topic2\", \"Topic2\", \"Topic2\", \"Topic2\", \"Topic2\", \"Topic2\", \"Topic2\", \"Topic2\", \"Topic2\", \"Topic2\", \"Topic2\", \"Topic3\", \"Topic3\", \"Topic3\", \"Topic3\", \"Topic3\", \"Topic3\", \"Topic3\", \"Topic3\", \"Topic3\", \"Topic3\", \"Topic3\", \"Topic3\", \"Topic3\", \"Topic3\", \"Topic3\", \"Topic3\", \"Topic3\", \"Topic3\", \"Topic3\", \"Topic3\", \"Topic3\", \"Topic3\", \"Topic3\", \"Topic3\", \"Topic3\", \"Topic3\", \"Topic3\", \"Topic3\", \"Topic3\", \"Topic3\", \"Topic3\", \"Topic3\", \"Topic4\", \"Topic4\", \"Topic4\", \"Topic4\", \"Topic4\", \"Topic4\", \"Topic4\", \"Topic4\", \"Topic4\", \"Topic4\", \"Topic4\", \"Topic4\", \"Topic4\", \"Topic4\", \"Topic4\", \"Topic4\", \"Topic4\", \"Topic4\", \"Topic4\", \"Topic4\", \"Topic4\", \"Topic4\", \"Topic4\", \"Topic4\", \"Topic4\", \"Topic4\", \"Topic4\", \"Topic4\", \"Topic4\", \"Topic4\", \"Topic4\", \"Topic4\", \"Topic5\", \"Topic5\", \"Topic5\", \"Topic5\", \"Topic5\", \"Topic5\", \"Topic5\", \"Topic5\", \"Topic5\", \"Topic5\", \"Topic5\", \"Topic5\", \"Topic5\", \"Topic5\", \"Topic5\", \"Topic5\", \"Topic5\", \"Topic5\", \"Topic5\", \"Topic5\", \"Topic5\", \"Topic5\", \"Topic5\", \"Topic5\", \"Topic5\", \"Topic5\", \"Topic5\", \"Topic5\", \"Topic5\", \"Topic5\", \"Topic5\", \"Topic5\", \"Topic5\", \"Topic6\", \"Topic6\", \"Topic6\", \"Topic6\", \"Topic6\", \"Topic6\", \"Topic6\", \"Topic6\", \"Topic6\", \"Topic6\", \"Topic6\", \"Topic6\", \"Topic6\", \"Topic6\", \"Topic6\", \"Topic6\", \"Topic6\", \"Topic6\", \"Topic6\", \"Topic6\", \"Topic6\", \"Topic6\", \"Topic6\", \"Topic6\", \"Topic6\", \"Topic6\", \"Topic6\", \"Topic6\", \"Topic6\", \"Topic6\", \"Topic7\", \"Topic7\", \"Topic7\", \"Topic7\", \"Topic7\", \"Topic7\", \"Topic7\", \"Topic7\", \"Topic7\", \"Topic7\", \"Topic7\", \"Topic7\", \"Topic7\", \"Topic7\", \"Topic7\", \"Topic7\", \"Topic7\", \"Topic7\", \"Topic7\", \"Topic7\", \"Topic7\", \"Topic7\", \"Topic7\", \"Topic7\", \"Topic7\", \"Topic7\", \"Topic7\", \"Topic7\", \"Topic7\", \"Topic7\", \"Topic7\", \"Topic7\", \"Topic8\", \"Topic8\", \"Topic8\", \"Topic8\", \"Topic8\", \"Topic8\", \"Topic8\", \"Topic8\", \"Topic8\", \"Topic8\", \"Topic8\", \"Topic8\", \"Topic8\", \"Topic8\", \"Topic8\", \"Topic8\", \"Topic8\", \"Topic8\", \"Topic8\", \"Topic8\", \"Topic8\", \"Topic8\", \"Topic8\", \"Topic8\", \"Topic8\", \"Topic8\", \"Topic8\", \"Topic8\", \"Topic8\", \"Topic8\", \"Topic9\", \"Topic9\", \"Topic9\", \"Topic9\", \"Topic9\", \"Topic9\", \"Topic9\", \"Topic9\", \"Topic9\", \"Topic9\", \"Topic9\", \"Topic9\", \"Topic9\", \"Topic9\", \"Topic9\", \"Topic9\", \"Topic9\", \"Topic9\", \"Topic9\", \"Topic9\", \"Topic9\", \"Topic9\", \"Topic9\", \"Topic9\", \"Topic9\", \"Topic9\", \"Topic9\", \"Topic9\", \"Topic9\", \"Topic9\", \"Topic10\", \"Topic10\", \"Topic10\", \"Topic10\", \"Topic10\", \"Topic10\", \"Topic10\", \"Topic10\", \"Topic10\", \"Topic10\", \"Topic10\", \"Topic10\", \"Topic10\", \"Topic10\", \"Topic10\", \"Topic10\", \"Topic10\", \"Topic10\", \"Topic10\", \"Topic10\", \"Topic10\", \"Topic10\", \"Topic10\", \"Topic10\", \"Topic10\", \"Topic10\", \"Topic10\", \"Topic10\", \"Topic10\", \"Topic10\", \"Topic11\", \"Topic11\", \"Topic11\", \"Topic11\", \"Topic11\", \"Topic11\", \"Topic11\", \"Topic11\", \"Topic11\", \"Topic11\", \"Topic11\", \"Topic11\", \"Topic11\", \"Topic11\", \"Topic11\", \"Topic11\", \"Topic11\", \"Topic11\", \"Topic11\", \"Topic11\", \"Topic11\", \"Topic11\", \"Topic11\", \"Topic11\", \"Topic11\", \"Topic11\", \"Topic11\", \"Topic11\", \"Topic11\", \"Topic11\", \"Topic12\", \"Topic12\", \"Topic12\", \"Topic12\", \"Topic12\", \"Topic12\", \"Topic12\", \"Topic12\", \"Topic12\", \"Topic12\", \"Topic12\", \"Topic12\", \"Topic12\", \"Topic12\", \"Topic12\", \"Topic12\", \"Topic12\", \"Topic12\", \"Topic12\", \"Topic12\", \"Topic12\", \"Topic12\", \"Topic12\", \"Topic12\", \"Topic12\", \"Topic12\", \"Topic12\", \"Topic12\", \"Topic12\", \"Topic12\", \"Topic12\", \"Topic13\", \"Topic13\", \"Topic13\", \"Topic13\", \"Topic13\", \"Topic13\", \"Topic13\", \"Topic13\", \"Topic13\", \"Topic13\", \"Topic13\", \"Topic13\", \"Topic13\", \"Topic13\", \"Topic13\", \"Topic13\", \"Topic13\", \"Topic13\", \"Topic13\", \"Topic13\", \"Topic13\", \"Topic13\", \"Topic13\", \"Topic13\", \"Topic13\", \"Topic13\", \"Topic13\", \"Topic13\", \"Topic13\", \"Topic13\", \"Topic14\", \"Topic14\", \"Topic14\", \"Topic14\", \"Topic14\", \"Topic14\", \"Topic14\", \"Topic14\", \"Topic14\", \"Topic14\", \"Topic14\", \"Topic14\", \"Topic14\", \"Topic14\", \"Topic14\", \"Topic14\", \"Topic14\", \"Topic14\", \"Topic14\", \"Topic14\", \"Topic14\", \"Topic14\", \"Topic14\", \"Topic14\", \"Topic14\", \"Topic14\", \"Topic14\", \"Topic14\", \"Topic14\", \"Topic14\", \"Topic15\", \"Topic15\", \"Topic15\", \"Topic15\", \"Topic15\", \"Topic15\", \"Topic15\", \"Topic15\", \"Topic15\", \"Topic15\", \"Topic15\", \"Topic15\", \"Topic15\", \"Topic15\", \"Topic15\", \"Topic15\", \"Topic15\", \"Topic15\", \"Topic15\", \"Topic15\", \"Topic15\", \"Topic15\", \"Topic15\", \"Topic15\", \"Topic15\", \"Topic15\", \"Topic15\", \"Topic15\", \"Topic15\", \"Topic15\", \"Topic16\", \"Topic16\", \"Topic16\", \"Topic16\", \"Topic16\", \"Topic16\", \"Topic16\", \"Topic16\", \"Topic16\", \"Topic16\", \"Topic16\", \"Topic16\", \"Topic16\", \"Topic16\", \"Topic16\", \"Topic16\", \"Topic16\", \"Topic16\", \"Topic16\", \"Topic16\", \"Topic16\", \"Topic16\", \"Topic16\", \"Topic16\", \"Topic16\", \"Topic16\", \"Topic16\", \"Topic16\", \"Topic16\", \"Topic16\", \"Topic17\", \"Topic17\", \"Topic17\", \"Topic17\", \"Topic17\", \"Topic17\", \"Topic17\", \"Topic17\", \"Topic17\", \"Topic17\", \"Topic17\", \"Topic17\", \"Topic17\", \"Topic17\", \"Topic17\", \"Topic17\", \"Topic17\", \"Topic17\", \"Topic17\", \"Topic17\", \"Topic17\", \"Topic17\", \"Topic17\", \"Topic17\", \"Topic17\", \"Topic17\", \"Topic17\", \"Topic17\", \"Topic17\", \"Topic17\", \"Topic18\", \"Topic18\", \"Topic18\", \"Topic18\", \"Topic18\", \"Topic18\", \"Topic18\", \"Topic18\", \"Topic18\", \"Topic18\", \"Topic18\", \"Topic18\", \"Topic18\", \"Topic18\", \"Topic18\", \"Topic18\", \"Topic18\", \"Topic18\", \"Topic18\", \"Topic18\", \"Topic18\", \"Topic18\", \"Topic18\", \"Topic18\", \"Topic18\", \"Topic18\", \"Topic18\", \"Topic18\", \"Topic18\", \"Topic18\", \"Topic18\", \"Topic19\", \"Topic19\", \"Topic19\", \"Topic19\", \"Topic19\", \"Topic19\", \"Topic19\", \"Topic19\", \"Topic19\", \"Topic19\", \"Topic19\", \"Topic19\", \"Topic19\", \"Topic19\", \"Topic19\", \"Topic19\", \"Topic19\", \"Topic19\", \"Topic19\", \"Topic19\", \"Topic19\", \"Topic19\", \"Topic19\", \"Topic19\", \"Topic19\", \"Topic19\", \"Topic19\", \"Topic19\", \"Topic19\", \"Topic19\", \"Topic20\", \"Topic20\", \"Topic20\", \"Topic20\", \"Topic20\", \"Topic20\", \"Topic20\", \"Topic20\", \"Topic20\", \"Topic20\", \"Topic20\", \"Topic20\", \"Topic20\", \"Topic20\", \"Topic20\", \"Topic20\", \"Topic20\", \"Topic20\", \"Topic20\", \"Topic20\", \"Topic20\", \"Topic20\", \"Topic20\", \"Topic20\", \"Topic20\", \"Topic20\", \"Topic20\", \"Topic20\", \"Topic20\", \"Topic20\", \"Topic20\", \"Topic20\", \"Topic21\", \"Topic21\", \"Topic21\", \"Topic21\", \"Topic21\", \"Topic21\", \"Topic21\", \"Topic21\", \"Topic21\", \"Topic21\", \"Topic21\", \"Topic21\", \"Topic21\", \"Topic21\", \"Topic21\", \"Topic21\", \"Topic21\", \"Topic21\", \"Topic21\", \"Topic21\", \"Topic21\", \"Topic21\", \"Topic21\", \"Topic21\", \"Topic21\", \"Topic21\", \"Topic21\", \"Topic21\", \"Topic21\", \"Topic21\", \"Topic22\", \"Topic22\", \"Topic22\", \"Topic22\", \"Topic22\", \"Topic22\", \"Topic22\", \"Topic22\", \"Topic22\", \"Topic22\", \"Topic22\", \"Topic22\", \"Topic22\", \"Topic22\", \"Topic22\", \"Topic22\", \"Topic22\", \"Topic22\", \"Topic22\", \"Topic22\", \"Topic22\", \"Topic22\", \"Topic22\", \"Topic22\", \"Topic22\", \"Topic22\", \"Topic22\", \"Topic22\", \"Topic22\", \"Topic22\", \"Topic22\", \"Topic23\", \"Topic23\", \"Topic23\", \"Topic23\", \"Topic23\", \"Topic23\", \"Topic23\", \"Topic23\", \"Topic23\", \"Topic23\", \"Topic23\", \"Topic23\", \"Topic23\", \"Topic23\", \"Topic23\", \"Topic23\", \"Topic23\", \"Topic23\", \"Topic23\", \"Topic23\", \"Topic23\", \"Topic23\", \"Topic23\", \"Topic23\", \"Topic23\", \"Topic23\", \"Topic23\", \"Topic23\", \"Topic23\", \"Topic23\", \"Topic24\", \"Topic24\", \"Topic24\", \"Topic24\", \"Topic24\", \"Topic24\", \"Topic24\", \"Topic24\", \"Topic24\", \"Topic24\", \"Topic24\", \"Topic24\", \"Topic24\", \"Topic24\", \"Topic24\", \"Topic24\", \"Topic24\", \"Topic24\", \"Topic24\", \"Topic24\", \"Topic24\", \"Topic24\", \"Topic24\", \"Topic24\", \"Topic24\", \"Topic24\", \"Topic24\", \"Topic24\", \"Topic24\", \"Topic24\", \"Topic25\", \"Topic25\", \"Topic25\", \"Topic25\", \"Topic25\", \"Topic25\", \"Topic25\", \"Topic25\", \"Topic25\", \"Topic25\", \"Topic25\", \"Topic25\", \"Topic25\", \"Topic25\", \"Topic25\", \"Topic25\", \"Topic25\", \"Topic25\", \"Topic25\", \"Topic25\", \"Topic25\", \"Topic25\", \"Topic25\", \"Topic25\", \"Topic25\", \"Topic25\", \"Topic25\", \"Topic25\", \"Topic25\", \"Topic25\", \"Topic25\", \"Topic25\", \"Topic26\", \"Topic26\", \"Topic26\", \"Topic26\", \"Topic26\", \"Topic26\", \"Topic26\", \"Topic26\", \"Topic26\", \"Topic26\", \"Topic26\", \"Topic26\", \"Topic26\", \"Topic26\", \"Topic26\", \"Topic26\", \"Topic26\", \"Topic26\", \"Topic26\", \"Topic26\", \"Topic26\", \"Topic26\", \"Topic26\", \"Topic26\", \"Topic26\", \"Topic26\", \"Topic26\", \"Topic26\", \"Topic26\", \"Topic26\", \"Topic27\", \"Topic27\", \"Topic27\", \"Topic27\", \"Topic27\", \"Topic27\", \"Topic27\", \"Topic27\", \"Topic27\", \"Topic27\", \"Topic27\", \"Topic27\", \"Topic27\", \"Topic27\", \"Topic27\", \"Topic27\", \"Topic27\", \"Topic27\", \"Topic27\", \"Topic27\", \"Topic27\", \"Topic27\", \"Topic27\", \"Topic27\", \"Topic27\", \"Topic27\", \"Topic27\", \"Topic27\", \"Topic27\", \"Topic27\", \"Topic28\", \"Topic28\", \"Topic28\", \"Topic28\", \"Topic28\", \"Topic28\", \"Topic28\", \"Topic28\", \"Topic28\", \"Topic28\", \"Topic28\", \"Topic28\", \"Topic28\", \"Topic28\", \"Topic28\", \"Topic28\", \"Topic28\", \"Topic28\", \"Topic28\", \"Topic28\", \"Topic28\", \"Topic28\", \"Topic28\", \"Topic28\", \"Topic28\", \"Topic28\", \"Topic28\", \"Topic28\", \"Topic28\", \"Topic28\", \"Topic29\", \"Topic29\", \"Topic29\", \"Topic29\", \"Topic29\", \"Topic29\", \"Topic29\", \"Topic29\", \"Topic29\", \"Topic29\", \"Topic29\", \"Topic29\", \"Topic29\", \"Topic29\", \"Topic29\", \"Topic29\", \"Topic29\", \"Topic29\", \"Topic29\", \"Topic29\", \"Topic29\", \"Topic29\", \"Topic29\", \"Topic29\", \"Topic29\", \"Topic29\", \"Topic29\", \"Topic29\", \"Topic29\", \"Topic29\", \"Topic30\", \"Topic30\", \"Topic30\", \"Topic30\", \"Topic30\", \"Topic30\", \"Topic30\", \"Topic30\", \"Topic30\", \"Topic30\", \"Topic30\", \"Topic30\", \"Topic30\", \"Topic30\", \"Topic30\", \"Topic30\", \"Topic30\", \"Topic30\", \"Topic30\", \"Topic30\", \"Topic30\", \"Topic30\", \"Topic30\", \"Topic30\", \"Topic30\", \"Topic30\", \"Topic30\", \"Topic30\", \"Topic30\", \"Topic30\", \"Topic31\", \"Topic31\", \"Topic31\", \"Topic31\", \"Topic31\", \"Topic31\", \"Topic31\", \"Topic31\", \"Topic31\", \"Topic31\", \"Topic31\", \"Topic31\", \"Topic31\", \"Topic31\", \"Topic31\", \"Topic31\", \"Topic31\", \"Topic31\", \"Topic31\", \"Topic31\", \"Topic31\", \"Topic31\", \"Topic31\", \"Topic31\", \"Topic31\", \"Topic31\", \"Topic31\", \"Topic31\", \"Topic31\", \"Topic31\", \"Topic32\", \"Topic32\", \"Topic32\", \"Topic32\", \"Topic32\", \"Topic32\", \"Topic32\", \"Topic32\", \"Topic32\", \"Topic32\", \"Topic32\", \"Topic32\", \"Topic32\", \"Topic32\", \"Topic32\", \"Topic32\", \"Topic32\", \"Topic32\", \"Topic32\", \"Topic32\", \"Topic32\", \"Topic32\", \"Topic32\", \"Topic32\", \"Topic32\", \"Topic32\", \"Topic32\", \"Topic32\", \"Topic32\", \"Topic32\", \"Topic33\", \"Topic33\", \"Topic33\", \"Topic33\", \"Topic33\", \"Topic33\", \"Topic33\", \"Topic33\", \"Topic33\", \"Topic33\", \"Topic33\", \"Topic33\", \"Topic33\", \"Topic33\", \"Topic33\", \"Topic33\", \"Topic33\", \"Topic33\", \"Topic33\", \"Topic33\", \"Topic33\", \"Topic33\", \"Topic33\", \"Topic33\", \"Topic33\", \"Topic33\", \"Topic33\", \"Topic33\", \"Topic33\", \"Topic33\", \"Topic34\", \"Topic34\", \"Topic34\", \"Topic34\", \"Topic34\", \"Topic34\", \"Topic34\", \"Topic34\", \"Topic34\", \"Topic34\", \"Topic34\", \"Topic34\", \"Topic34\", \"Topic34\", \"Topic34\", \"Topic34\", \"Topic34\", \"Topic34\", \"Topic34\", \"Topic34\", \"Topic34\", \"Topic34\", \"Topic34\", \"Topic34\", \"Topic34\", \"Topic34\", \"Topic34\", \"Topic34\", \"Topic34\", \"Topic34\", \"Topic35\", \"Topic35\", \"Topic35\", \"Topic35\", \"Topic35\", \"Topic35\", \"Topic35\", \"Topic35\", \"Topic35\", \"Topic35\", \"Topic35\", \"Topic35\", \"Topic35\", \"Topic35\", \"Topic35\", \"Topic35\", \"Topic35\", \"Topic35\", \"Topic35\", \"Topic35\", \"Topic35\", \"Topic35\", \"Topic35\", \"Topic35\", \"Topic35\", \"Topic35\", \"Topic35\", \"Topic35\", \"Topic35\", \"Topic35\", \"Topic35\", \"Topic35\", \"Topic36\", \"Topic36\", \"Topic36\", \"Topic36\", \"Topic36\", \"Topic36\", \"Topic36\", \"Topic36\", \"Topic36\", \"Topic36\", \"Topic36\", \"Topic36\", \"Topic36\", \"Topic36\", \"Topic36\", \"Topic36\", \"Topic36\", \"Topic36\", \"Topic36\", \"Topic36\", \"Topic36\", \"Topic36\", \"Topic36\", \"Topic36\", \"Topic36\", \"Topic36\", \"Topic36\", \"Topic36\", \"Topic36\", \"Topic36\", \"Topic37\", \"Topic37\", \"Topic37\", \"Topic37\", \"Topic37\", \"Topic37\", \"Topic37\", \"Topic37\", \"Topic37\", \"Topic37\", \"Topic37\", \"Topic37\", \"Topic37\", \"Topic37\", \"Topic37\", \"Topic37\", \"Topic37\", \"Topic37\", \"Topic37\", \"Topic37\", \"Topic37\", \"Topic37\", \"Topic37\", \"Topic37\", \"Topic37\", \"Topic37\", \"Topic37\", \"Topic37\", \"Topic37\", \"Topic37\", \"Topic38\", \"Topic38\", \"Topic38\", \"Topic38\", \"Topic38\", \"Topic38\", \"Topic38\", \"Topic38\", \"Topic38\", \"Topic38\", \"Topic38\", \"Topic38\", \"Topic38\", \"Topic38\", \"Topic38\", \"Topic38\", \"Topic38\", \"Topic38\", \"Topic38\", \"Topic38\", \"Topic38\", \"Topic38\", \"Topic38\", \"Topic38\", \"Topic38\", \"Topic38\", \"Topic38\", \"Topic38\", \"Topic38\", \"Topic38\", \"Topic38\", \"Topic38\", \"Topic38\", \"Topic38\", \"Topic39\", \"Topic39\", \"Topic39\", \"Topic39\", \"Topic39\", \"Topic39\", \"Topic39\", \"Topic39\", \"Topic39\", \"Topic39\", \"Topic39\", \"Topic39\", \"Topic39\", \"Topic39\", \"Topic39\", \"Topic39\", \"Topic39\", \"Topic39\", \"Topic39\", \"Topic39\", \"Topic39\", \"Topic39\", \"Topic39\", \"Topic39\", \"Topic39\", \"Topic39\", \"Topic39\", \"Topic39\", \"Topic39\", \"Topic39\", \"Topic39\", \"Topic40\", \"Topic40\", \"Topic40\", \"Topic40\", \"Topic40\", \"Topic40\", \"Topic40\", \"Topic40\", \"Topic40\", \"Topic40\", \"Topic40\", \"Topic40\", \"Topic40\", \"Topic40\", \"Topic40\", \"Topic40\", \"Topic40\", \"Topic40\", \"Topic40\", \"Topic40\", \"Topic40\", \"Topic40\", \"Topic40\", \"Topic40\", \"Topic40\", \"Topic40\", \"Topic40\", \"Topic40\", \"Topic40\", \"Topic40\", \"Topic40\", \"Topic41\", \"Topic41\", \"Topic41\", \"Topic41\", \"Topic41\", \"Topic41\", \"Topic41\", \"Topic41\", \"Topic41\", \"Topic41\", \"Topic41\", \"Topic41\", \"Topic41\", \"Topic41\", \"Topic41\", \"Topic41\", \"Topic41\", \"Topic41\", \"Topic41\", \"Topic41\", \"Topic41\", \"Topic41\", \"Topic41\", \"Topic41\", \"Topic41\", \"Topic41\", \"Topic41\", \"Topic41\", \"Topic41\", \"Topic41\", \"Topic42\", \"Topic42\", \"Topic42\", \"Topic42\", \"Topic42\", \"Topic42\", \"Topic42\", \"Topic42\", \"Topic42\", \"Topic42\", \"Topic42\", \"Topic42\", \"Topic42\", \"Topic42\", \"Topic42\", \"Topic42\", \"Topic42\", \"Topic42\", \"Topic42\", \"Topic42\", \"Topic42\", \"Topic42\", \"Topic42\", \"Topic42\", \"Topic42\", \"Topic42\", \"Topic42\", \"Topic42\", \"Topic42\", \"Topic42\", \"Topic42\", \"Topic43\", \"Topic43\", \"Topic43\", \"Topic43\", \"Topic43\", \"Topic43\", \"Topic43\", \"Topic43\", \"Topic43\", \"Topic43\", \"Topic43\", \"Topic43\", \"Topic43\", \"Topic43\", \"Topic43\", \"Topic43\", \"Topic43\", \"Topic43\", \"Topic43\", \"Topic43\", \"Topic43\", \"Topic43\", \"Topic43\", \"Topic43\", \"Topic43\", \"Topic43\", \"Topic43\", \"Topic43\", \"Topic43\", \"Topic43\", \"Topic43\", \"Topic43\", \"Topic43\", \"Topic44\", \"Topic44\", \"Topic44\", \"Topic44\", \"Topic44\", \"Topic44\", \"Topic44\", \"Topic44\", \"Topic44\", \"Topic44\", \"Topic44\", \"Topic44\", \"Topic44\", \"Topic44\", \"Topic44\", \"Topic44\", \"Topic44\", \"Topic44\", \"Topic44\", \"Topic44\", \"Topic44\", \"Topic44\", \"Topic44\", \"Topic44\", \"Topic44\", \"Topic44\", \"Topic44\", \"Topic44\", \"Topic44\", \"Topic44\", \"Topic44\", \"Topic44\", \"Topic44\", \"Topic44\", \"Topic44\", \"Topic45\", \"Topic45\", \"Topic45\", \"Topic45\", \"Topic45\", \"Topic45\", \"Topic45\", \"Topic45\", \"Topic45\", \"Topic45\", \"Topic45\", \"Topic45\", \"Topic45\", \"Topic45\", \"Topic45\", \"Topic45\", \"Topic45\", \"Topic45\", \"Topic45\", \"Topic45\", \"Topic45\", \"Topic45\", \"Topic45\", \"Topic45\", \"Topic45\", \"Topic45\", \"Topic45\", \"Topic45\", \"Topic45\", \"Topic45\", \"Topic46\", \"Topic46\", \"Topic46\", \"Topic46\", \"Topic46\", \"Topic46\", \"Topic46\", \"Topic46\", \"Topic46\", \"Topic46\", \"Topic46\", \"Topic46\", \"Topic46\", \"Topic46\", \"Topic46\", \"Topic46\", \"Topic46\", \"Topic46\", \"Topic46\", \"Topic46\", \"Topic46\", \"Topic46\", \"Topic46\", \"Topic46\", \"Topic46\", \"Topic46\", \"Topic46\", \"Topic46\", \"Topic46\", \"Topic46\", \"Topic47\", \"Topic47\", \"Topic47\", \"Topic47\", \"Topic47\", \"Topic47\", \"Topic47\", \"Topic47\", \"Topic47\", \"Topic47\", \"Topic47\", \"Topic47\", \"Topic47\", \"Topic47\", \"Topic47\", \"Topic47\", \"Topic47\", \"Topic47\", \"Topic47\", \"Topic47\", \"Topic47\", \"Topic47\", \"Topic47\", \"Topic47\", \"Topic47\", \"Topic47\", \"Topic47\", \"Topic47\", \"Topic47\", \"Topic47\", \"Topic47\", \"Topic47\", \"Topic47\", \"Topic47\", \"Topic47\", \"Topic47\", \"Topic47\", \"Topic48\", \"Topic48\", \"Topic48\", \"Topic48\", \"Topic48\", \"Topic48\", \"Topic48\", \"Topic48\", \"Topic48\", \"Topic48\", \"Topic48\", \"Topic48\", \"Topic48\", \"Topic48\", \"Topic48\", \"Topic48\", \"Topic48\", \"Topic48\", \"Topic48\", \"Topic48\", \"Topic48\", \"Topic48\", \"Topic48\", \"Topic48\", \"Topic48\", \"Topic48\", \"Topic48\", \"Topic48\", \"Topic48\", \"Topic48\", \"Topic48\", \"Topic49\", \"Topic49\", \"Topic49\", \"Topic49\", \"Topic49\", \"Topic49\", \"Topic49\", \"Topic49\", \"Topic49\", \"Topic49\", \"Topic49\", \"Topic49\", \"Topic49\", \"Topic49\", \"Topic49\", \"Topic49\", \"Topic49\", \"Topic49\", \"Topic49\", \"Topic49\", \"Topic49\", \"Topic49\", \"Topic49\", \"Topic49\", \"Topic49\", \"Topic49\", \"Topic49\", \"Topic49\", \"Topic49\", \"Topic49\", \"Topic49\", \"Topic49\", \"Topic49\", \"Topic50\", \"Topic50\", \"Topic50\", \"Topic50\", \"Topic50\", \"Topic50\", \"Topic50\", \"Topic50\", \"Topic50\", \"Topic50\", \"Topic50\", \"Topic50\", \"Topic50\", \"Topic50\", \"Topic50\", \"Topic50\", \"Topic50\", \"Topic50\", \"Topic50\", \"Topic50\", \"Topic50\", \"Topic50\", \"Topic50\", \"Topic50\", \"Topic50\", \"Topic50\", \"Topic50\", \"Topic50\", \"Topic50\", \"Topic50\", \"Topic50\", \"Topic50\", \"Topic50\", \"Topic50\", \"Topic50\", \"Topic50\", \"Topic50\", \"Topic50\", \"Topic50\", \"Topic50\", \"Topic50\", \"Topic51\", \"Topic51\", \"Topic51\", \"Topic51\", \"Topic51\", \"Topic51\", \"Topic51\", \"Topic51\", \"Topic51\", \"Topic51\", \"Topic51\", \"Topic51\", \"Topic51\", \"Topic51\", \"Topic51\", \"Topic51\", \"Topic51\", \"Topic51\", \"Topic51\", \"Topic51\", \"Topic51\", \"Topic51\", \"Topic51\", \"Topic51\", \"Topic51\", \"Topic51\", \"Topic51\", \"Topic51\", \"Topic51\", \"Topic51\", \"Topic51\", \"Topic51\", \"Topic51\", \"Topic51\", \"Topic51\", \"Topic51\", \"Topic51\", \"Topic51\", \"Topic52\", \"Topic52\", \"Topic52\", \"Topic52\", \"Topic52\", \"Topic52\", \"Topic52\", \"Topic52\", \"Topic52\", \"Topic52\", \"Topic52\", \"Topic52\", \"Topic52\", \"Topic52\", \"Topic52\", \"Topic52\", \"Topic52\", \"Topic52\", \"Topic52\", \"Topic52\", \"Topic52\", \"Topic52\", \"Topic52\", \"Topic52\", \"Topic52\", \"Topic52\", \"Topic52\", \"Topic52\", \"Topic52\", \"Topic52\", \"Topic53\", \"Topic53\", \"Topic53\", \"Topic53\", \"Topic53\", \"Topic53\", \"Topic53\", \"Topic53\", \"Topic53\", \"Topic53\", \"Topic53\", \"Topic53\", \"Topic53\", \"Topic53\", \"Topic53\", \"Topic53\", \"Topic53\", \"Topic53\", \"Topic53\", \"Topic53\", \"Topic53\", \"Topic53\", \"Topic53\", \"Topic53\", \"Topic53\", \"Topic53\", \"Topic53\", \"Topic53\", \"Topic53\", \"Topic53\", \"Topic53\", \"Topic53\", \"Topic53\", \"Topic53\", \"Topic54\", \"Topic54\", \"Topic54\", \"Topic54\", \"Topic54\", \"Topic54\", \"Topic54\", \"Topic54\", \"Topic54\", \"Topic54\", \"Topic54\", \"Topic54\", \"Topic54\", \"Topic54\", \"Topic54\", \"Topic54\", \"Topic54\", \"Topic54\", \"Topic54\", \"Topic54\", \"Topic54\", \"Topic54\", \"Topic54\", \"Topic54\", \"Topic54\", \"Topic54\", \"Topic54\", \"Topic54\", \"Topic54\", \"Topic54\"], \"Total\": [707.0, 794.0, 401.0, 285.0, 354.0, 399.0, 380.0, 212.0, 213.0, 161.0, 274.0, 309.0, 182.0, 357.0, 241.0, 285.0, 330.0, 277.0, 320.0, 160.0, 211.0, 238.0, 148.0, 128.0, 138.0, 116.0, 131.0, 171.0, 104.0, 116.0, 794.4480590820312, 330.4995422363281, 320.5080261230469, 186.7063446044922, 179.37692260742188, 170.47557067871094, 162.75152587890625, 156.10675048828125, 146.08389282226562, 130.87525939941406, 123.28258514404297, 114.1119613647461, 107.34124755859375, 103.83507537841797, 85.47399139404297, 65.62098693847656, 64.1681137084961, 62.594242095947266, 59.030860900878906, 57.66085433959961, 57.48952865600586, 57.287696838378906, 55.33928680419922, 51.538997650146484, 47.45539093017578, 45.97871017456055, 45.74312973022461, 43.52991485595703, 41.569366455078125, 36.330650329589844, 274.02960205078125, 109.45350646972656, 100.5146713256836, 399.59515380859375, 380.4706115722656, 238.7288818359375, 200.5701904296875, 178.8961944580078, 162.15809631347656, 145.23182678222656, 139.64678955078125, 121.22669219970703, 119.65020751953125, 93.62553405761719, 90.4737548828125, 85.12079620361328, 68.31394958496094, 65.90682983398438, 65.1599349975586, 58.79902648925781, 56.86585998535156, 56.59381866455078, 56.374576568603516, 56.270198822021484, 55.01395034790039, 54.259639739990234, 53.811622619628906, 50.180057525634766, 48.060001373291016, 46.676979064941406, 43.94382095336914, 41.88398742675781, 40.927215576171875, 309.45391845703125, 285.9951477050781, 277.35772705078125, 183.16656494140625, 158.02432250976562, 141.13717651367188, 124.82794189453125, 109.00125885009766, 108.12582397460938, 102.30132293701172, 84.74909973144531, 74.19747161865234, 67.77349853515625, 64.4312515258789, 62.87364196777344, 58.683555603027344, 57.37694549560547, 51.33779525756836, 51.25999069213867, 47.010292053222656, 46.107059478759766, 44.72099685668945, 43.42793273925781, 41.689640045166016, 41.02095413208008, 39.31510925292969, 36.93849563598633, 36.12398147583008, 28.065622329711914, 27.29479217529297, 235.7205047607422, 100.5146713256836, 211.24844360351562, 171.8691864013672, 128.01934814453125, 119.04197692871094, 109.90312957763672, 97.111572265625, 95.64051818847656, 83.11075592041016, 69.21565246582031, 68.99632263183594, 66.9747543334961, 66.2578353881836, 401.1192626953125, 45.404781341552734, 35.91051483154297, 34.53436279296875, 24.180673599243164, 19.464900970458984, 18.501667022705078, 17.955167770385742, 17.9023380279541, 135.19752502441406, 15.315196990966797, 13.110563278198242, 12.069046974182129, 11.99388313293457, 10.694143295288086, 9.502510070800781, 7.699588298797607, 7.056047439575195, 357.12078857421875, 235.7205047607422, 707.7737426757812, 354.709228515625, 241.52432250976562, 72.49446105957031, 54.09413528442383, 47.102298736572266, 46.16889572143555, 38.26891326904297, 36.24668884277344, 29.200618743896484, 25.846452713012695, 23.65235710144043, 20.23326873779297, 20.124990463256836, 20.058692932128906, 10.415023803710938, 9.770559310913086, 9.650755882263184, 8.884506225585938, 6.646546840667725, 6.409409046173096, 72.14005279541016, 4.6627655029296875, 3.6713852882385254, 3.6687657833099365, 3.5842723846435547, 3.5842723846435547, 2.687833309173584, 2.0856809616088867, 2.0856809616088867, 357.12078857421875, 2.0856809616088867, 2.0856809616088867, 213.41114807128906, 104.8856201171875, 88.2850341796875, 65.97569274902344, 57.67803955078125, 49.26832962036133, 42.62303924560547, 39.17045974731445, 32.21295928955078, 29.374555587768555, 24.237096786499023, 22.331533432006836, 20.544435501098633, 20.18071937561035, 19.967729568481445, 19.353591918945312, 18.13478660583496, 17.373748779296875, 16.32179832458496, 16.077068328857422, 15.06731128692627, 12.850714683532715, 12.749526023864746, 12.46545124053955, 8.503596305847168, 8.327133178710938, 6.771551609039307, 6.263297080993652, 5.890105724334717, 5.709030628204346, 160.9395294189453, 148.68678283691406, 131.36334228515625, 70.60677337646484, 68.44883728027344, 52.341575622558594, 44.514320373535156, 41.229454040527344, 39.337886810302734, 31.34197998046875, 29.636337280273438, 27.002714157104492, 16.626008987426758, 15.547921180725098, 12.78969669342041, 11.442091941833496, 10.325129508972168, 9.861559867858887, 9.188658714294434, 7.9179816246032715, 6.947198390960693, 6.689140319824219, 6.450383186340332, 5.391704559326172, 4.831454277038574, 4.831454277038574, 4.831454277038574, 4.831454277038574, 4.831454277038574, 4.831454277038574, 4.831454277038574, 4.831454277038574, 285.2279052734375, 138.33255004882812, 115.87908935546875, 47.944847106933594, 31.779104232788086, 22.570314407348633, 21.253480911254883, 20.056861877441406, 19.021934509277344, 13.30340576171875, 12.427742958068848, 12.266980171203613, 12.109858512878418, 12.098626136779785, 9.079090118408203, 9.06888484954834, 8.870683670043945, 8.061147689819336, 7.992328643798828, 7.612205505371094, 6.887494087219238, 6.800467014312744, 6.740589618682861, 6.564642906188965, 5.3451128005981445, 5.088003635406494, 4.759820461273193, 4.322549343109131, 4.238985538482666, 3.7837419509887695, 109.9041976928711, 70.08161163330078, 60.36017990112305, 57.454498291015625, 47.949989318847656, 41.961814880371094, 40.97878646850586, 40.135616302490234, 25.41546630859375, 24.298635482788086, 18.862829208374023, 16.570960998535156, 16.26994514465332, 15.555575370788574, 13.925237655639648, 11.304183006286621, 10.614642143249512, 9.983044624328613, 9.46945571899414, 8.638882637023926, 8.312182426452637, 8.110201835632324, 7.912131309509277, 7.863844394683838, 7.305566310882568, 7.074685096740723, 6.903300762176514, 6.62105131149292, 6.006187915802002, 5.600130081176758, 79.82589721679688, 75.69779968261719, 58.8415641784668, 55.246829986572266, 52.894073486328125, 43.85802459716797, 30.448232650756836, 27.298967361450195, 26.647613525390625, 25.037029266357422, 24.477294921875, 23.465030670166016, 18.81908416748047, 17.771577835083008, 16.65281867980957, 15.663071632385254, 15.505707740783691, 15.400538444519043, 13.036356925964355, 12.452851295471191, 12.004159927368164, 11.506513595581055, 9.821369171142578, 8.81672477722168, 7.023846626281738, 6.451092720031738, 6.203101634979248, 6.015591144561768, 5.804985523223877, 5.659537315368652, 80.0472640991211, 79.50621795654297, 58.00935363769531, 49.35213088989258, 41.9111213684082, 41.302215576171875, 39.20475769042969, 38.84465789794922, 28.75836753845215, 25.253116607666016, 21.01628875732422, 13.855063438415527, 73.65457916259766, 13.175983428955078, 12.410689353942871, 12.348671913146973, 10.933770179748535, 9.039098739624023, 7.481253147125244, 6.794045448303223, 6.738701343536377, 5.6716203689575195, 5.272068500518799, 5.272068500518799, 5.073094367980957, 5.02239465713501, 4.7918572425842285, 4.671737194061279, 4.597026348114014, 4.501133441925049, 212.1177215576172, 110.87788391113281, 80.25882720947266, 54.1820068359375, 36.880218505859375, 27.599044799804688, 16.903718948364258, 12.66761589050293, 11.562244415283203, 8.545300483703613, 8.262067794799805, 7.627793788909912, 7.079763889312744, 6.852849006652832, 6.607855319976807, 6.450310230255127, 6.386061191558838, 6.234118938446045, 5.467010974884033, 4.801216125488281, 4.522700309753418, 4.497280597686768, 4.430046558380127, 3.635025978088379, 3.5320074558258057, 3.5032401084899902, 3.4333250522613525, 3.3899145126342773, 3.12929368019104, 2.812790870666504, 274.02960205078125, 182.3188934326172, 116.66869354248047, 45.00835037231445, 42.7099609375, 42.16243362426758, 32.76065444946289, 26.27450942993164, 22.725353240966797, 20.642208099365234, 19.318836212158203, 18.288578033447266, 17.240890502929688, 14.95750904083252, 13.567628860473633, 10.520405769348145, 9.83034896850586, 8.750076293945312, 8.44989013671875, 7.968624114990234, 7.919477939605713, 7.349243640899658, 6.091248512268066, 5.359645843505859, 5.3330278396606445, 5.281435489654541, 4.777796268463135, 4.479344367980957, 3.2996222972869873, 2.527193069458008, 2.5084035396575928, 106.50054168701172, 103.09432983398438, 95.49603271484375, 56.582340240478516, 41.96881103515625, 32.11571502685547, 30.010480880737305, 29.120939254760742, 23.77936553955078, 19.02042579650879, 18.678918838500977, 17.983409881591797, 16.549442291259766, 13.369462013244629, 12.565167427062988, 8.067438125610352, 7.539726734161377, 7.295654773712158, 7.045535564422607, 6.818285942077637, 6.169802188873291, 6.069667816162109, 6.011814594268799, 5.974525451660156, 5.259705543518066, 4.849330425262451, 4.607200622558594, 3.352123260498047, 3.1015625, 2.8011717796325684, 94.65963745117188, 67.07119750976562, 41.017601013183594, 35.79847717285156, 34.14630126953125, 29.940597534179688, 29.55367088317871, 27.0435791015625, 23.46341323852539, 22.684898376464844, 17.889633178710938, 15.520157814025879, 15.275260925292969, 15.266443252563477, 14.295565605163574, 13.413256645202637, 13.37193489074707, 12.32047176361084, 11.566292762756348, 11.561712265014648, 9.80762767791748, 9.299431800842285, 8.924636840820312, 8.913130760192871, 8.729357719421387, 8.547833442687988, 8.140734672546387, 6.815379619598389, 6.6979660987854, 4.933553218841553, 54.01134490966797, 46.92097091674805, 36.120731353759766, 30.14572525024414, 27.626022338867188, 27.500473022460938, 21.122854232788086, 20.395164489746094, 19.411577224731445, 18.217763900756836, 17.473926544189453, 17.43305015563965, 15.86463737487793, 14.933208465576172, 14.362701416015625, 12.818029403686523, 12.7542724609375, 12.53701400756836, 11.541895866394043, 11.048503875732422, 9.366765022277832, 8.85395336151123, 8.679689407348633, 8.675827026367188, 8.178156852722168, 8.121065139770508, 7.736125469207764, 7.6264214515686035, 7.317159175872803, 7.027500152587891, 77.83087158203125, 45.46877670288086, 34.41946029663086, 33.619869232177734, 31.71192169189453, 31.214311599731445, 27.243837356567383, 18.919387817382812, 18.646249771118164, 18.04888343811035, 16.878604888916016, 15.503795623779297, 15.293737411499023, 15.087019920349121, 13.165853500366211, 12.421576499938965, 12.392768859863281, 12.171222686767578, 11.539912223815918, 11.28126049041748, 10.68437671661377, 10.378401756286621, 9.988574028015137, 8.758376121520996, 8.1328125, 8.01449966430664, 7.956655025482178, 7.77267599105835, 7.346712112426758, 6.855690002441406, 128.35922241210938, 82.01966094970703, 51.29618453979492, 39.240333557128906, 36.71808624267578, 17.25811767578125, 16.17190170288086, 14.058002471923828, 12.829387664794922, 12.749977111816406, 11.745841979980469, 11.092544555664062, 9.793140411376953, 8.978804588317871, 8.649396896362305, 8.46612548828125, 8.108362197875977, 7.640717029571533, 7.494780540466309, 6.573210716247559, 6.528406620025635, 6.5120530128479, 6.226390838623047, 5.8669023513793945, 5.75637149810791, 5.646187782287598, 5.261349201202393, 5.08713436126709, 4.74200439453125, 4.481041431427002, 4.481041431427002, 116.5953140258789, 72.28841400146484, 44.62687301635742, 39.095542907714844, 36.22706604003906, 19.182065963745117, 17.68198013305664, 16.142885208129883, 14.58649730682373, 10.73023796081543, 10.503437042236328, 10.24271011352539, 10.071066856384277, 9.914180755615234, 8.486418724060059, 7.649205207824707, 6.927533149719238, 6.209776401519775, 6.209776878356934, 6.209776401519775, 6.187985897064209, 5.964389324188232, 5.884644031524658, 5.570990562438965, 5.556718349456787, 5.4189324378967285, 4.679503917694092, 4.5291666984558105, 4.469912528991699, 4.012145042419434, 84.96438598632812, 72.07994079589844, 62.25239181518555, 49.0975227355957, 33.447792053222656, 23.066043853759766, 21.346181869506836, 21.01324462890625, 20.89547348022461, 15.762255668640137, 15.471809387207031, 14.582682609558105, 9.249672889709473, 8.737770080566406, 7.493871688842773, 6.672877788543701, 6.335474491119385, 6.13826322555542, 4.988463401794434, 4.65313196182251, 3.3478353023529053, 3.0197246074676514, 3.0197246074676514, 3.0197246074676514, 3.0197246074676514, 3.0197246074676514, 2.514995813369751, 2.514995813369751, 2.514995813369751, 2.514995813369751, 2.514995813369751, 2.514995813369751, 104.14414978027344, 39.93667221069336, 38.488407135009766, 36.014408111572266, 34.40365219116211, 34.195098876953125, 34.17310333251953, 33.79991149902344, 27.749488830566406, 17.58078956604004, 17.118209838867188, 15.028085708618164, 11.787626266479492, 10.467893600463867, 8.85134220123291, 7.4077534675598145, 7.208831787109375, 6.493020534515381, 5.22321081161499, 4.451779842376709, 4.365365982055664, 3.5195817947387695, 3.201848030090332, 2.375720977783203, 2.375720977783203, 2.375720977783203, 2.375720977783203, 2.375720977783203, 2.375720977783203, 2.351465940475464, 44.68216323852539, 38.38618850708008, 34.38190841674805, 31.970741271972656, 18.623638153076172, 14.188714981079102, 14.020243644714355, 13.121505737304688, 12.967329978942871, 12.891225814819336, 12.867693901062012, 11.987363815307617, 10.307026863098145, 10.162882804870605, 8.820164680480957, 8.721217155456543, 8.51640510559082, 8.407174110412598, 8.116507530212402, 7.434089660644531, 7.148731231689453, 7.063488006591797, 6.390359878540039, 6.226964473724365, 5.827480792999268, 5.7686543464660645, 5.546244144439697, 5.480958461761475, 5.446295738220215, 5.3026933670043945, 5.3026933670043945, 58.41444396972656, 43.01243209838867, 33.21424865722656, 19.569520950317383, 17.79410743713379, 14.914334297180176, 14.326045989990234, 12.932674407958984, 12.737598419189453, 10.489694595336914, 10.461153984069824, 10.413589477539062, 10.324660301208496, 9.58157730102539, 9.44229507446289, 9.170525550842285, 9.051380157470703, 8.565196990966797, 8.438667297363281, 8.131404876708984, 7.9509596824646, 7.913403034210205, 7.323133945465088, 7.28413724899292, 7.258229732513428, 7.07564115524292, 6.552637577056885, 6.154053688049316, 5.687638759613037, 5.68513822555542, 104.96229553222656, 99.16021728515625, 48.60029983520508, 33.27131271362305, 28.75345230102539, 18.437288284301758, 15.46792221069336, 14.390690803527832, 12.48846435546875, 11.631965637207031, 9.374661445617676, 7.080124855041504, 6.603023529052734, 6.2999444007873535, 4.031351089477539, 3.2965331077575684, 2.931674003601074, 2.5163979530334473, 2.0751094818115234, 2.0751094818115234, 2.0751094818115234, 2.0751094818115234, 1.9682663679122925, 1.826230764389038, 1.600545048713684, 1.3341618776321411, 1.1778782606124878, 1.1778782606124878, 1.1141040325164795, 1.04666006565094, 64.67489624023438, 58.400943756103516, 38.50819778442383, 18.259958267211914, 15.324508666992188, 13.214288711547852, 12.843615531921387, 12.339859008789062, 9.877596855163574, 9.10257625579834, 8.701528549194336, 8.517645835876465, 8.281627655029297, 6.570544719696045, 6.310422897338867, 6.181765079498291, 6.144554138183594, 6.053483486175537, 5.675543308258057, 5.404080390930176, 5.152169227600098, 4.777614116668701, 4.777614116668701, 4.777614116668701, 4.777614116668701, 4.777614116668701, 4.777614116668701, 4.777614116668701, 4.777614116668701, 4.777614116668701, 4.777614116668701, 4.777614116668701, 63.65289306640625, 59.72659683227539, 49.38047409057617, 29.88894271850586, 28.38965606689453, 27.186628341674805, 26.2791690826416, 22.192790985107422, 21.11066436767578, 17.360687255859375, 16.25872039794922, 13.707603454589844, 13.023019790649414, 9.303044319152832, 8.001459121704102, 4.28064489364624, 4.1434245109558105, 3.8600447177886963, 3.27919864654541, 1.950277328491211, 1.950277328491211, 1.5902713537216187, 1.5902713537216187, 1.5902713537216187, 1.5902713537216187, 1.5902713537216187, 1.505179524421692, 1.440915584564209, 1.2809323072433472, 1.1860288381576538, 42.9404411315918, 27.07969093322754, 25.00347900390625, 24.000993728637695, 23.137168884277344, 22.339550018310547, 19.020992279052734, 18.554868698120117, 17.172964096069336, 13.939590454101562, 12.019632339477539, 10.678038597106934, 10.378451347351074, 10.286138534545898, 10.142900466918945, 9.93384075164795, 9.527141571044922, 9.508862495422363, 9.053592681884766, 8.967975616455078, 8.959085464477539, 8.187335968017578, 8.016117095947266, 7.256860256195068, 5.669651031494141, 5.44061279296875, 5.421789646148682, 5.2779011726379395, 5.085440635681152, 4.977879524230957, 34.177520751953125, 30.872753143310547, 29.100160598754883, 25.182708740234375, 22.40835189819336, 20.173627853393555, 16.513389587402344, 14.596146583557129, 13.637423515319824, 13.223559379577637, 12.465864181518555, 12.465864181518555, 11.886898040771484, 10.17281436920166, 9.140311241149902, 8.856030464172363, 8.721866607666016, 6.79756498336792, 6.670180797576904, 6.66589879989624, 6.65978479385376, 6.65978479385376, 6.65978479385376, 6.65978479385376, 6.65978479385376, 6.65978479385376, 6.65978479385376, 6.65978479385376, 6.65978479385376, 6.65978479385376, 53.29751205444336, 37.538108825683594, 31.997282028198242, 27.22201919555664, 21.243410110473633, 20.969385147094727, 18.96284294128418, 15.491792678833008, 14.945409774780273, 14.14461612701416, 14.132513999938965, 12.384663581848145, 11.279133796691895, 10.872651100158691, 10.555481910705566, 8.701922416687012, 7.964958667755127, 7.960926055908203, 7.676876068115234, 5.5304741859436035, 5.4662089347839355, 4.916067123413086, 4.644807815551758, 4.587233543395996, 4.495228290557861, 4.4073333740234375, 3.591092348098755, 3.5792577266693115, 3.5792577266693115, 3.5792577266693115, 47.07374954223633, 33.45820617675781, 32.51451873779297, 28.842853546142578, 21.996837615966797, 16.441333770751953, 15.88475227355957, 10.387593269348145, 10.382852554321289, 8.896137237548828, 8.780842781066895, 8.125494003295898, 8.055854797363281, 7.383310317993164, 7.161154270172119, 7.121720314025879, 7.0126800537109375, 6.103876113891602, 5.627112865447998, 5.627112865447998, 5.627112865447998, 5.312572956085205, 5.210082054138184, 4.818145751953125, 4.463984489440918, 4.454802989959717, 4.454802989959717, 4.454802989959717, 4.454802989959717, 4.454803466796875, 75.69441986083984, 33.53981018066406, 27.513158798217773, 25.41351890563965, 23.989992141723633, 22.581327438354492, 21.121658325195312, 17.812976837158203, 13.54995059967041, 13.330971717834473, 10.070180892944336, 7.856211185455322, 7.731043815612793, 7.731043815612793, 6.307165145874023, 5.950314521789551, 5.950130939483643, 5.3931732177734375, 5.337132930755615, 5.036548614501953, 4.462124347686768, 4.292386531829834, 4.292386531829834, 4.292386531829834, 4.0279669761657715, 3.9566256999969482, 3.5926122665405273, 3.565164804458618, 3.516493082046509, 2.8914668560028076, 38.87481689453125, 33.612510681152344, 22.890470504760742, 19.607135772705078, 18.65989875793457, 16.957496643066406, 14.865617752075195, 14.74447250366211, 12.639660835266113, 11.429584503173828, 11.417313575744629, 10.967863082885742, 10.674124717712402, 10.47610092163086, 10.25866413116455, 8.925530433654785, 8.366199493408203, 8.02295970916748, 7.388423919677734, 7.37105655670166, 7.306124210357666, 6.678658962249756, 6.531196117401123, 5.872300624847412, 5.647669315338135, 5.610697269439697, 5.451934814453125, 5.069231986999512, 4.308524131774902, 4.176036834716797, 30.271989822387695, 28.7711238861084, 21.784156799316406, 21.527498245239258, 18.88638687133789, 18.038471221923828, 16.730316162109375, 16.701717376708984, 13.793057441711426, 13.045130729675293, 11.921443939208984, 10.01297664642334, 9.999677658081055, 9.481566429138184, 9.20502758026123, 8.978260040283203, 7.774232864379883, 6.935417652130127, 6.813401222229004, 6.760380268096924, 6.727352142333984, 6.5287885665893555, 6.4362287521362305, 6.11735200881958, 6.042342185974121, 5.883167743682861, 5.8644938468933105, 4.77714729309082, 4.064215183258057, 4.038708209991455, 64.91496276855469, 32.84565353393555, 25.048538208007812, 15.677131652832031, 12.433648109436035, 12.433424949645996, 11.888975143432617, 10.609013557434082, 10.082539558410645, 8.49077320098877, 7.796540260314941, 7.466350555419922, 7.407733917236328, 6.308191299438477, 5.928701400756836, 5.713351249694824, 5.662937164306641, 5.094611167907715, 5.056466102600098, 4.72013521194458, 4.607515335083008, 4.498152732849121, 4.459789276123047, 4.459382057189941, 4.391630172729492, 4.391630172729492, 4.3757829666137695, 4.351105213165283, 4.2549147605896, 4.238381862640381, 76.67984771728516, 65.56784057617188, 49.54969024658203, 24.519609451293945, 24.44556427001953, 18.624404907226562, 16.30251121520996, 12.280047416687012, 10.895180702209473, 9.994452476501465, 9.11279010772705, 8.117541313171387, 5.4021687507629395, 5.402167797088623, 5.402167797088623, 4.83712911605835, 4.171065330505371, 3.6608006954193115, 2.7529690265655518, 2.447448492050171, 1.930711030960083, 1.174108862876892, 1.174108862876892, 1.174108862876892, 1.174108862876892, 1.174108862876892, 1.174108862876892, 1.174108862876892, 1.174108862876892, 1.174108862876892, 1.174108862876892, 72.14005279541016, 90.48819732666016, 52.150386810302734, 37.339935302734375, 34.427608489990234, 30.107641220092773, 20.67623519897461, 9.702496528625488, 7.203064918518066, 7.121374607086182, 6.001796245574951, 5.6259026527404785, 4.3439202308654785, 4.2434844970703125, 4.240777969360352, 4.221713542938232, 4.221713542938232, 3.8033106327056885, 3.8033106327056885, 3.8033106327056885, 3.8033106327056885, 3.8033106327056885, 3.8033106327056885, 3.8033106327056885, 3.803335666656494, 3.3607888221740723, 3.1159982681274414, 3.1159982681274414, 3.0721967220306396, 3.0427236557006836, 2.9762561321258545, 58.829010009765625, 48.561126708984375, 22.084739685058594, 18.23564910888672, 15.062459945678711, 14.368851661682129, 12.357155799865723, 11.830631256103516, 10.149284362792969, 9.35977840423584, 8.868927955627441, 7.806821346282959, 7.728553295135498, 7.201204299926758, 7.0860066413879395, 6.677665710449219, 6.241471290588379, 6.108462333679199, 5.264440059661865, 4.848232746124268, 4.43831729888916, 4.358792304992676, 4.354556560516357, 4.230036735534668, 4.230036735534668, 3.4856722354888916, 2.975492477416992, 2.9293839931488037, 2.7798337936401367, 2.2696244716644287, 161.49412536621094, 27.27900505065918, 18.28013038635254, 13.101720809936523, 12.472887992858887, 12.45215892791748, 11.466066360473633, 10.9563627243042, 10.742573738098145, 8.896937370300293, 8.150151252746582, 7.55096435546875, 3.8063952922821045, 2.596162796020508, 1.8412843942642212, 1.6027742624282837, 1.38062584400177, 1.2807254791259766, 1.2807254791259766, 1.2807254791259766, 1.2807254791259766, 1.0369162559509277, 0.9600842595100403, 0.929831326007843, 0.9257368445396423, 0.8655892014503479, 0.8655892014503479, 0.8655892014503479, 0.8655892014503479, 0.8590660691261292, 0.8590660691261292, 0.8590660691261292, 1.4144965410232544, 1.4144965410232544, 41.75070571899414, 25.689905166625977, 22.695396423339844, 21.02956199645996, 18.96096420288086, 17.186065673828125, 13.714546203613281, 11.760650634765625, 11.527753829956055, 11.465222358703613, 11.292717933654785, 9.698845863342285, 9.672320365905762, 8.717680931091309, 8.118467330932617, 8.100132942199707, 4.268808841705322, 3.85648250579834, 3.4644994735717773, 3.2714147567749023, 2.989401340484619, 2.4915056228637695, 2.47602915763855, 2.1132586002349854, 37.524452209472656, 1.6620315313339233, 1.4875587224960327, 1.4834784269332886, 1.4834784269332886, 1.4834784269332886, 1.4834784269332886, 48.17822265625, 40.047264099121094, 18.213279724121094, 11.579144477844238, 10.545783996582031, 10.030856132507324, 8.896992683410645, 8.62153434753418, 8.06302547454834, 7.459927558898926, 7.370344638824463, 7.008162021636963, 6.639259338378906, 6.504261493682861, 5.667994022369385, 5.226807117462158, 5.141294956207275, 5.083006858825684, 5.028564929962158, 4.917745590209961, 4.65363073348999, 4.620872497558594, 4.5924296379089355, 4.5924296379089355, 4.5924296379089355, 4.393404483795166, 3.9850032329559326, 3.9740731716156006, 3.4412357807159424, 3.4412357807159424, 3.4412357807159424, 35.48765563964844, 27.381378173828125, 22.526201248168945, 22.04959487915039, 16.45000457763672, 13.707056999206543, 12.996930122375488, 9.924153327941895, 9.406155586242676, 8.940985679626465, 8.153007507324219, 7.6395792961120605, 7.3556294441223145, 7.037385940551758, 6.897241115570068, 6.100477695465088, 5.895050048828125, 5.879103660583496, 5.709856033325195, 5.428999900817871, 5.363083839416504, 5.191959857940674, 5.114114284515381, 5.088378429412842, 4.352875709533691, 4.197018146514893, 3.616314172744751, 3.610008716583252, 3.5322105884552, 3.493424415588379, 56.075347900390625, 22.738378524780273, 16.44829750061035, 13.17553997039795, 9.757444381713867, 9.221200942993164, 8.427967071533203, 8.069189071655273, 8.034584045410156, 7.9232025146484375, 7.511159420013428, 7.5050201416015625, 7.485510349273682, 7.106813907623291, 6.768912315368652, 6.359314441680908, 4.785506248474121, 4.738426208496094, 4.63004207611084, 4.541375637054443, 4.314511299133301, 4.314511299133301, 4.314511299133301, 4.314511299133301, 4.314511299133301, 4.314511299133301, 4.314511299133301, 4.314511299133301, 4.314511299133301, 4.314511299133301, 37.524452209472656, 40.82126998901367, 28.939319610595703, 28.734600067138672, 24.17921257019043, 15.715018272399902, 14.415562629699707, 13.777531623840332, 11.834585189819336, 10.526615142822266, 9.764030456542969, 8.830021858215332, 7.98545503616333, 7.873060703277588, 7.494032382965088, 7.198337078094482, 5.8801774978637695, 5.840733528137207, 5.203341960906982, 5.117555141448975, 4.5939764976501465, 4.198801517486572, 3.770989418029785, 3.7009193897247314, 3.7009196281433105, 2.709834337234497, 2.2773146629333496, 2.2773146629333496, 2.2773146629333496, 2.2773146629333496, 2.2773146629333496, 2.2773146629333496, 2.2773146629333496, 2.2773146629333496, 27.056087493896484, 21.41695213317871, 20.24285125732422, 13.647934913635254, 13.038287162780762, 10.5582275390625, 10.01803970336914, 9.312126159667969, 8.760298728942871, 8.678970336914062, 8.524678230285645, 8.09089183807373, 7.662847995758057, 7.328159332275391, 5.994520664215088, 5.994520664215088, 5.994520664215088, 5.994520664215088, 5.994520664215088, 5.994520664215088, 5.994520664215088, 5.994520664215088, 5.442858695983887, 5.254388809204102, 5.155532360076904, 5.134814262390137, 4.756581783294678, 4.540125370025635, 4.473323345184326, 4.455495834350586, 4.455495834350586, 4.455495834350586, 4.455495834350586, 4.455495834350586, 4.455495834350586, 60.89846420288086, 34.94197463989258, 27.157039642333984, 19.24016571044922, 15.710612297058105, 15.505794525146484, 15.015869140625, 9.435125350952148, 8.546676635742188, 7.254755973815918, 6.617285251617432, 6.4054718017578125, 6.150712013244629, 5.884908199310303, 5.595424175262451, 5.530579090118408, 4.389686584472656, 4.244779109954834, 3.956523895263672, 2.914884090423584, 2.899127721786499, 2.8676040172576904, 2.8158812522888184, 2.807107448577881, 2.6771938800811768, 2.621696710586548, 2.495173454284668, 2.449070453643799, 2.449070453643799, 2.433631658554077, 30.577463150024414, 24.977670669555664, 24.951499938964844, 18.316255569458008, 16.901033401489258, 14.679950714111328, 10.191200256347656, 9.485307693481445, 9.446815490722656, 8.358861923217773, 7.417759895324707, 7.074992656707764, 6.788330078125, 6.553053855895996, 6.366459369659424, 5.89161491394043, 5.536758899688721, 5.15920352935791, 4.903406143188477, 4.719361305236816, 4.667433261871338, 4.667433261871338, 4.53914737701416, 4.53914737701416, 4.014035701751709, 3.9410338401794434, 3.3174238204956055, 2.9773306846618652, 2.8184592723846436, 2.8184592723846436, 25.538475036621094, 16.323261260986328, 14.257708549499512, 14.201262474060059, 13.732048034667969, 11.170095443725586, 10.345563888549805, 8.671422004699707, 8.392200469970703, 7.500577449798584, 7.429721832275391, 7.181609153747559, 6.802095890045166, 6.672385215759277, 6.6208720207214355, 6.571262359619141, 6.3088531494140625, 6.049955368041992, 6.015654563903809, 6.010225772857666, 6.010225772857666, 5.1101274490356445, 4.959344863891602, 4.9103922843933105, 4.773863315582275, 4.2174811363220215, 4.063645362854004, 4.017681121826172, 4.017680644989014, 4.017680644989014, 4.017680644989014, 4.017680644989014, 4.017680644989014, 4.017680644989014, 4.017680644989014, 4.017680644989014, 4.017680644989014, 62.11616134643555, 23.530513763427734, 17.961645126342773, 15.752266883850098, 13.076370239257812, 10.777141571044922, 9.646310806274414, 6.6923394203186035, 6.645115852355957, 6.546569347381592, 6.382713794708252, 6.128824710845947, 6.099614143371582, 6.041481971740723, 5.834641456604004, 5.426420211791992, 5.066351413726807, 3.824725866317749, 3.81489634513855, 3.787928342819214, 3.425044298171997, 2.9876363277435303, 2.5568907260894775, 2.5568907260894775, 2.5568907260894775, 2.506723165512085, 2.380584478378296, 2.345311164855957, 2.345311164855957, 2.246558427810669, 18.185779571533203, 58.045379638671875, 29.480098724365234, 13.450010299682617, 12.465832710266113, 9.459176063537598, 8.864227294921875, 7.740551948547363, 7.001913070678711, 6.88260555267334, 6.367516994476318, 6.016208648681641, 5.063566207885742, 4.726673603057861, 4.619716644287109, 4.493403911590576, 4.355352401733398, 4.042813777923584, 3.9895002841949463, 3.678332567214966, 3.239686965942383, 3.0192952156066895, 2.764589309692383, 2.7038004398345947, 2.6943986415863037, 2.6943986415863037, 2.6943986415863037, 2.6943986415863037, 2.6943986415863037, 2.6943986415863037, 2.6943986415863037, 2.6943986415863037, 2.6943986415863037, 2.6943986415863037, 21.76007652282715, 13.327447891235352, 12.683144569396973, 12.575148582458496, 9.65674114227295, 8.8583345413208, 7.981331825256348, 7.853820323944092, 7.8465142250061035, 7.818016529083252, 6.875540733337402, 6.760784149169922, 6.191421031951904, 6.1118316650390625, 5.7964324951171875, 5.310626983642578, 4.475043296813965, 4.066397190093994, 3.928675651550293, 3.844633102416992, 3.78161358833313, 3.7060115337371826, 3.7060115337371826, 3.7060115337371826, 3.589911460876465, 3.1995692253112793, 3.1995692253112793, 2.8185408115386963, 2.772468090057373, 2.2798593044281006, 2.2798593044281006, 2.2798593044281006, 2.2798593044281006, 2.2798593044281006, 2.2798593044281006, 2.2798593044281006, 2.2798593044281006, 2.2798593044281006, 2.2798593044281006, 2.2798593044281006, 2.2798593044281006, 27.115400314331055, 15.470389366149902, 13.583975791931152, 11.624749183654785, 10.514824867248535, 10.058588981628418, 9.35131549835205, 7.038383960723877, 6.259058475494385, 5.820048809051514, 5.761723041534424, 5.616588115692139, 5.343355178833008, 5.288257598876953, 5.024221420288086, 4.9768242835998535, 4.9768242835998535, 4.898360729217529, 3.838186264038086, 3.7718822956085205, 3.6569130420684814, 3.490992307662964, 3.2732129096984863, 2.9565932750701904, 2.9152636528015137, 2.9152636528015137, 2.9152636528015137, 2.9152636528015137, 2.9152636528015137, 2.9152636528015137, 2.9152636528015137, 2.9152636528015137, 2.9152636528015137, 2.9152636528015137, 2.9152636528015137, 2.9152636528015137, 2.9152636528015137, 2.9152636528015137, 20.924545288085938, 14.479154586791992, 12.101043701171875, 10.365622520446777, 9.189615249633789, 9.184934616088867, 7.779067039489746, 5.93030309677124, 5.9246907234191895, 5.8566999435424805, 5.766417980194092, 5.766417980194092, 5.171356678009033, 4.646200180053711, 4.6125898361206055, 3.7690021991729736, 3.551339626312256, 3.5405285358428955, 3.361480712890625, 3.352628707885742, 3.34051251411438, 3.34051251411438, 3.34051251411438, 3.34051251411438, 3.34051251411438, 3.34051251411438, 3.267261266708374, 3.1505916118621826, 3.004653215408325, 2.559746265411377, 23.39724349975586, 22.936689376831055, 21.34182357788086, 14.001864433288574, 11.653034210205078, 9.706137657165527, 8.310287475585938, 8.211169242858887, 7.003439426422119, 6.467462539672852, 5.970647811889648, 5.622757911682129, 5.089689254760742, 4.731190204620361, 4.472947597503662, 4.165049076080322, 3.7996745109558105, 3.4069650173187256, 3.3247294425964355, 3.3247294425964355, 2.806448459625244, 2.7843446731567383, 2.748927593231201, 2.748927593231201, 2.748927593231201, 2.748927593231201, 2.256981372833252, 2.1361186504364014, 1.8673131465911865, 1.830077886581421, 1.830077886581421, 1.830077886581421, 1.830077886581421, 1.830077886581421, 18.058822631835938, 16.51064682006836, 15.14282512664795, 14.000627517700195, 9.956823348999023, 9.594260215759277, 8.952220916748047, 7.561226844787598, 7.451282024383545, 7.068769931793213, 6.814749717712402, 5.435798645019531, 4.883998394012451, 4.881662845611572, 4.819860458374023, 4.584297180175781, 4.308305740356445, 4.064126014709473, 3.6519365310668945, 3.168604850769043, 3.0289816856384277, 2.978588104248047, 2.9210588932037354, 2.9210586547851562, 2.9210588932037354, 2.4916930198669434, 2.2415285110473633, 2.162179946899414, 2.1394095420837402, 2.1003921031951904], \"Freq\": [707.0, 794.0, 401.0, 285.0, 354.0, 399.0, 380.0, 212.0, 213.0, 161.0, 274.0, 309.0, 182.0, 357.0, 241.0, 285.0, 330.0, 277.0, 320.0, 160.0, 211.0, 238.0, 148.0, 128.0, 138.0, 116.0, 131.0, 171.0, 104.0, 116.0, 793.6115112304688, 329.6629943847656, 319.6714782714844, 185.8698272705078, 178.5404052734375, 169.63905334472656, 161.91500854492188, 155.27023315429688, 145.24737548828125, 130.0387420654297, 122.44610595703125, 113.27548217773438, 106.50476837158203, 102.99859619140625, 84.63751220703125, 64.78450775146484, 63.33160400390625, 61.757747650146484, 58.194366455078125, 56.82435989379883, 56.65303421020508, 56.451202392578125, 54.50279235839844, 50.7025032043457, 46.618896484375, 45.142215728759766, 44.90663528442383, 42.69342041015625, 40.732872009277344, 35.49415588378906, 201.52406311035156, 86.31289672851562, 47.866416931152344, 398.76019287109375, 379.6356506347656, 237.89393615722656, 199.73524475097656, 178.06124877929688, 161.32315063476562, 144.39688110351562, 138.8118438720703, 120.39179992675781, 118.81531524658203, 92.79064178466797, 89.63886260986328, 84.28590393066406, 67.47905731201172, 65.07193756103516, 64.32504272460938, 57.964111328125, 56.03094482421875, 55.75890350341797, 55.5396614074707, 55.43528366088867, 54.17903518676758, 53.42472457885742, 52.976707458496094, 49.34514236450195, 47.2250862121582, 45.842063903808594, 43.10890579223633, 41.049072265625, 40.09230041503906, 308.6180725097656, 285.1593017578125, 276.5218811035156, 182.33070373535156, 157.18846130371094, 140.3013153076172, 123.99213409423828, 108.16545104980469, 107.2899169921875, 101.46551513671875, 83.91329193115234, 73.36166381835938, 66.93769073486328, 63.59540557861328, 62.03781509399414, 57.84772872924805, 56.54111862182617, 50.50196838378906, 50.424163818359375, 46.17446517944336, 45.27123260498047, 43.885169982910156, 42.592105865478516, 40.85381317138672, 40.18512725830078, 38.47928237915039, 36.10266876220703, 35.28815460205078, 27.229795455932617, 26.458965301513672, 129.34571838378906, 51.82965850830078, 210.4127655029297, 171.03350830078125, 127.18370819091797, 118.20633697509766, 109.06748962402344, 96.27593231201172, 94.80487823486328, 82.27511596679688, 68.38001251220703, 68.16068267822266, 66.13911437988281, 65.42219543457031, 394.597412109375, 44.56912612915039, 35.074859619140625, 33.698707580566406, 23.34501838684082, 18.62924575805664, 17.666011810302734, 17.1195125579834, 17.066682815551758, 128.51568603515625, 14.479537963867188, 12.274904251098633, 11.23338794708252, 11.158224105834961, 9.858484268188477, 8.666851043701172, 6.863931655883789, 6.220390796661377, 154.73138427734375, 105.55696868896484, 706.9365234375, 353.8719177246094, 240.68704223632812, 71.6572265625, 53.25688934326172, 46.265052795410156, 45.33164978027344, 37.43166732788086, 35.40944290161133, 28.363370895385742, 25.009204864501953, 22.815109252929688, 19.396020889282227, 19.287742614746094, 19.221445083618164, 9.577770233154297, 8.933305740356445, 8.813502311706543, 8.047252655029297, 5.809295654296875, 5.572157859802246, 61.8347053527832, 3.825514078140259, 2.834135055541992, 2.8315155506134033, 2.7468953132629395, 2.7468953132629395, 1.8505829572677612, 1.2483443021774292, 1.2483443021774292, 173.3937225341797, 1.2483443021774292, 1.2483443021774292, 212.57334899902344, 104.04785919189453, 87.44727325439453, 65.13793182373047, 56.84026336669922, 48.4305534362793, 41.78526306152344, 38.33268356323242, 31.375185012817383, 28.53677749633789, 23.39931869506836, 21.493755340576172, 19.70665740966797, 19.342941284179688, 19.12995147705078, 18.51581382751465, 17.297008514404297, 16.53597068786621, 15.484020233154297, 15.239287376403809, 14.22952938079834, 12.012932777404785, 11.911744117736816, 11.627669334411621, 7.66581392288208, 7.489350318908691, 5.933772087097168, 5.425517559051514, 5.052326202392578, 4.871251106262207, 160.10418701171875, 147.8514404296875, 130.5279998779297, 69.7714614868164, 67.613525390625, 51.50625991821289, 43.67900466918945, 40.39413833618164, 38.50257110595703, 30.50666046142578, 28.80101776123047, 26.167394638061523, 15.790690422058105, 14.712597846984863, 11.954373359680176, 10.606768608093262, 9.489806175231934, 9.026236534118652, 8.3533353805542, 7.08266019821167, 6.111876964569092, 5.853818893432617, 5.6150617599487305, 4.55638313293457, 3.996011734008789, 3.996011734008789, 3.996011734008789, 3.996011734008789, 3.996011734008789, 3.996011734008789, 3.996011734008789, 3.996011734008789, 284.3917541503906, 137.49644470214844, 115.04301452636719, 47.1087646484375, 30.943016052246094, 21.73422622680664, 20.41739273071289, 19.220773696899414, 18.18584632873535, 12.467314720153809, 11.591651916503906, 11.430889129638672, 11.273767471313477, 11.262535095214844, 8.242999076843262, 8.232793807983398, 8.034592628479004, 7.225058078765869, 7.156239986419678, 6.776116847991943, 6.051405429840088, 5.964378356933594, 5.904500961303711, 5.7285542488098145, 4.509024143218994, 4.251914978027344, 3.923731565475464, 3.4864611625671387, 3.402897596359253, 2.9476540088653564, 109.06950378417969, 69.24691772460938, 59.52548599243164, 56.61980438232422, 47.11529541015625, 41.12712097167969, 40.14409255981445, 39.30092239379883, 24.580764770507812, 23.46393394470215, 18.028127670288086, 15.736258506774902, 15.435242652893066, 14.720870018005371, 13.090532302856445, 10.469477653503418, 9.779936790466309, 9.14833927154541, 8.634750366210938, 7.804177284240723, 7.477476119995117, 7.275496959686279, 7.077428340911865, 7.029141426086426, 6.470863342285156, 6.2399821281433105, 6.068597793579102, 5.786348342895508, 5.17148494720459, 4.765427112579346, 78.9887924194336, 74.8606948852539, 58.00445556640625, 54.40972137451172, 52.05696487426758, 43.02091598510742, 29.61111831665039, 26.46185302734375, 25.81049919128418, 24.199914932250977, 23.640180587768555, 22.62791633605957, 17.981969833374023, 16.934463500976562, 15.815703392028809, 14.82595157623291, 14.668587684631348, 14.5634183883667, 12.199236869812012, 11.615731239318848, 11.16703987121582, 10.669393539428711, 8.984249114990234, 7.979604721069336, 6.186728477478027, 5.613974571228027, 5.365983486175537, 5.178472995758057, 4.967867374420166, 4.822419166564941, 79.20877075195312, 78.667724609375, 57.17085647583008, 48.513633728027344, 41.07262420654297, 40.46371841430664, 38.36626052856445, 38.006160736083984, 27.919864654541016, 24.414613723754883, 20.177785873413086, 13.016556739807129, 69.12066650390625, 12.33747673034668, 11.572182655334473, 11.510165214538574, 10.095263481140137, 8.200592041015625, 6.6427483558654785, 5.955540657043457, 5.900196552276611, 4.833115577697754, 4.433563709259033, 4.433563709259033, 4.234589576721191, 4.183889865875244, 3.953352451324463, 3.8332324028015137, 3.758521795272827, 3.6626288890838623, 211.28082275390625, 110.04103088378906, 79.4219741821289, 53.345149993896484, 36.04336166381836, 26.762182235717773, 16.066856384277344, 11.830747604370117, 10.72537612915039, 7.708432197570801, 7.425199508666992, 6.790927886962891, 6.242897987365723, 6.0159831047058105, 5.770989418029785, 5.6134443283081055, 5.549195289611816, 5.397253036499023, 4.630145072937012, 3.9643502235412598, 3.6858346462249756, 3.6603004932403564, 3.593181610107422, 2.798161268234253, 2.6951427459716797, 2.6663753986358643, 2.5964603424072266, 2.5530498027801514, 2.292428970336914, 1.9759262800216675, 71.68582916259766, 181.4818878173828, 115.83173370361328, 44.17138671875, 41.87299728393555, 41.325469970703125, 31.923688888549805, 25.437541961669922, 21.888385772705078, 19.805240631103516, 18.481868743896484, 17.451610565185547, 16.40392303466797, 14.120535850524902, 12.730655670166016, 9.683432579040527, 8.993375778198242, 7.913103103637695, 7.612916469573975, 7.131653308868408, 7.082507133483887, 6.512272834777832, 5.25427770614624, 4.522675037384033, 4.496057033538818, 4.444464683532715, 3.9408254623413086, 3.642374277114868, 2.4626526832580566, 1.690223217010498, 1.6714338064193726, 105.66240692138672, 102.25619506835938, 94.65789794921875, 55.74420166015625, 41.130672454833984, 31.277570724487305, 29.17233657836914, 28.282794952392578, 22.941221237182617, 18.182281494140625, 17.840774536132812, 17.145265579223633, 15.711296081542969, 12.531312942504883, 11.727018356323242, 7.229290962219238, 6.701581001281738, 6.4575090408325195, 6.207389831542969, 5.980140209197998, 5.331656455993652, 5.231522083282471, 5.17366886138916, 5.136379718780518, 4.421559810638428, 4.0111846923828125, 3.769054651260376, 2.5139780044555664, 2.2634172439575195, 1.963026523590088, 93.82264709472656, 66.23420715332031, 40.180606842041016, 34.961483001708984, 33.30930709838867, 29.103599548339844, 28.716672897338867, 26.206581115722656, 22.626415252685547, 21.847900390625, 17.052635192871094, 14.683155059814453, 14.438258171081543, 14.42944049835205, 13.458562850952148, 12.576253890991211, 12.534932136535645, 11.483469009399414, 10.729290008544922, 10.724709510803223, 8.970624923706055, 8.46242904663086, 8.087634086608887, 8.076128005981445, 7.892354965209961, 7.7108306884765625, 7.303732395172119, 5.978379249572754, 5.860965728759766, 4.096552848815918, 53.1722297668457, 46.08185577392578, 35.2816162109375, 29.306604385375977, 26.786901473999023, 26.661352157592773, 20.283733367919922, 19.55604362487793, 18.57245635986328, 17.378643035888672, 16.63480567932129, 16.593929290771484, 15.025511741638184, 14.094082832336426, 13.523575782775879, 11.978903770446777, 11.915146827697754, 11.697888374328613, 10.702770233154297, 10.209378242492676, 8.527639389038086, 8.014827728271484, 7.840563774108887, 7.836701393127441, 7.339033603668213, 7.2819414138793945, 6.897003173828125, 6.787299156188965, 6.478036880493164, 6.188377857208252, 76.99723815917969, 44.63515090942383, 33.58583450317383, 32.7862434387207, 30.878286361694336, 30.38067626953125, 26.410202026367188, 18.085752487182617, 17.81261444091797, 17.215248107910156, 16.04496955871582, 14.670158386230469, 14.460100173950195, 14.253382682800293, 12.332216262817383, 11.587939262390137, 11.559131622314453, 11.33758544921875, 10.70627498626709, 10.447623252868652, 9.850739479064941, 9.544764518737793, 9.154936790466309, 7.92473840713501, 7.299174785614014, 7.180863857269287, 7.123019695281982, 6.939040660858154, 6.5130767822265625, 6.022054672241211, 127.52022552490234, 81.1806411743164, 50.45716857910156, 38.40131759643555, 35.87907028198242, 16.419095993041992, 15.332877159118652, 13.218976974487305, 11.990362167358398, 11.910951614379883, 10.906816482543945, 10.253519058227539, 8.95411491394043, 8.139779090881348, 7.8103718757629395, 7.627099990844727, 7.269337177276611, 6.801693916320801, 6.655757427215576, 5.734187602996826, 5.689383506774902, 5.673029899597168, 5.3873677253723145, 5.027879238128662, 4.917348384857178, 4.807164669036865, 4.42232608795166, 4.248111248016357, 3.9029812812805176, 3.6419248580932617, 3.6419248580932617, 115.75823974609375, 71.45133972167969, 43.78980255126953, 38.25847244262695, 35.38999557495117, 18.344987869262695, 16.84490203857422, 15.305807113647461, 13.749417304992676, 9.893157958984375, 9.666357040405273, 9.405630111694336, 9.233986854553223, 9.07710075378418, 7.649339199066162, 6.812127590179443, 6.090455532073975, 5.372499942779541, 5.372500419616699, 5.372499942779541, 5.350908279418945, 5.127311706542969, 5.0475664138793945, 4.733912944793701, 4.719640731811523, 4.581854820251465, 3.842426061630249, 3.6920888423919678, 3.6328349113464355, 3.1750681400299072, 84.12770080566406, 71.24325561523438, 61.41571044921875, 48.260841369628906, 32.61111068725586, 22.22935676574707, 20.50949478149414, 20.176557540893555, 20.058786392211914, 14.925565719604492, 14.635119438171387, 13.745992660522461, 8.412982940673828, 7.9010796546936035, 6.65718412399292, 5.836190223693848, 5.4985175132751465, 5.301575660705566, 4.15177583694458, 3.816444158554077, 2.511148452758789, 2.1829495429992676, 2.1829495429992676, 2.1829495429992676, 2.1829495429992676, 2.1829495429992676, 1.678248643875122, 1.678248643875122, 1.678248643875122, 1.678248643875122, 1.678248643875122, 1.678248643875122, 103.3060302734375, 39.098567962646484, 37.65030288696289, 35.17630386352539, 33.565547943115234, 33.35699462890625, 33.334999084472656, 32.96180725097656, 26.911375045776367, 16.74267578125, 16.28009605407715, 14.189969062805176, 10.949509620666504, 9.629776954650879, 8.013225555419922, 6.569639205932617, 6.370717525482178, 5.654906272888184, 4.385096549987793, 3.613665819168091, 3.527252197265625, 2.6814682483673096, 2.363734483718872, 1.5375458002090454, 1.5375458002090454, 1.5375458002090454, 1.5375458002090454, 1.5375458002090454, 1.5375458002090454, 1.5133521556854248, 43.844215393066406, 37.548240661621094, 33.54396057128906, 31.13278579711914, 17.785682678222656, 13.350757598876953, 13.182286262512207, 12.283548355102539, 12.129372596740723, 12.053268432617188, 12.029736518859863, 11.149406433105469, 9.469069480895996, 9.324925422668457, 7.98220682144165, 7.8832597732543945, 7.678447723388672, 7.569215774536133, 7.278550624847412, 6.596134185791016, 6.3107757568359375, 6.225532531738281, 5.552404403686523, 5.38900899887085, 4.989525318145752, 4.930698871612549, 4.708288669586182, 4.643002986907959, 4.608340263366699, 4.464737892150879, 4.464737892150879, 57.57953643798828, 42.17752456665039, 32.37934112548828, 18.734601974487305, 16.95918846130371, 14.079415321350098, 13.491127014160156, 12.097755432128906, 11.902679443359375, 9.654775619506836, 9.626235008239746, 9.578670501708984, 9.489741325378418, 8.746658325195312, 8.607376098632812, 8.335606575012207, 8.216461181640625, 7.7302775382995605, 7.603748321533203, 7.2964863777160645, 7.116042613983154, 7.07848596572876, 6.488216876983643, 6.449220180511475, 6.423312664031982, 6.240724563598633, 5.717720985412598, 5.318849563598633, 4.85272216796875, 4.850221633911133, 104.12721252441406, 98.32513427734375, 47.765228271484375, 32.436241149902344, 27.918373107910156, 17.602209091186523, 14.632841110229492, 13.555609703063965, 11.653383255004883, 10.796884536743164, 8.539580345153809, 6.245046615600586, 5.767945289611816, 5.4648661613464355, 3.1962733268737793, 2.4614551067352295, 2.0965960025787354, 1.6813199520111084, 1.2399868965148926, 1.2399868965148926, 1.2399868965148926, 1.2399868965148926, 1.1331876516342163, 0.9911520481109619, 0.7654662728309631, 0.49908313155174255, 0.34279298782348633, 0.34279298782348633, 0.2790251672267914, 0.21158118546009064, 63.83706283569336, 57.56312942504883, 37.67038345336914, 17.422134399414062, 14.48668384552002, 12.376463890075684, 12.005790710449219, 11.502034187316895, 9.039772033691406, 8.264751434326172, 7.86370325088501, 7.679820537567139, 7.443802356719971, 5.732722282409668, 5.47260046005249, 5.343942642211914, 5.306731700897217, 5.21566104888916, 4.83772087097168, 4.566257953643799, 4.314346790313721, 3.9397354125976562, 3.9397354125976562, 3.9397354125976562, 3.9397354125976562, 3.9397354125976562, 3.9397354125976562, 3.9397354125976562, 3.9397354125976562, 3.9397354125976562, 3.9397354125976562, 3.9397354125976562, 62.81591796875, 58.88962173461914, 48.54349899291992, 29.051959991455078, 27.55267333984375, 26.349645614624023, 25.44218635559082, 21.35580825805664, 20.273681640625, 16.523704528808594, 15.421738624572754, 12.87061882019043, 12.18603515625, 8.466059684753418, 7.164477348327637, 3.4436633586883545, 3.306443452835083, 3.0230631828308105, 2.4422171115875244, 1.1132603883743286, 1.1132603883743286, 0.7532703876495361, 0.7532702684402466, 0.7532702684402466, 0.7532703876495361, 0.7532702684402466, 0.6681972146034241, 0.6039332747459412, 0.44394993782043457, 0.34903836250305176, 42.10350036621094, 26.24274253845215, 24.16653060913086, 23.164045333862305, 22.300220489501953, 21.502601623535156, 18.184043884277344, 17.717920303344727, 16.336015701293945, 13.102639198303223, 11.1826810836792, 9.841087341308594, 9.541500091552734, 9.449187278747559, 9.305949211120605, 9.09688949584961, 8.690190315246582, 8.671911239624023, 8.216641426086426, 8.131024360656738, 8.1221342086792, 7.350385665893555, 7.179167747497559, 6.4199113845825195, 4.832702159881592, 4.603663921356201, 4.584840774536133, 4.440952301025391, 4.2484917640686035, 4.140930652618408, 33.33645248413086, 30.03167724609375, 28.259084701538086, 24.341632843017578, 21.567276000976562, 19.332551956176758, 15.67231273651123, 13.755066871643066, 12.796343803405762, 12.382479667663574, 11.624784469604492, 11.624784469604492, 11.045818328857422, 9.331734657287598, 8.29923152923584, 8.0149507522583, 7.880787372589111, 5.956488609313965, 5.829104423522949, 5.824822425842285, 5.818695068359375, 5.818695068359375, 5.818695068359375, 5.818695068359375, 5.818695068359375, 5.818695068359375, 5.818695068359375, 5.818695068359375, 5.818695068359375, 5.818695068359375, 52.45819854736328, 36.698795318603516, 31.157960891723633, 26.38269805908203, 20.404088973999023, 20.130064010620117, 18.12352180480957, 14.652467727661133, 14.106084823608398, 13.305291175842285, 13.29318904876709, 11.54533863067627, 10.43980884552002, 10.033326148986816, 9.716156959533691, 7.862597465515137, 7.125637531280518, 7.1216044425964355, 6.837554931640625, 4.691153049468994, 4.626887798309326, 4.076745986938477, 3.8054866790771484, 3.7479124069213867, 3.655907154083252, 3.5678532123565674, 2.7517714500427246, 2.739856004714966, 2.739856004714966, 2.739856004714966, 46.232818603515625, 32.61727523803711, 31.673587799072266, 28.00191307067871, 21.155899047851562, 15.600394248962402, 15.043808937072754, 9.546649932861328, 9.541909217834473, 8.055193901062012, 7.939899444580078, 7.284553050994873, 7.214914798736572, 6.542370796203613, 6.320214748382568, 6.280780792236328, 6.171740531921387, 5.262936592102051, 4.786173343658447, 4.786173343658447, 4.786173343658447, 4.471633434295654, 4.369142532348633, 3.977205991744995, 3.623044729232788, 3.6137497425079346, 3.6137497425079346, 3.6137497425079346, 3.6137497425079346, 3.6137502193450928, 74.85462188720703, 32.70003128051758, 26.673372268676758, 24.573732376098633, 23.150205612182617, 21.741540908813477, 20.281871795654297, 16.973190307617188, 12.710161209106445, 12.491182327270508, 9.230391502380371, 7.016424655914307, 6.891256809234619, 6.891256809234619, 5.467378616333008, 5.110527992248535, 5.110344409942627, 4.553386688232422, 4.497117519378662, 4.1967620849609375, 3.622337818145752, 3.4524953365325928, 3.4524953365325928, 3.4524953365325928, 3.188180923461914, 3.1168394088745117, 2.75282621383667, 2.7253787517547607, 2.6767070293426514, 2.05168080329895, 38.037437438964844, 32.77513122558594, 22.053083419799805, 18.76974868774414, 17.822511672973633, 16.12010955810547, 14.028226852416992, 13.907081604003906, 11.80226993560791, 10.592193603515625, 10.579922676086426, 10.130472183227539, 9.8367338180542, 9.638710021972656, 9.421273231506348, 8.088139533996582, 7.52880859375, 7.185571670532227, 6.551036357879639, 6.5336689949035645, 6.46873664855957, 5.84127140045166, 5.693808555603027, 5.034913063049316, 4.810281753540039, 4.773309707641602, 4.614547252655029, 4.231844425201416, 3.4711368083953857, 3.3386497497558594, 29.4345703125, 27.933704376220703, 20.94673728942871, 20.690078735351562, 18.048967361450195, 17.201051712036133, 15.892895698547363, 15.864297866821289, 12.955633163452148, 12.207706451416016, 11.084019660949707, 9.175552368164062, 9.162253379821777, 8.644142150878906, 8.367603302001953, 8.140835762023926, 6.936812400817871, 6.097997188568115, 5.975980758666992, 5.922959804534912, 5.889931678771973, 5.691368103027344, 5.598808288574219, 5.279931545257568, 5.204921722412109, 5.04574728012085, 5.027073383331299, 3.9397265911102295, 3.226794719696045, 3.2012875080108643, 64.07365417480469, 32.00436019897461, 24.207239151000977, 14.83582878112793, 11.592345237731934, 11.592122077941895, 11.047672271728516, 9.76771068572998, 9.241236686706543, 7.649470806121826, 6.955240249633789, 6.6250505447387695, 6.566433906555176, 5.466891288757324, 5.087401866912842, 4.872051239013672, 4.821637153625488, 4.2533111572265625, 4.215166091918945, 3.878835439682007, 3.7662155628204346, 3.656852960586548, 3.6184895038604736, 3.618082046508789, 3.55033016204834, 3.55033016204834, 3.534482955932617, 3.50980544090271, 3.4136152267456055, 3.3970820903778076, 75.84225463867188, 64.7302474975586, 48.71211242675781, 23.68202781677246, 23.607982635498047, 17.786823272705078, 15.464929580688477, 11.442462921142578, 10.057596206665039, 9.156867980957031, 8.275205612182617, 7.279958248138428, 4.564360618591309, 4.56436014175415, 4.56436014175415, 3.999359369277954, 3.333484172821045, 2.823219060897827, 1.9153873920440674, 1.6098668575286865, 1.09312903881073, 0.3365159332752228, 0.3365159332752228, 0.3365159332752228, 0.3365159332752228, 0.3365159332752228, 0.3365159332752228, 0.3365159332752228, 0.3365159332752228, 0.3365159332752228, 0.3365159332752228, 9.48420524597168, 89.64811706542969, 51.31031799316406, 36.4998664855957, 33.58753967285156, 29.267568588256836, 19.836162567138672, 8.862421035766602, 6.362992763519287, 6.281264305114746, 5.161724090576172, 4.785830497741699, 3.50384783744812, 3.403411865234375, 3.400705337524414, 3.3815226554870605, 3.3815226554870605, 2.96317458152771, 2.96317458152771, 2.96317458152771, 2.96317458152771, 2.96317458152771, 2.96317458152771, 2.96317458152771, 2.963062047958374, 2.5207161903381348, 2.2758491039276123, 2.2758491039276123, 2.232124090194702, 2.202651023864746, 2.136183500289917, 57.988975524902344, 47.721092224121094, 21.244701385498047, 17.395610809326172, 14.222418785095215, 13.528810501098633, 11.517114639282227, 10.99059009552002, 9.309243202209473, 8.519737243652344, 8.028886795043945, 6.966782569885254, 6.888514518737793, 6.361165523529053, 6.245967864990234, 5.837626934051514, 5.401432514190674, 5.268423557281494, 4.42440128326416, 4.0081939697265625, 3.598278522491455, 3.51875376701355, 3.5145177841186523, 3.389916181564331, 3.389916181564331, 2.6456334590911865, 2.135453701019287, 2.0893452167510986, 1.939794898033142, 1.429585576057434, 160.6569061279297, 26.441781997680664, 17.442907333374023, 12.264494895935059, 11.635662078857422, 11.614933013916016, 10.628840446472168, 10.119136810302734, 9.90534782409668, 8.059711456298828, 7.312925338745117, 6.713740348815918, 2.9691712856292725, 1.7589387893676758, 1.0040602684020996, 0.7655501365661621, 0.5434017181396484, 0.4434877634048462, 0.4434877634048462, 0.4434877634048462, 0.4434877634048462, 0.19969196617603302, 0.12285993248224258, 0.0926053449511528, 0.08851252496242523, 0.02836473472416401, 0.02836473472416401, 0.02836473472416401, 0.02836473472416401, 0.021841656416654587, 0.021841656416654587, 0.021841656416654587, 0.02197769470512867, 0.02197769470512867, 40.915645599365234, 24.854843139648438, 21.860334396362305, 20.194499969482422, 18.12590217590332, 16.351003646850586, 12.879481315612793, 10.925585746765137, 10.692688941955566, 10.630157470703125, 10.457653045654297, 8.863780975341797, 8.837255477905273, 7.88261604309082, 7.283402919769287, 7.265068054199219, 3.433746099472046, 3.0214195251464844, 2.629436731338501, 2.436352014541626, 2.1543385982513428, 1.6564427614212036, 1.6409662961959839, 1.2781957387924194, 22.397689819335938, 0.8269686102867126, 0.652495801448822, 0.6484031677246094, 0.6484031677246094, 0.6484031677246094, 0.6484031677246094, 47.33777618408203, 39.206817626953125, 17.372827529907227, 10.738690376281738, 9.705329895019531, 9.190402030944824, 8.056538581848145, 7.781080722808838, 7.2225728034973145, 6.619475841522217, 6.529892921447754, 6.167710304260254, 5.798807621002197, 5.663809776306152, 4.827542304992676, 4.386355400085449, 4.300843238830566, 4.242555141448975, 4.188113212585449, 4.077293872833252, 3.8131790161132812, 3.7804207801818848, 3.751896381378174, 3.751896381378174, 3.751896381378174, 3.552952766418457, 3.1445510387420654, 3.1336209774017334, 2.600783586502075, 2.600783586502075, 2.600783586502075, 34.64960479736328, 26.543323516845703, 21.688146591186523, 21.21154022216797, 15.611949920654297, 12.869001388549805, 12.158873558044434, 9.08609676361084, 8.568099975585938, 8.102930068969727, 7.314950942993164, 6.801524639129639, 6.517574787139893, 6.199331283569336, 6.0591864585876465, 5.262423038482666, 5.056843280792236, 5.041049003601074, 4.871801376342773, 4.590945243835449, 4.525029182434082, 4.353905200958252, 4.276059627532959, 4.25032377243042, 3.5148210525512695, 3.3589634895324707, 2.77825927734375, 2.771953821182251, 2.694155693054199, 2.655369520187378, 55.237640380859375, 21.900667190551758, 15.610587120056152, 12.337828636169434, 8.919733047485352, 8.383489608764648, 7.5902557373046875, 7.231477737426758, 7.196873188018799, 7.0854926109313965, 6.673449516296387, 6.6673102378845215, 6.647800445556641, 6.26910400390625, 5.931202411651611, 5.521604537963867, 3.947796106338501, 3.9007160663604736, 3.792332172393799, 3.7036657333374023, 3.476722478866577, 3.476722478866577, 3.476722478866577, 3.476722478866577, 3.476722478866577, 3.476722478866577, 3.476722478866577, 3.476722478866577, 3.476722478866577, 3.476722478866577, 14.307694435119629, 39.982147216796875, 28.10019874572754, 27.895479202270508, 23.340091705322266, 14.875894546508789, 13.576438903808594, 12.938407897949219, 10.995461463928223, 9.687491416931152, 8.924906730651855, 7.990898609161377, 7.14633321762085, 7.033938884735107, 6.654910564422607, 6.359215259552002, 5.041055679321289, 5.001611709594727, 4.364220142364502, 4.278433322906494, 3.754854679107666, 3.359679698944092, 2.9318671226501465, 2.8617970943450928, 2.8617970943450928, 1.870639443397522, 1.4381606578826904, 1.4381606578826904, 1.4381606578826904, 1.4381606578826904, 1.4381606578826904, 1.4381606578826904, 1.4381606578826904, 1.4381606578826904, 26.213563919067383, 20.57442855834961, 19.400327682495117, 12.805410385131836, 12.195762634277344, 9.715703010559082, 9.175515174865723, 8.46960163116455, 7.917774200439453, 7.836445331573486, 7.682153224945068, 7.248366832733154, 6.8203253746032715, 6.4856367111206055, 5.151975631713867, 5.151975631713867, 5.151975631713867, 5.151975631713867, 5.151975631713867, 5.151975631713867, 5.151975631713867, 5.151975631713867, 4.600336074829102, 4.411866188049316, 4.313009738922119, 4.292291641235352, 3.9140589237213135, 3.6976025104522705, 3.630800724029541, 3.6128287315368652, 3.6128287315368652, 3.6128287315368652, 3.6128287315368652, 3.6128287315368652, 3.6128287315368652, 60.06061935424805, 34.104129791259766, 26.319194793701172, 18.402320861816406, 14.872766494750977, 14.667948722839355, 14.178023338317871, 8.59727954864502, 7.7088303565979, 6.416912078857422, 5.7794413566589355, 5.567627906799316, 5.312868118286133, 5.047064304351807, 4.757580280303955, 4.692735195159912, 3.55184268951416, 3.406934976577759, 3.1186792850494385, 2.0770394802093506, 2.0612831115722656, 2.029759407043457, 1.978036642074585, 1.969262957572937, 1.8393492698669434, 1.7837951183319092, 1.6573289632797241, 1.6112258434295654, 1.6112258434295654, 1.5957870483398438, 29.741384506225586, 24.141592025756836, 24.115421295166016, 17.48017692565918, 16.06495475769043, 13.843870162963867, 9.355119705200195, 8.649227142333984, 8.610734939575195, 7.522780895233154, 6.581680774688721, 6.238913536071777, 5.952250957489014, 5.71697473526001, 5.5303802490234375, 5.055535793304443, 4.700679779052734, 4.323124408721924, 4.06732702255249, 3.883282423019409, 3.831244945526123, 3.831244945526123, 3.703068256378174, 3.703068256378174, 3.1779561042785645, 3.104954481124878, 2.481344223022461, 2.1412510871887207, 1.9823194742202759, 1.9823194742202759, 24.695985794067383, 15.480772018432617, 13.415218353271484, 13.358772277832031, 12.889557838439941, 10.327605247497559, 9.503073692321777, 7.82893180847168, 7.549709796905518, 6.658088684082031, 6.587233066558838, 6.339120388031006, 5.959607124328613, 5.829896450042725, 5.778383255004883, 5.728773593902588, 5.46636438369751, 5.2074666023254395, 5.173165798187256, 5.167722702026367, 5.167722702026367, 4.267638683319092, 4.116856098175049, 4.067903518676758, 3.9313747882843018, 3.3749923706054688, 3.221156597137451, 3.17511248588562, 3.175112247467041, 3.175112247467041, 3.175112247467041, 3.175112247467041, 3.175112247467041, 3.175112247467041, 3.175112247467041, 3.175112247467041, 3.175112247467041, 61.279903411865234, 22.69425392150879, 17.125385284423828, 14.916007041931152, 12.240110397338867, 9.940881729125977, 8.810050964355469, 5.856081485748291, 5.8088579177856445, 5.710311412811279, 5.5464558601379395, 5.292566776275635, 5.2633562088012695, 5.20522403717041, 4.998383522033691, 4.59016227722168, 4.230093479156494, 2.988467216491699, 2.9786376953125, 2.951669454574585, 2.5887856483459473, 2.1513776779174805, 1.7205727100372314, 1.7205727100372314, 1.7205727100372314, 1.670464277267456, 1.5443257093429565, 1.5090162754058838, 1.5090162754058838, 1.41029953956604, 6.753660202026367, 57.204341888427734, 28.639057159423828, 12.608969688415527, 11.624792098999023, 8.618135452270508, 8.023186683654785, 6.899512767791748, 6.160873889923096, 6.041566371917725, 5.526477813720703, 5.175169467926025, 4.222527027130127, 3.885634422302246, 3.778677463531494, 3.652364730834961, 3.514313220977783, 3.2017738819122314, 3.1484603881835938, 2.8372926712036133, 2.3986470699310303, 2.178255319595337, 1.9235495328903198, 1.8627605438232422, 1.853305459022522, 1.853305459022522, 1.853305459022522, 1.853305459022522, 1.853305459022522, 1.853305459022522, 1.853305459022522, 1.853305459022522, 1.853305459022522, 1.853305459022522, 20.920978546142578, 12.488350868225098, 11.844047546386719, 11.736051559448242, 8.817644119262695, 8.019237518310547, 7.14223575592041, 7.014724254608154, 7.007418155670166, 6.9789204597473145, 6.036444664001465, 5.921688079833984, 5.352324962615967, 5.272735595703125, 4.95733642578125, 4.471530914306641, 3.6359474658966064, 3.2273013591766357, 3.0895795822143555, 3.0055370330810547, 2.9425175189971924, 2.866915464401245, 2.866915464401245, 2.866915464401245, 2.7508153915405273, 2.360473155975342, 2.360473155975342, 1.9794446229934692, 1.933371901512146, 1.4407426118850708, 1.4407426118850708, 1.4407426118850708, 1.4407426118850708, 1.4407426118850708, 1.4407426118850708, 1.4407426118850708, 1.4407426118850708, 1.4407426118850708, 1.4407426118850708, 1.4407426118850708, 1.4407426118850708, 26.277891159057617, 14.632880210876465, 12.746466636657715, 10.787240982055664, 9.677316665649414, 9.22107982635498, 8.51380729675293, 6.200875759124756, 5.421550273895264, 4.982540607452393, 4.924214839935303, 4.779079914093018, 4.505846977233887, 4.450749397277832, 4.186713218688965, 4.139316082000732, 4.139316082000732, 4.060852527618408, 3.0006778240203857, 2.9343738555908203, 2.8194046020507812, 2.6534838676452637, 2.435704469680786, 2.1190848350524902, 2.0777318477630615, 2.0777318477630615, 2.0777318477630615, 2.0777318477630615, 2.0777318477630615, 2.0777318477630615, 2.0777318477630615, 2.0777318477630615, 2.0777318477630615, 2.0777318477630615, 2.0777318477630615, 2.0777318477630615, 2.0777318477630615, 2.0777318477630615, 20.085824966430664, 13.640434265136719, 11.262323379516602, 9.526902198791504, 8.350894927978516, 8.346214294433594, 6.940347194671631, 5.091583251953125, 5.085970878601074, 5.017980098724365, 4.927698135375977, 4.927698135375977, 4.332636833190918, 3.8074800968170166, 3.773869752883911, 2.9302821159362793, 2.7126195430755615, 2.701808452606201, 2.5227606296539307, 2.513908624649048, 2.5017082691192627, 2.5017082691192627, 2.5017082691192627, 2.5017082691192627, 2.5017082691192627, 2.5017082691192627, 2.4285411834716797, 2.3118715286254883, 2.165933132171631, 1.7210261821746826, 22.556577682495117, 22.096023559570312, 20.501157760620117, 13.161199569702148, 10.812369346618652, 8.865472793579102, 7.4696221351623535, 7.370503902435303, 6.162775039672852, 5.626798152923584, 5.129983425140381, 4.782093524932861, 4.249024868011475, 3.8905258178710938, 3.6322829723358154, 3.3243846893310547, 2.9590096473693848, 2.5663001537323, 2.483961820602417, 2.483961820602417, 1.9657835960388184, 1.9436798095703125, 1.9081817865371704, 1.9081817865371704, 1.9081817865371704, 1.9081817865371704, 1.4163165092468262, 1.2954539060592651, 1.0266482830047607, 0.9894056916236877, 0.9894056916236877, 0.9894056916236877, 0.9894056916236877, 0.9894056916236877, 17.219341278076172, 15.67116641998291, 14.3033447265625, 13.161147117614746, 9.117342948913574, 8.754779815673828, 8.112740516662598, 6.721746444702148, 6.611801624298096, 6.229289531707764, 5.975269317626953, 4.5961503982543945, 4.044517993927002, 4.042182445526123, 3.980380058288574, 3.744816780090332, 3.468825101852417, 3.2246456146240234, 2.8124561309814453, 2.3291244506835938, 2.1895012855529785, 2.1391074657440186, 2.081481695175171, 2.081481456756592, 2.081481695175171, 1.6522125005722046, 1.402047872543335, 1.3226994276046753, 1.299929141998291, 1.2609115839004517], \"Term\": [\"system\", \"brake\", \"drive\", \"camera\", \"problem\", \"issue\", \"time\", \"park\", \"warning\", \"driver\", \"go\", \"lane\", \"start\", \"collision\", \"work\", \"dealer\", \"front\", \"take\", \"stop\", \"also\", \"light\", \"safety\", \"make\", \"failure\", \"fail\", \"see\", \"say\", \"truck\", \"feature\", \"screen\", \"brake\", \"front\", \"stop\", \"mph\", \"road\", \"come\", \"speed\", \"could\", \"emergency\", \"occur\", \"set\", \"hit\", \"automatic\", \"avoid\", \"foot\", \"situation\", \"appear\", \"feel\", \"multiple\", \"know\", \"activate\", \"normal\", \"travel\", \"sudden\", \"allow\", \"continue\", \"hard\", \"rear_end\", \"less\", \"braking\", \"go\", \"accident\", \"vehicle\", \"issue\", \"time\", \"safety\", \"happen\", \"would\", \"get\", \"mile\", \"dealership\", \"need\", \"use\", \"second\", \"report\", \"reverse\", \"suddenly\", \"first\", \"auto\", \"break\", \"serious\", \"seat\", \"quickly\", \"week\", \"concern\", \"seem\", \"approximately\", \"lock\", \"look\", \"never\", \"nothing\", \"later\", \"check\", \"lane\", \"dealer\", \"take\", \"back\", \"adaptive_cruise_control\", \"sensor\", \"leave\", \"find\", \"apply\", \"slow\", \"design\", \"contact\", \"state\", \"however\", \"approach\", \"believe\", \"attempt\", \"trailer\", \"crash\", \"engineer\", \"buy\", \"part\", \"position\", \"experience\", \"notify\", \"large\", \"radar\", \"straight\", \"adaptive_cruise\", \"injury\", \"turn\", \"vehicle\", \"light\", \"truck\", \"engage\", \"may\", \"forward\", \"highway\", \"car\", \"incident\", \"follow\", \"side\", \"driving\", \"cruise_control\", \"drive\", \"sound\", \"home\", \"pre\", \"attach\", \"hour\", \"pm\", \"hear\", \"wait\", \"warn\", \"engaged\", \"windshield\", \"accelerated\", \"fine\", \"strike\", \"december\", \"suggestion\", \"ntsb\", \"collision\", \"turn\", \"system\", \"problem\", \"work\", \"fix\", \"pull\", \"rain\", \"include\", \"wheel\", \"lane_departure\", \"avoidance\", \"dynamic\", \"become\", \"middle\", \"intermittently\", \"numerous\", \"hold\", \"correctly\", \"unrelated\", \"exl\", \"worse\", \"bolt\", \"still\", \"fcws\", \"steady\", \"durango\", \"baby\", \"wobbling\", \"whole\", \"drivetrain\", \"precision\", \"collision\", \"variability\", \"acid\", \"warning\", \"alert\", \"several\", \"not\", \"new\", \"can\", \"information\", \"signal\", \"dangerous\", \"package\", \"response\", \"lease\", \"similar\", \"accord\", \"advertise\", \"support\", \"recently\", \"visual\", \"audible\", \"face\", \"brakea\", \"risk\", \"fcw\", \"tech\", \"calibration\", \"additional\", \"rely\", \"austin\", \"overhead\", \"realize\", \"also\", \"make\", \"say\", \"many\", \"year\", \"do\", \"recall\", \"gas\", \"think\", \"difficult\", \"enough\", \"point\", \"product\", \"pass\", \"manufacture\", \"soon\", \"shock\", \"buick\", \"huge\", \"step\", \"adjacent\", \"usa\", \"post\", \"power_steer\", \"recurrent\", \"keepnupdat\", \"glich\", \"denver\", \"warninga\", \"disarm\", \"wheelerbis\", \"malfunctiona\", \"camera\", \"fail\", \"control\", \"much\", \"properly\", \"long\", \"disengage\", \"constantly\", \"possible\", \"check_engine_light\", \"infotainment\", \"forum\", \"traction\", \"limit\", \"sun\", \"restarting\", \"inside\", \"retract\", \"seat_belt\", \"specific\", \"mention\", \"testing\", \"standard\", \"top\", \"narrowly\", \"technician\", \"hesitate\", \"useless\", \"original\", \"fiat\", \"cause\", \"transmission\", \"well\", \"result\", \"line\", \"power\", \"loss\", \"freeway\", \"interstate\", \"push\", \"clearly\", \"apparently\", \"entire\", \"easily\", \"factory\", \"mil\", \"fourth\", \"software_updat\", \"sticker\", \"closely\", \"shoulder\", \"particular\", \"comfortable\", \"fire\", \"increasingly\", \"oil\", \"ride\", \"exhaust\", \"hatch\", \"rattle\", \"display\", \"purchase\", \"call\", \"blind_spot\", \"error\", \"battery\", \"odometer\", \"total\", \"small\", \"detection\", \"hazard\", \"mirror\", \"currently\", \"big\", \"text\", \"instrument_cluster\", \"cross_traffic\", \"icon\", \"phone\", \"matter\", \"portion\", \"blank\", \"replicate\", \"seriously\", \"ring\", \"charge\", \"easy\", \"crossing\", \"voltage\", \"bind\", \"keep\", \"move\", \"away\", \"steer\", \"flash\", \"center\", \"assistance\", \"last\", \"beep\", \"autonomous\", \"steering_pilot\", \"customer\", \"even\", \"navigation\", \"solution\", \"setting\", \"letter\", \"cue\", \"scratch\", \"chevrolet\", \"hope\", \"inconvenience\", \"rim\", \"didna\", \"truth\", \"unknown\", \"envision\", \"blindspot\", \"resolution\", \"trade\", \"park\", \"service\", \"tell\", \"roll\", \"unable\", \"something\", \"neutral\", \"wall\", \"insurance\", \"lurch\", \"hospital\", \"personally\", \"everything\", \"departure\", \"blurry\", \"specialist\", \"grab\", \"partial\", \"wonder\", \"ldw\", \"download\", \"jobsite\", \"horrible\", \"lift\", \"fence\", \"genesis\", \"ok\", \"plan\", \"collison\", \"wreck\", \"go\", \"start\", \"screen\", \"update\", \"read\", \"begin\", \"module\", \"present\", \"illuminate\", \"notice\", \"abruptly\", \"component\", \"march\", \"april\", \"snow\", \"sight\", \"february\", \"warrant\", \"dry\", \"leak\", \"wet\", \"tight\", \"hot\", \"add\", \"bridge\", \"feb\", \"mail\", \"analysis\", \"grocery\", \"approximate\", \"ground\", \"computer\", \"assist\", \"right\", \"show\", \"steering_wheel\", \"software\", \"hand\", \"pay\", \"remain\", \"instead\", \"oncoming_traffic\", \"perform\", \"write\", \"degree\", \"adjustment\", \"unintended\", \"immediate\", \"indication\", \"series\", \"transfer\", \"slope\", \"maximum\", \"bluetooth\", \"turning\", \"reply\", \"gps\", \"lemon_law\", \"phoenix\", \"internal\", \"operable\", \"day\", \"damage\", \"because\", \"alarm\", \"clear\", \"occasion\", \"eyesight\", \"anything\", \"duplicate\", \"indicator\", \"other\", \"property\", \"refuse\", \"luckily\", \"skid\", \"sunny\", \"instance\", \"hurt\", \"ago\", \"obstruction\", \"strongly\", \"process\", \"highly\", \"relevant\", \"blame\", \"private\", \"ab\", \"prior\", \"pcs\", \"ice\", \"shift\", \"force\", \"store\", \"sense\", \"operate\", \"aware\", \"mount\", \"create\", \"occurrence\", \"stay\", \"ongoing\", \"fsc\", \"tesla\", \"motor\", \"air\", \"description\", \"intermittent\", \"speedometer\", \"safely\", \"intend\", \"smart\", \"heat\", \"connection\", \"witness\", \"fca\", \"selector\", \"supply\", \"unusual\", \"period\", \"incorrectly\", \"pedal\", \"press\", \"shut\", \"hill\", \"longer\", \"idle\", \"noise\", \"electronic\", \"rpm\", \"ignore\", \"fall\", \"play\", \"drop\", \"flat\", \"act\", \"reboot\", \"vibrate\", \"level\", \"town\", \"floor\", \"consider\", \"pressing\", \"loud\", \"performance\", \"jump\", \"item\", \"worried\", \"apparent_reason\", \"discover\", \"yesterday\", \"failure\", \"repair\", \"entertainment\", \"manufacturer\", \"unavailable\", \"mileage\", \"contact_own\", \"mazda\", \"throttle_body\", \"vin\", \"collusion\", \"failure_mileage\", \"mdx\", \"uphill\", \"various\", \"conditioner\", \"danbury\", \"mercedes_benz\", \"operating\", \"decelerate\", \"consumer_write\", \"amount\", \"contact_stat\", \"houston\", \"moisture\", \"exceed\", \"tlx\", \"opinion\", \"abnormal\", \"sugar\", \"hollow\", \"see\", \"function\", \"give\", \"manual\", \"high\", \"equip\", \"capability\", \"actually\", \"music\", \"photo\", \"employee\", \"feel_safe\", \"blinker\", \"fast\", \"admit\", \"answer\", \"ownership\", \"enclave\", \"described\", \"instrumention\", \"vibration\", \"meet\", \"surely\", \"balance\", \"prime\", \"question\", \"mostly\", \"sonar\", \"noticeable\", \"damaged\", \"mitigation\", \"message\", \"month\", \"acc\", \"next\", \"require\", \"diagnose\", \"brand_new\", \"old\", \"bad\", \"really\", \"star\", \"programming\", \"undivided\", \"proximity\", \"often\", \"seek\", \"nothing_wrong\", \"odd\", \"ecu\", \"wind\", \"vancouver\", \"disgust\", \"dick\", \"startling\", \"hannah\", \"enhance\", \"situational\", \"annoying\", \"autozone\", \"intermittantly\", \"cloud\", \"traffic\", \"object\", \"red\", \"dash\", \"lot\", \"behind\", \"suv\", \"receive\", \"condition\", \"shop\", \"always\", \"main\", \"sign\", \"slight\", \"pas\", \"neighborhood\", \"effort\", \"existent\", \"collided\", \"suggest\", \"florida\", \"porsche\", \"glare\", \"considerably\", \"appx\", \"unsettling\", \"silver\", \"incredibly\", \"mountain\", \"previously\", \"open\", \"event\", \"disable\", \"close\", \"attention\", \"cluster\", \"discuss\", \"informed\", \"audio\", \"destination\", \"disabled\", \"office\", \"station\", \"important\", \"depressed\", \"nhtsa\", \"thankfully\", \"investigation\", \"rapid\", \"white\", \"saturday\", \"critical\", \"unexpected\", \"limited\", \"probably\", \"breaking\", \"fear\", \"inappropriately\", \"precede\", \"fusion\", \"inappropriate\", \"door\", \"prevent\", \"metal\", \"minute\", \"backing\", \"cool\", \"overheat\", \"verify\", \"pickup\", \"flashing\", \"rather\", \"one\", \"react\", \"bcm\", \"agree\", \"public\", \"ridiculous\", \"market\", \"north\", \"pick\", \"consistently\", \"helpful\", \"physical\", \"jammed\", \"spot\", \"interval\", \"ram\", \"asterisk\", \"wipe\", \"california\", \"feature\", \"rear\", \"ahead\", \"full\", \"intersection\", \"file\", \"police_report\", \"impossible\", \"involve\", \"manually\", \"view\", \"sell\", \"mid\", \"yard\", \"ending\", \"enhanced\", \"quick\", \"infiniti\", \"recognition\", \"cockpit\", \"virtual\", \"richmond\", \"booster\", \"clubman\", \"reflector\", \"gridline\", \"regulation\", \"mini\", \"overtake\", \"tr\", \"try\", \"put\", \"immediately\", \"roadway\", \"leg\", \"expressway\", \"past\", \"crv\", \"grill\", \"slightly\", \"spine\", \"panic\", \"sensitive\", \"anymore\", \"cement\", \"obtain\", \"allegedly\", \"debris\", \"decide\", \"stiff\", \"manage\", \"lumbar\", \"therapist\", \"iihs\", \"uncomfortable\", \"buttock\", \"pillow\", \"kne\", \"tsp\", \"comfort\", \"miserable\", \"butt\", \"code\", \"case\", \"test\", \"major\", \"late\", \"indicate\", \"false\", \"date\", \"family\", \"extremely\", \"random\", \"surface\", \"city\", \"acknowledge\", \"constant\", \"tsb\", \"veh\", \"likely\", \"nature\", \"unsuspecting\", \"doesna\", \"mgr\", \"phillip\", \"leesburg\", \"parameter\", \"closed\", \"bulletin\", \"pend\", \"jan\", \"latter\", \"monitor\", \"people\", \"panel\", \"yet\", \"area\", \"wrong\", \"kill\", \"dead\", \"touch\", \"mine\", \"near\", \"trigger\", \"com\", \"error_message\", \"trust\", \"instal\", \"online\", \"site\", \"tire_pressure\", \"therefore\", \"example\", \"alone\", \"disability\", \"title\", \"cmb\", \"sept\", \"wea\", \"suffer\", \"angle\", \"inspect\", \"black\", \"explain\", \"even_though\", \"claim\", \"help\", \"good\", \"already\", \"completely\", \"sale\", \"busy\", \"underwater\", \"iphone\", \"eye\", \"website\", \"fortunately\", \"register\", \"hazardous\", \"expect\", \"telephone\", \"payment\", \"abreast\", \"fahrenheit\", \"celsius\", \"unsync\", \"unchecked\", \"caller\", \"kilometer\", \"downpayment\", \"language\", \"haywire\", \"replace\", \"available\", \"cover\", \"order\", \"warranty\", \"disconnect\", \"someone\", \"vw\", \"danger\", \"faulty\", \"year_old\", \"mark\", \"america\", \"repeat\", \"request\", \"shade\", \"death\", \"deductible\", \"injure\", \"like\", \"separation\", \"round\", \"trap\", \"shape\", \"notification\", \"malibu\", \"limitation\", \"departue\", \"warrany\", \"dealrship\", \"parking_lot\", \"key\", \"end\", \"place\", \"unsafe\", \"unintended_acceleration\", \"switch\", \"ignition\", \"fob\", \"rental\", \"pursuant\", \"disclose\", \"videotape\", \"agency\", \"tampa\", \"gray\", \"selection\", \"scan\", \"redact\", \"freedom\", \"information_act_foia\", \"name\", \"tape\", \"click\", \"gearshift\", \"colleague\", \"permit\", \"bumped\", \"clicking\", \"reparked\", \"accelerate\", \"low\", \"tow\", \"acceleration\", \"respond\", \"visit\", \"accelerator\", \"green\", \"depress\", \"min\", \"electric\", \"motorist\", \"calmly\", \"join\", \"east\", \"unlock\", \"mechanism\", \"used\", \"thirdly\", \"controller\", \"gauge\", \"unintentionally\", \"autobrak\", \"infront\", \"elantra\", \"reassurance\", \"specifically\", \"coast\", \"gutter\", \"application\", \"lose\", \"aeb\", \"hyundai\", \"randomly\", \"continuously\", \"instrument_panel\", \"short\", \"retrieve\", \"own\", \"regardless\", \"beeping\", \"medium\", \"word\", \"backwards\", \"source\", \"rapidly\", \"awd\", \"normally\", \"ability\", \"wire\", \"speaker\", \"ultimately\", \"sonata\", \"distraction\", \"nhsta\", \"forcefully\", \"exist\", \"blind_spot_detection\", \"occupant\", \"guess\", \"motion\", \"window\", \"miles_per_hour\", \"rear_view\", \"concerned\", \"finally\", \"roadside\", \"protect\", \"tomorrow\", \"approx\", \"furthermore\", \"https\", \"fact\", \"autopilot\", \"totally\", \"block\", \"november\", \"inch\", \"human\", \"clean\", \"widespread\", \"complicated\", \"compare\", \"email\", \"responsive\", \"january\", \"accessory\", \"youtube\", \"watch\", \"monitoring\", \"driveway\", \"wife\", \"street\", \"deploy\", \"impact\", \"confirm\", \"piece\", \"pain\", \"horn\", \"insurance_company\", \"petal\", \"atla\", \"room\", \"sustain\", \"pole\", \"backup\", \"broken\", \"plastic\", \"subsequently\", \"decline\", \"concrete\", \"extend\", \"stand\", \"niro\", \"slab\", \"steep\", \"mother\", \"dona\", \"persist\", \"sec\", \"malfunction\", \"engine\", \"run\", \"restart\", \"garage\", \"stall\", \"pressure\", \"footage\", \"suburban\", \"housing\", \"remote\", \"partially\", \"warrenty\", \"humidity\", \"faub\", \"ita\", \"disconnected\", \"rubber\", \"changed\", \"reader\", \"kid\", \"oddity\", \"vacant\", \"peculiar\", \"gradual\", \"jarring\", \"unfreeze\", \"notable\", \"intent\", \"caregiver\", \"inflation\", \"still\", \"parking\", \"able\", \"gear\", \"button\", \"stationary\", \"determine\", \"spurious\", \"initially\", \"swing\", \"rogue\", \"engagement\", \"resistance\", \"turbo\", \"palm\", \"confirmed\", \"crashed\", \"vehiclewould\", \"poistion\", \"addtionally\", \"vehicler\", \"belief\", \"emmission\", \"informaiton\", \"camry\", \"depth\", \"boulder\", \"descent\", \"engaging\", \"premature\", \"blvd\", \"way\", \"almost\", \"flaw\", \"exit\", \"daughter\", \"tailgate\", \"dirty\", \"ramp\", \"highlander\", \"investigate\", \"poor\", \"aaa\", \"wish\", \"develop\", \"little\", \"definitely\", \"advertised\", \"headlight\", \"median\", \"usual\", \"placement\", \"guidance\", \"whatsoever\", \"opening\", \"mindful\", \"friend\", \"daylight\", \"lighting\", \"corp\", \"distract\", \"driver\", \"security\", \"cable\", \"episode\", \"moderate\", \"practically\", \"form\", \"scary\", \"left\", \"seize\", \"shake\", \"prompt\", \"delay\", \"promote\", \"assembly\", \"purpose\", \"proof\", \"confront\", \"util\", \"relianace\", \"orientation\", \"fracture\", \"approximate_failure_mileage\", \"bent\", \"bracket\", \"erroneously\", \"emotional\", \"recovery\", \"overcome\", \"subframe\", \"armada\", \"lj\", \"responsible\", \"garcia\", \"complaint\", \"location\", \"want\", \"option\", \"common\", \"regard\", \"assume\", \"dangerously\", \"research\", \"non\", \"certain\", \"reach\", \"evening\", \"anti_lock\", \"automate\", \"direction\", \"quite\", \"problematic\", \"generate\", \"reference\", \"reasonable\", \"tone\", \"burn\", \"desire\", \"safe\", \"associate\", \"forester\", \"ad\", \"misguide\", \"accept\", \"bundle\", \"provide\", \"tire\", \"steering\", \"cost\", \"prius\", \"surprised\", \"evasive\", \"love\", \"diagnostic\", \"root\", \"willing\", \"incorrect\", \"simple\", \"wagon\", \"alignment\", \"recess\", \"tested\", \"advisor\", \"general\", \"advertising\", \"powered\", \"suite\", \"roatation\", \"idk\", \"cup\", \"self\", \"hwy\", \"installation\", \"reliability\", \"probability\", \"presafe\", \"curb\", \"addition\", \"resolve\", \"early\", \"must\", \"daily\", \"especially\", \"incline\", \"frequently\", \"kick\", \"visibility\", \"deeply\", \"previous\", \"pocket\", \"gmc\", \"construction\", \"doorbell\", \"inevitable\", \"appropriate\", \"disappointed\", \"anyone\", \"stereo\", \"encounter\", \"frontal\", \"bottom\", \"thousand\", \"future\", \"share\", \"imagine\", \"strange\", \"change\", \"head\", \"trunk\", \"initial\", \"mode\", \"throttle\", \"national\", \"merced\", \"length\", \"mercede\", \"reproduce\", \"starter\", \"complain\", \"zone\", \"company\", \"base\", \"dodge\", \"map\", \"understand\", \"fuel\", \"better\", \"desperately\", \"matic\", \"tiny\", \"disappointing\", \"clue\", \"par\", \"ota\", \"marginally\", \"pong\", \"safe\", \"backup_camera\", \"child\", \"fault\", \"image\", \"suppose\", \"address\", \"premium\", \"adjust\", \"locate\", \"volkswagen\", \"st\", \"passat\", \"offer\", \"dark\", \"device\", \"sedan\", \"intellilink\", \"dimmer\", \"directly\", \"brightness\", \"interested\", \"else\", \"score\", \"tv\", \"blindingly\", \"institute\", \"ceo\", \"comparable\", \"woebcken\", \"hinrich\", \"touareg\", \"sel\", \"symbol\", \"dashboard\", \"oliver\", \"connect\", \"terrible\", \"owner\", \"business\", \"learn\", \"downhill\", \"amber\", \"rate\", \"inoperable\", \"capture\", \"gentle\", \"power_steering\", \"retainment\", \"bug\", \"rebooting\", \"ethernet\", \"basic\", \"philadelphia\", \"bogg\", \"age\", \"literature\", \"specification\", \"mbusa\", \"assistant\", \"secondary\", \"emission\", \"bill\", \"unimpressed\", \"identifiable\", \"xxxx\", \"protection\", \"xxxxx\", \"respectfully\", \"video\", \"reset\", \"rep\", \"road_departure_mitigation\", \"stability\", \"model\", \"conversation\", \"couple\", \"upgrade\", \"proceed\", \"glitch\", \"moment\", \"info\", \"evidence\", \"nearby\", \"database\", \"balloon\", \"supposedly\", \"remind\", \"shortly\", \"primary\", \"frame\", \"tour\", \"connector\", \"fuse\", \"salesman\", \"apple\", \"hvac\", \"cgi\", \"playing\", \"radio\", \"cross\", \"lead\", \"pop\", \"freeze\", \"permanently\", \"unit\", \"crack\", \"mean\", \"quit\", \"absolutely\", \"passenger_side\", \"journey\", \"heater\", \"surprise\", \"specify\", \"working\", \"lcd\", \"secure\", \"grind\", \"moving\", \"appose\", \"compressor\", \"book\", \"offline\", \"express\", \"impend\", \"blow\", \"compensation\", \"funxtion\", \"heavy\", \"startup\", \"range\", \"none\", \"cycle\", \"temperature\", \"dog\", \"empty\", \"outside\", \"advise\", \"separate_occasion\", \"countertop\", \"unexpectedly\", \"appointment\", \"copy\", \"abrupt\", \"surround\", \"sequence\", \"latch\", \"initialization\", \"hypothesis\", \"drift\", \"exact\", \"valid\", \"sensitivity\", \"pilot\", \"operational\", \"yell\", \"ish\", \"simi\", \"everyone\", \"granite\", \"degrease\", \"worker\", \"secretary\", \"peruse\", \"culvert\", \"electrical\", \"rd\", \"barely\", \"water\", \"house\", \"poorly\", \"harness\", \"utilize\", \"seal\", \"corner\", \"anti\", \"suspect\", \"parking_spot\", \"succession\", \"minor\", \"cycling\", \"theft\", \"making\", \"parking_space\", \"stabilitrak\", \"dim\", \"june\", \"gateway\", \"rub\", \"telematic\", \"sporadic\", \"volt\", \"associated\", \"liftgate\", \"blind_spot_monitor\", \"bumper\", \"due\", \"night\", \"weather\", \"daytime\", \"active\", \"jerk\", \"scared\", \"reprogramm\", \"app\", \"flow\", \"dimly\", \"paragraph\", \"box\", \"premier\", \"pray\", \"scar\", \"recommend\", \"assurance\", \"regular\", \"honk\", \"snowy\", \"vegas\", \"district\", \"hat\", \"essential\", \"obliterate\", \"rural\", \"aftersal\", \"perception\", \"emphasize\", \"row\", \"pose\", \"furnish\", \"detect\", \"marking\", \"residential\", \"morning\", \"fully\", \"produce\", \"technology\", \"upload\", \"care\", \"document\", \"tar\", \"around\", \"swerving\", \"confused\", \"wide\", \"opportunity\", \"guarantee\", \"hrs\", \"variety\", \"slower\", \"rush\", \"rader\", \"wheen\", \"noice\", \"communicate\", \"occupy\", \"fight\", \"representative\", \"pdf\", \"wook\", \"safelty\", \"avodiance\", \"maniflord\", \"funtionly\", \"intake\", \"blk\", \"filter\", \"ide\", \"pacakage\", \"spreed\", \"malfuntion\", \"local\", \"record\", \"mechanic\", \"lucky\", \"track\", \"handle\", \"half\", \"rail\", \"alfa\", \"free\", \"board\", \"cylinder\", \"ca\", \"functional\", \"proper\", \"dalla\", \"nationally\", \"intervention\", \"symptom\", \"rough\", \"outline\", \"prematurely\", \"hundred\", \"master\", \"fort\", \"gmail\", \"kerkorian\", \"vaughn\", \"discussion\", \"insulate\", \"niussan\", \"railroad\", \"worth\", \"vaughnkerkorian\", \"vague\", \"commuter\", \"occuranc\", \"magnetic\", \"sometimes\", \"console\", \"far\", \"land\", \"disappear\", \"acura\", \"uncheck\", \"flat_tire\", \"vary\", \"interior\", \"youtu\", \"santa\", \"writing\", \"strut\", \"island\", \"body\", \"difference\", \"guide\", \"reoccurr\", \"load\", \"replication\", \"sheehan\", \"wif\", \"deterrent\", \"contacting\", \"lighthouse\", \"comment\", \"link\", \"memory\", \"deadly\", \"sit\", \"picture\", \"distance\", \"collide\", \"least\", \"warm\", \"maintain\", \"cabin\", \"forget\", \"barrier\", \"ambulance\", \"possibly\", \"minimum\", \"sensing\", \"duty\", \"override\", \"seatbelt\", \"son\", \"lower\", \"sore\", \"camper\", \"lastly\", \"chest\", \"curiously\", \"sorry\", \"cara\", \"fan\", \"foil\", \"defogger\", \"climb\", \"unlatch\", \"flip\", \"jack\", \"spun\", \"deceleration\", \"service_department\", \"wiring\", \"usually\", \"live\", \"lka\", \"significant\", \"recover\", \"husband\", \"figure\", \"corporate\", \"haptic\", \"md\", \"improve\", \"steel\", \"list\", \"identify\", \"ever\", \"museum\", \"hop\", \"stomp\", \"unacceptable\", \"unannounced\", \"lawsuit\", \"verification\", \"systemic\", \"network\", \"circumstance\", \"simultaneously\", \"friday\"], \"loglift\": [30.0, 29.0, 28.0, 27.0, 26.0, 25.0, 24.0, 23.0, 22.0, 21.0, 20.0, 19.0, 18.0, 17.0, 16.0, 15.0, 14.0, 13.0, 12.0, 11.0, 10.0, 9.0, 8.0, 7.0, 6.0, 5.0, 4.0, 3.0, 2.0, 1.0, 2.1619999408721924, 2.1605000495910645, 2.1605000495910645, 2.158600091934204, 2.158400058746338, 2.1582000255584717, 2.157900094985962, 2.1577000617980957, 2.1572999954223633, 2.1566998958587646, 2.1563000679016113, 2.1556999683380127, 2.1552999019622803, 2.1549999713897705, 2.1531999111175537, 2.1503000259399414, 2.1500000953674316, 2.149600028991699, 2.1487998962402344, 2.1484999656677246, 2.148400068283081, 2.148400068283081, 2.147900104522705, 2.146699905395508, 2.1452999114990234, 2.144700050354004, 2.1445999145507812, 2.143699884414673, 2.1428000926971436, 2.1398000717163086, 1.8558000326156616, 1.9256000518798828, 1.4212000370025635, 2.393899917602539, 2.3938000202178955, 2.3924999237060547, 2.3917999267578125, 2.3912999629974365, 2.3907999992370605, 2.390199899673462, 2.390000104904175, 2.3891000747680664, 2.3889999389648438, 2.38700008392334, 2.386699914932251, 2.3861000537872314, 2.383699893951416, 2.38319993019104, 2.3831000328063965, 2.381700038909912, 2.381200075149536, 2.3810999393463135, 2.38100004196167, 2.38100004196167, 2.38070011138916, 2.380500078201294, 2.3803000450134277, 2.379199981689453, 2.3784000873565674, 2.3778998851776123, 2.376800060272217, 2.3757998943328857, 2.3754000663757324, 2.471400022506714, 2.4711999893188477, 2.471100091934204, 2.469599962234497, 2.4688000679016113, 2.4681999683380127, 2.467400074005127, 2.466399908065796, 2.466399908065796, 2.46589994430542, 2.464200019836426, 2.4628000259399414, 2.461699962615967, 2.4611001014709473, 2.4607999324798584, 2.4598000049591064, 2.4595000743865967, 2.45770001411438, 2.45770001411438, 2.456199884414673, 2.4558000564575195, 2.4553000926971436, 2.454699993133545, 2.453900098800659, 2.4535999298095703, 2.452699899673462, 2.4512999057769775, 2.450700044631958, 2.4439001083374023, 2.443000078201294, 1.8739999532699585, 1.8118000030517578, 2.8389999866485596, 2.838099956512451, 2.836400032043457, 2.835900068283081, 2.8352999687194824, 2.8343000411987305, 2.834199905395508, 2.8327999114990234, 2.8308000564575195, 2.8308000564575195, 2.830399990081787, 2.8303000926971436, 2.8266000747680664, 2.824399948120117, 2.8194000720977783, 2.81850004196167, 2.807800054550171, 2.799099922180176, 2.7967000007629395, 2.795300006866455, 2.795099973678589, 2.79229998588562, 2.786799907684326, 2.777100086212158, 2.771199941635132, 2.770699977874756, 2.7616000175476074, 2.7509000301361084, 2.728100061416626, 2.716900110244751, 2.0065999031066895, 2.0394999980926514, 2.987499952316284, 2.986299991607666, 2.9851999282836914, 2.9769999980926514, 2.9730000495910645, 2.9707000255584717, 2.9702999591827393, 2.9665000438690186, 2.9653000831604004, 2.9595000743865967, 2.955699920654297, 2.9526000022888184, 2.9463999271392822, 2.9460999965667725, 2.946000099182129, 2.9047999382019043, 2.8991000652313232, 2.897900104522705, 2.889699935913086, 2.8540000915527344, 2.8487000465393066, 2.8345000743865967, 2.7906999588012695, 2.72979998588562, 2.729599952697754, 2.722599983215332, 2.722599983215332, 2.6154000759124756, 2.475399971008301, 2.475399971008301, 2.2660999298095703, 2.475399971008301, 2.475399971008301, 3.629699945449829, 3.6256000995635986, 3.6240999698638916, 3.620800018310547, 3.61899995803833, 3.616499900817871, 3.613800048828125, 3.611999988555908, 3.607300043106079, 3.6047000885009766, 3.598400115966797, 3.595400094985962, 3.5920000076293945, 3.591200113296509, 3.5908000469207764, 3.589400053024292, 3.5862998962402344, 3.584199905395508, 3.580899953842163, 3.5801000595092773, 3.5764000415802, 3.566200017929077, 3.5655999183654785, 3.563999891281128, 3.529900074005127, 3.527600049972534, 3.501499891281128, 3.490000009536743, 3.4802000522613525, 3.474900007247925, 3.6623001098632812, 3.661900043487549, 3.661099910736084, 3.655600070953369, 3.6552000045776367, 3.651400089263916, 3.6486001014709473, 3.6470000743865967, 3.6459999084472656, 3.640500068664551, 3.6389000415802, 3.6361000537872314, 3.615999937057495, 3.612299919128418, 3.5999999046325684, 3.5917000770568848, 3.5831000804901123, 3.5789999961853027, 3.572200059890747, 3.555999994277954, 3.539400100708008, 3.53410005569458, 3.5288000106811523, 3.4992001056671143, 3.4776999950408936, 3.4776999950408936, 3.4776999950408936, 3.4776999950408936, 3.4776999950408936, 3.4776999950408936, 3.4776999950408936, 3.4776999950408936, 3.803100109100342, 3.7999000549316406, 3.7987000942230225, 3.7883999347686768, 3.7792999744415283, 3.768199920654297, 3.765899896621704, 3.763400077819824, 3.760999917984009, 3.7411000728607178, 3.736299991607666, 3.7353999614715576, 3.7344000339508057, 3.7344000339508057, 3.709399938583374, 3.7093000411987305, 3.7070000171661377, 3.696500062942505, 3.695499897003174, 3.6895999908447266, 3.6765999794006348, 3.674799919128418, 3.6735999584198, 3.669800043106079, 3.6359000205993652, 3.626499891281128, 3.612799882888794, 3.5910000801086426, 3.5862998962402344, 3.556299924850464, 3.9049999713897705, 3.900599956512451, 3.898699998855591, 3.8980000019073486, 3.8949999809265137, 3.8924999237060547, 3.8919999599456787, 3.8915998935699463, 3.879199981689453, 3.8775999546051025, 3.867300033569336, 3.8608999252319336, 3.8598999977111816, 3.8573999404907227, 3.850800037384033, 3.835900068283081, 3.830699920654297, 3.8252999782562256, 3.8203001022338867, 3.811000108718872, 3.80679988861084, 3.803999900817871, 3.801100015640259, 3.8004000186920166, 3.791300058364868, 3.7869999408721924, 3.7836999893188477, 3.7778000831604004, 3.763000011444092, 3.751199960708618, 3.9235999584198, 3.9230000972747803, 3.919800043106079, 3.9189000129699707, 3.9182000160217285, 3.914900064468384, 3.9063000679016113, 3.9030001163482666, 3.9021999835968018, 3.900099992752075, 3.8993000984191895, 3.8977999687194824, 3.8886001110076904, 3.8859000205993652, 3.8826000690460205, 3.879199981689453, 3.8785998821258545, 3.878200054168701, 3.867799997329712, 3.864500045776367, 3.861799955368042, 3.858599901199341, 3.8450000286102295, 3.834399938583374, 3.8071999549865723, 3.795099973678589, 3.7892000675201416, 3.7843000888824463, 3.77839994430542, 3.7741000652313232, 3.9261999130249023, 3.926100015640259, 3.9221999645233154, 3.919600009918213, 3.9165000915527344, 3.9161999225616455, 3.91510009765625, 3.914900064468384, 3.907099962234497, 3.9030001163482666, 3.8959999084472656, 3.874300003051758, 3.873199939727783, 3.871000051498413, 3.86680006980896, 3.8664000034332275, 3.8568999767303467, 3.839400053024292, 3.8178000450134277, 3.805000066757202, 3.803800106048584, 3.776700019836426, 3.7634999752044678, 3.7634999752044678, 3.7560999393463135, 3.7541000843048096, 3.7444000244140625, 3.7388999462127686, 3.735300064086914, 3.730600118637085, 3.94569993019104, 3.9421000480651855, 3.939199924468994, 3.9340999126434326, 3.9267001152038574, 3.9189000129699707, 3.898900032043457, 3.8812999725341797, 3.874500036239624, 3.84660005569458, 3.8427999019622803, 3.833400011062622, 3.8238000869750977, 3.8194000720977783, 3.814199924468994, 3.810699939727783, 3.8092000484466553, 3.805500030517578, 3.7834999561309814, 3.7581000328063965, 3.744999885559082, 3.7437000274658203, 3.740299940109253, 3.687999963760376, 3.6791999340057373, 3.6767001152038574, 3.670300006866455, 3.666100025177002, 3.638400077819824, 3.5964999198913574, 2.6087000370025635, 3.993799924850464, 3.9911999702453613, 3.979599952697754, 3.978600025177002, 3.9783999919891357, 3.9725000858306885, 3.9660000801086426, 3.960900068283081, 3.9570000171661377, 3.9540998935699463, 3.9516000747680664, 3.9486000537872314, 3.9407999515533447, 3.9347000122070312, 3.9154999256134033, 3.90939998626709, 3.897900104522705, 3.8940999507904053, 3.887399911880493, 3.886699914932251, 3.877500057220459, 3.850600004196167, 3.8285999298095703, 3.827699899673462, 3.825900077819824, 3.805799961090088, 3.791599988937378, 3.7058000564575195, 3.5961999893188477, 3.592400074005127, 4.0100998878479, 4.009799957275391, 4.009200096130371, 4.0030999183654785, 3.99780011177063, 3.9916000366210938, 3.9897000789642334, 3.988800048828125, 3.982100009918213, 3.972899913787842, 3.972100019454956, 3.9702999591827393, 3.9660000801086426, 3.9532999992370605, 3.9489998817443848, 3.9082999229431152, 3.9001998901367188, 3.8959999084472656, 3.8912999629974365, 3.8868000507354736, 3.871999979019165, 3.8694000244140625, 3.8678998947143555, 3.86680006980896, 3.844399929046631, 3.828200101852417, 3.817199945449829, 3.730299949645996, 3.703000068664551, 3.6624999046325684, 4.0665998458862305, 4.062900066375732, 4.054800033569336, 4.051799774169922, 4.050600051879883, 4.047100067138672, 4.0467000007629395, 4.044000148773193, 4.039100170135498, 4.037799835205078, 4.027500152587891, 4.019999980926514, 4.019100189208984, 4.019100189208984, 4.015100002288818, 4.011000156402588, 4.010799884796143, 4.005099773406982, 4.00029993057251, 4.00029993057251, 3.9862000942230225, 3.981100082397461, 3.9769999980926514, 3.976799964904785, 3.974600076675415, 3.972399950027466, 3.966900110244751, 3.9444000720977783, 3.941999912261963, 3.8894999027252197, 4.092100143432617, 4.089799880981445, 4.0843000411987305, 4.079599857330322, 4.077000141143799, 4.0767998695373535, 4.067299842834473, 4.065800189971924, 4.063600063323975, 4.060699939727783, 4.058599948883057, 4.058499813079834, 4.053500175476074, 4.050000190734863, 4.047599792480469, 4.04010009765625, 4.03980016708374, 4.03849983215332, 4.032299995422363, 4.028800010681152, 4.013999938964844, 4.008200168609619, 4.006100177764893, 4.006100177764893, 3.999500036239624, 3.998699903488159, 3.993000030517578, 3.9911999702453613, 3.9860000610351562, 3.980600118637085, 4.105400085449219, 4.097700119018555, 4.091700077056885, 4.091100215911865, 4.0894999504089355, 4.089099884033203, 4.085100173950195, 4.071100234985352, 4.070400238037109, 4.068900108337402, 4.065499782562256, 4.0609002113342285, 4.060100078582764, 4.059299945831299, 4.05079984664917, 4.0467000007629395, 4.046500205993652, 4.045199871063232, 4.041200160980225, 4.039400100708008, 4.034900188446045, 4.032400131225586, 4.0289998054504395, 4.016200065612793, 4.007999897003174, 4.00629997253418, 4.005499839782715, 4.002699851989746, 3.995699882507324, 3.9865000247955322, 4.139100074768066, 4.13539981842041, 4.129199981689453, 4.124100208282471, 4.122600078582764, 4.095799922943115, 4.092400074005127, 4.084099769592285, 4.078000068664551, 4.077600002288818, 4.071599960327148, 4.066999912261963, 4.056099891662598, 4.047599792480469, 4.043600082397461, 4.041299819946289, 4.036399841308594, 4.029300212860107, 4.026899814605713, 4.009099960327148, 4.0081000328063965, 4.007699966430664, 4.000899791717529, 3.991300106048584, 3.988100051879883, 3.984800100326538, 3.97189998626709, 3.965399980545044, 3.950900077819824, 3.9382998943328857, 3.9382998943328857, 4.275400161743164, 4.270999908447266, 4.263700008392334, 4.261000156402588, 4.259300231933594, 4.23799991607666, 4.2342000007629395, 4.229400157928467, 4.223599910736084, 4.201399803161621, 4.1996002197265625, 4.197400093078613, 4.195899963378906, 4.194399833679199, 4.178800106048584, 4.166800022125244, 4.153900146484375, 4.137800216674805, 4.137800216674805, 4.137800216674805, 4.13730001449585, 4.131400108337402, 4.129199981689453, 4.119800090789795, 4.1194000244140625, 4.1149001121521, 4.085599899291992, 4.0782999992370605, 4.075300216674805, 4.048699855804443, 4.274400234222412, 4.27269983291626, 4.2708001136779785, 4.267199993133545, 4.258999824523926, 4.247399806976318, 4.2444000244140625, 4.24370002746582, 4.243500232696533, 4.229800224304199, 4.228700160980225, 4.225299835205078, 4.189499855041504, 4.183700084686279, 4.165999889373779, 4.150400161743164, 4.1427001953125, 4.137800216674805, 4.1006999015808105, 4.086100101470947, 3.996799945831299, 3.95989990234375, 3.95989990234375, 3.95989990234375, 3.95989990234375, 3.95989990234375, 3.8798000812530518, 3.8798000812530518, 3.8798000812530518, 3.8798000812530518, 3.8798000812530518, 3.8798000812530518, 4.28380012512207, 4.270699977874756, 4.269899845123291, 4.2683000564575195, 4.267199993133545, 4.267099857330322, 4.267000198364258, 4.2667999267578125, 4.261199951171875, 4.243000030517578, 4.241700172424316, 4.234499931335449, 4.218100070953369, 4.208399772644043, 4.192399978637695, 4.171800136566162, 4.168300151824951, 4.15369987487793, 4.117000102996826, 4.0833001136779785, 4.078700065612793, 4.019899845123291, 3.9883999824523926, 3.856800079345703, 3.856800079345703, 3.856800079345703, 3.856800079345703, 3.856800079345703, 3.856800079345703, 3.8512001037597656, 4.304999828338623, 4.301799774169922, 4.299200057983398, 4.297399997711182, 4.277900218963623, 4.263000011444092, 4.26230001449585, 4.257900238037109, 4.2571001052856445, 4.256700038909912, 4.2565999031066895, 4.251399993896484, 4.239099979400635, 4.2378997802734375, 4.224100112915039, 4.222899913787842, 4.220300197601318, 4.218900203704834, 4.214900016784668, 4.2042999267578125, 4.19920015335083, 4.1975998878479, 4.1834001541137695, 4.1793999671936035, 4.168700218200684, 4.166999816894531, 4.160099983215332, 4.1579999923706055, 4.156799793243408, 4.151899814605713, 4.151899814605713, 4.395100116729736, 4.389900207519531, 4.384099960327148, 4.365900039672852, 4.361499786376953, 4.351900100708008, 4.3495001792907715, 4.342800140380859, 4.341700077056885, 4.326600074768066, 4.326399803161621, 4.326000213623047, 4.325200080871582, 4.318399906158447, 4.316999912261963, 4.3140997886657715, 4.31279993057251, 4.307000160217285, 4.3053998947143555, 4.301199913024902, 4.298600196838379, 4.297999858856201, 4.28849983215332, 4.287799835205078, 4.287300109863281, 4.283999919891357, 4.273200035095215, 4.263700008392334, 4.250800132751465, 4.250699996948242, 4.413000106811523, 4.412499904632568, 4.403600215911865, 4.395500183105469, 4.391499996185303, 4.374599933624268, 4.3653998374938965, 4.361199855804443, 4.3516998291015625, 4.346399784088135, 4.327600002288818, 4.295400142669678, 4.285699844360352, 4.27869987487793, 4.188799858093262, 4.128799915313721, 4.085700035095215, 4.0177001953125, 3.9059998989105225, 3.9059998989105225, 3.9059998989105225, 3.9059998989105225, 3.868799924850464, 3.809799909591675, 3.683300018310547, 3.437700033187866, 3.1865999698638916, 3.1865999698638916, 3.036400079727173, 2.822200059890747, 4.435100078582764, 4.433700084686279, 4.426199913024902, 4.401199817657471, 4.391900062561035, 4.382699966430664, 4.38070011138916, 4.377900123596191, 4.359499931335449, 4.351600170135498, 4.34689998626709, 4.344600200653076, 4.3414998054504395, 4.311800003051758, 4.305699825286865, 4.302499771118164, 4.301599979400635, 4.299200057983398, 4.288400173187256, 4.279699802398682, 4.270699977874756, 4.255300045013428, 4.255300045013428, 4.255300045013428, 4.255300045013428, 4.255300045013428, 4.255300045013428, 4.255300045013428, 4.255300045013428, 4.255300045013428, 4.255300045013428, 4.255300045013428, 4.439700126647949, 4.438799858093262, 4.435800075531006, 4.424499988555908, 4.422999858856201, 4.421599864959717, 4.420499801635742, 4.4145002365112305, 4.412399768829346, 4.403500080108643, 4.400100231170654, 4.389900207519531, 4.386499881744385, 4.35860013961792, 4.342400074005127, 4.235300064086914, 4.22730016708374, 4.208499908447266, 4.158199787139893, 3.892199993133545, 3.892199993133545, 3.705699920654297, 3.705699920654297, 3.705699920654297, 3.705699920654297, 3.705699920654297, 3.6407999992370605, 3.5833001136779785, 3.3933000564575195, 3.2297000885009766, 4.4475998878479, 4.4359002113342285, 4.433199882507324, 4.43179988861084, 4.4303998947143555, 4.429100036621094, 4.422299861907959, 4.42110013961792, 4.417300224304199, 4.405300140380859, 4.395100116729736, 4.3856000900268555, 4.383200168609619, 4.382400035858154, 4.381100177764893, 4.379300117492676, 4.37529993057251, 4.375100135803223, 4.370299816131592, 4.36929988861084, 4.369200229644775, 4.359399795532227, 4.35699987411499, 4.344699859619141, 4.307499885559082, 4.30019998550415, 4.299600124359131, 4.294600009918213, 4.287499904632568, 4.283199787139893, 4.46560001373291, 4.462800025939941, 4.461100101470947, 4.456500053405762, 4.452199935913086, 4.44789981842041, 4.438199996948242, 4.431099891662598, 4.426799774169922, 4.424799919128418, 4.420599937438965, 4.420599937438965, 4.417099952697754, 4.404200077056885, 4.393899917602539, 4.390699863433838, 4.389100074768066, 4.358399868011475, 4.3557000160217285, 4.355599880218506, 4.355500221252441, 4.355500221252441, 4.355500221252441, 4.355500221252441, 4.355500221252441, 4.355500221252441, 4.355500221252441, 4.355500221252441, 4.355500221252441, 4.355500221252441, 4.4842000007629395, 4.477399826049805, 4.473499774932861, 4.468699932098389, 4.459700107574463, 4.459199905395508, 4.454800128936768, 4.444300174713135, 4.442200183868408, 4.438899993896484, 4.438799858093262, 4.429900169372559, 4.422699928283691, 4.4197001457214355, 4.417200088500977, 4.398600101470947, 4.388700008392334, 4.388599872589111, 4.384300231933594, 4.335400104522705, 4.3333001136779785, 4.31279993057251, 4.3007001876831055, 4.297999858856201, 4.293399810791016, 4.288700103759766, 4.233799934387207, 4.232800006866455, 4.232800006866455, 4.232800006866455, 4.4822001457214355, 4.474699974060059, 4.473999977111816, 4.470600128173828, 4.46120023727417, 4.447700023651123, 4.445799827575684, 4.415800094604492, 4.4156999588012695, 4.400899887084961, 4.399499893188477, 4.390900135040283, 4.389900207519531, 4.379300117492676, 4.37529993057251, 4.374499797821045, 4.372399806976318, 4.351900100708008, 4.3383002281188965, 4.3383002281188965, 4.3383002281188965, 4.327899932861328, 4.32420015335083, 4.3084001541137695, 4.291500091552734, 4.290900230407715, 4.290900230407715, 4.290900230407715, 4.290900230407715, 4.290900230407715, 4.536200046539307, 4.521999835968018, 4.516300201416016, 4.513700008392334, 4.51170015335083, 4.509399890899658, 4.506800174713135, 4.499000072479248, 4.48330020904541, 4.4822998046875, 4.46019983291626, 4.434299945831299, 4.432300090789795, 4.432300090789795, 4.404399871826172, 4.395199775695801, 4.395199775695801, 4.3780999183654785, 4.376100063323975, 4.3649001121521, 4.338799953460693, 4.329599857330322, 4.329599857330322, 4.329599857330322, 4.313499927520752, 4.308800220489502, 4.281099796295166, 4.27869987487793, 4.274400234222412, 4.20419979095459, 4.53410005569458, 4.530600070953369, 4.518599987030029, 4.512199878692627, 4.509900093078613, 4.505199909210205, 4.497799873352051, 4.497399806976318, 4.487299919128418, 4.479700088500977, 4.479700088500977, 4.476399898529053, 4.474100112915039, 4.472499847412109, 4.470699787139893, 4.457300186157227, 4.450399875640869, 4.4456000328063965, 4.435500144958496, 4.435200214385986, 4.434100151062012, 4.421899795532227, 4.418600082397461, 4.4019999504089355, 4.395299911499023, 4.394199848175049, 4.389100074768066, 4.37529993057251, 4.339700222015381, 4.331999778747559, 4.5391998291015625, 4.537700176239014, 4.5279998779296875, 4.527599811553955, 4.521900177001953, 4.519700050354004, 4.515900135040283, 4.5157999992370605, 4.5046000480651855, 4.500899791717529, 4.4944000244140625, 4.479899883270264, 4.479800224304199, 4.474800109863281, 4.47189998626709, 4.469299793243408, 4.4532999992370605, 4.438600063323975, 4.436100006103516, 4.434999942779541, 4.434299945831299, 4.429999828338623, 4.4278998374938965, 4.420000076293945, 4.418099880218506, 4.413700103759766, 4.4131999015808105, 4.374499797821045, 4.33650016784668, 4.33489990234375, 4.573400020599365, 4.560500144958496, 4.552299976348877, 4.531300067901611, 4.51639986038208, 4.51639986038208, 4.5131001472473145, 4.503900051116943, 4.499300003051758, 4.482100009918213, 4.472300052642822, 4.466899871826172, 4.46589994430542, 4.443299770355225, 4.4334001541137695, 4.427199840545654, 4.425600051879883, 4.406000137329102, 4.4045000076293945, 4.390200138092041, 4.384900093078613, 4.37939977645874, 4.377399921417236, 4.377399921417236, 4.373799800872803, 4.373799800872803, 4.373000144958496, 4.371600151062012, 4.366199970245361, 4.365200042724609, 4.576200008392334, 4.5742998123168945, 4.570099830627441, 4.5524001121521, 4.552299976348877, 4.541100025177002, 4.53439998626709, 4.516499996185303, 4.507199764251709, 4.499599933624268, 4.490699768066406, 4.4781999588012695, 4.418600082397461, 4.418600082397461, 4.418600082397461, 4.396999835968018, 4.36299991607666, 4.327300071716309, 4.224400043487549, 4.168300151824951, 4.0183000564575195, 3.3375000953674316, 3.3375000953674316, 3.3375000953674316, 3.3375000953674316, 3.3375000953674316, 3.3375000953674316, 3.3375000953674316, 3.3375000953674316, 3.3375000953674316, 3.3375000953674316, 2.558199882507324, 4.592800140380859, 4.585899829864502, 4.579400062561035, 4.577400207519531, 4.573800086975098, 4.5605998039245605, 4.511600017547607, 4.478099822998047, 4.476600170135498, 4.451300144195557, 4.440400123596191, 4.387199878692627, 4.381499767303467, 4.381400108337402, 4.380199909210205, 4.380199909210205, 4.352499961853027, 4.352499961853027, 4.352499961853027, 4.352499961853027, 4.352499961853027, 4.352499961853027, 4.352499961853027, 4.352499961853027, 4.314499855041504, 4.287899971008301, 4.287899971008301, 4.282700061798096, 4.2789998054504395, 4.270500183105469, 4.691199779510498, 4.688199996948242, 4.666800022125244, 4.658400058746338, 4.648200035095215, 4.645400047302246, 4.635200023651123, 4.631999969482422, 4.619200229644775, 4.611599922180176, 4.606100082397461, 4.591800212860107, 4.5904998779296875, 4.581600189208984, 4.579400062561035, 4.571199893951416, 4.561100006103516, 4.557700157165527, 4.531799793243408, 4.5152997970581055, 4.495800018310547, 4.491499900817871, 4.491300106048584, 4.4842000007629395, 4.4842000007629395, 4.429900169372559, 4.373899936676025, 4.367700099945068, 4.345799922943115, 4.2434000968933105, 4.718400001525879, 4.692399978637695, 4.676700115203857, 4.657599925994873, 4.654099941253662, 4.6539998054504395, 4.647799968719482, 4.644100189208984, 4.642499923706055, 4.624800205230713, 4.615200042724609, 4.606100082397461, 4.475200176239014, 4.3343000411987305, 4.117199897766113, 3.9846999645233154, 3.7911999225616455, 3.663100004196167, 3.663100004196167, 3.663100004196167, 3.663100004196167, 3.0764000415802, 2.66759991645813, 2.4170000553131104, 2.376199960708618, 1.305299997329712, 1.305299997329712, 1.305299997329712, 1.305299997329712, 1.0515999794006348, 1.0515999794006348, 1.0515999794006348, 0.5590999722480774, 0.5590999722480774, 4.7221999168396, 4.709400177001953, 4.704999923706055, 4.701900005340576, 4.697400093078613, 4.692599773406982, 4.679599761962891, 4.668799877166748, 4.667300224304199, 4.666800022125244, 4.665599822998047, 4.652400016784668, 4.652200222015381, 4.6417999267578125, 4.633900165557861, 4.633600234985352, 4.524799823760986, 4.4984002113342285, 4.466599941253662, 4.447700023651123, 4.414899826049805, 4.334199905395508, 4.331099987030029, 4.239699840545654, 4.226399898529053, 4.044400215148926, 3.9184000492095947, 3.914799928665161, 3.914799928665161, 3.914799928665161, 3.914799928665161, 4.7494001388549805, 4.745800018310547, 4.719699859619141, 4.6915998458862305, 4.683899879455566, 4.679500102996826, 4.667799949645996, 4.664400100708008, 4.656899929046631, 4.647500038146973, 4.645899772644043, 4.639200210571289, 4.6315999031066895, 4.628600120544434, 4.606500148773193, 4.591700077056885, 4.588500022888184, 4.58620023727417, 4.584099769592285, 4.579599857330322, 4.567800045013428, 4.566199779510498, 4.564799785614014, 4.564799785614014, 4.564799785614014, 4.554699897766113, 4.530099868774414, 4.529399871826172, 4.486999988555908, 4.486999988555908, 4.486999988555908, 4.7546000480651855, 4.747399806976318, 4.740499973297119, 4.739699840545654, 4.726200103759766, 4.715400218963623, 4.7118000984191895, 4.690199851989746, 4.685100078582764, 4.679999828338623, 4.670000076293945, 4.662300109863281, 4.65749979019165, 4.651700019836426, 4.648900032043457, 4.63070011138916, 4.625100135803223, 4.62470006942749, 4.619699954986572, 4.610799789428711, 4.608500003814697, 4.602399826049805, 4.5995001792907715, 4.598499774932861, 4.564599990844727, 4.555699825286865, 4.514800071716309, 4.5142998695373535, 4.507599830627441, 4.504199981689453, 4.7769999504089355, 4.754499912261963, 4.739799976348877, 4.726399898529053, 4.702300071716309, 4.696800231933594, 4.687399864196777, 4.682499885559082, 4.682000160217285, 4.680300235748291, 4.673799991607666, 4.673699855804443, 4.673399925231934, 4.6666998863220215, 4.659999847412109, 4.6508002281188965, 4.599599838256836, 4.597499847412109, 4.59250020980835, 4.588200092315674, 4.576200008392334, 4.576200008392334, 4.576200008392334, 4.576200008392334, 4.576200008392334, 4.576200008392334, 4.576200008392334, 4.576200008392334, 4.576200008392334, 4.576200008392334, 3.827899932861328, 4.780799865722656, 4.772200107574463, 4.771999835968018, 4.766300201416016, 4.746699810028076, 4.741600036621094, 4.738800048828125, 4.728099822998047, 4.718500137329102, 4.7118000984191895, 4.7017998695373535, 4.6905999183654785, 4.688899993896484, 4.6828999519348145, 4.677700042724609, 4.647600173950195, 4.646500110626221, 4.625800132751465, 4.622499942779541, 4.599899768829346, 4.578700065612793, 4.549900054931641, 4.54449987411499, 4.54449987411499, 4.431000232696533, 4.3420000076293945, 4.3420000076293945, 4.3420000076293945, 4.3420000076293945, 4.3420000076293945, 4.3420000076293945, 4.3420000076293945, 4.3420000076293945, 4.776599884033203, 4.768099784851074, 4.765699863433838, 4.744500160217285, 4.741399765014648, 4.724999904632568, 4.720300197601318, 4.713399887084961, 4.707099914550781, 4.706099987030029, 4.704100131988525, 4.698200225830078, 4.691699981689453, 4.686100006103516, 4.656700134277344, 4.656700134277344, 4.656700134277344, 4.656700134277344, 4.656700134277344, 4.656700134277344, 4.656700134277344, 4.656700134277344, 4.639999866485596, 4.633399963378906, 4.629799842834473, 4.629000186920166, 4.6132001876831055, 4.60290002822876, 4.5995001792907715, 4.598499774932861, 4.598499774932861, 4.598499774932861, 4.598499774932861, 4.598499774932861, 4.598499774932861, 4.796999931335449, 4.786600112915039, 4.7795000076293945, 4.766300201416016, 4.756100177764893, 4.755300045013428, 4.753499984741211, 4.717899799346924, 4.707699775695801, 4.688199996948242, 4.67549991607666, 4.6707000732421875, 4.664400100708008, 4.657299995422363, 4.64870023727417, 4.646599769592285, 4.599100112915039, 4.591000080108643, 4.57289981842041, 4.4720001220703125, 4.469799995422363, 4.4653000831604, 4.457699775695801, 4.456399917602539, 4.435500144958496, 4.42579984664917, 4.401700019836426, 4.392199993133545, 4.392199993133545, 4.388899803161621, 4.796299934387207, 4.789999961853027, 4.789899826049805, 4.777299880981445, 4.7733001708984375, 4.765399932861328, 4.738399982452393, 4.7316999435424805, 4.731400012969971, 4.718599796295166, 4.704400062561035, 4.698299884796143, 4.692599773406982, 4.6875, 4.683199882507324, 4.671000003814697, 4.660299777984619, 4.647200107574463, 4.6371002197265625, 4.629000186920166, 4.6265997886657715, 4.6265997886657715, 4.6203999519348145, 4.6203999519348145, 4.5904998779296875, 4.585599899291992, 4.533599853515625, 4.4944000244140625, 4.472099781036377, 4.472099781036377, 4.79640007019043, 4.7769999504089355, 4.769100189208984, 4.768799781799316, 4.76669979095459, 4.7515997886657715, 4.745100021362305, 4.727799892425537, 4.7241997718811035, 4.7108001708984375, 4.70959997177124, 4.7052001953125, 4.697800159454346, 4.695000171661377, 4.693900108337402, 4.692800045013428, 4.686699867248535, 4.679999828338623, 4.679100036621094, 4.678999900817871, 4.678999900817871, 4.649799823760986, 4.643799781799316, 4.6417999267578125, 4.635799884796143, 4.6072001457214355, 4.597700119018555, 4.594600200653076, 4.594600200653076, 4.594600200653076, 4.594600200653076, 4.594600200653076, 4.594600200653076, 4.594600200653076, 4.594600200653076, 4.594600200653076, 4.594600200653076, 4.873000144958496, 4.850399971008301, 4.838900089263916, 4.831999778747559, 4.820499897003174, 4.805799961090088, 4.795899868011475, 4.7530999183654785, 4.752099990844727, 4.749899864196777, 4.746200084686279, 4.7399001121521, 4.739099979400635, 4.737599849700928, 4.731900215148926, 4.719200134277344, 4.706200122833252, 4.639900207519531, 4.639100074768066, 4.6371002197265625, 4.6066999435424805, 4.558199882507324, 4.490499973297119, 4.490499973297119, 4.490499973297119, 4.4807000160217285, 4.453800201416016, 4.4456000328063965, 4.4456000328063965, 4.421000003814697, 3.8959999084472656, 4.985599994659424, 4.971199989318848, 4.9355998039245605, 4.930300235748291, 4.9070000648498535, 4.9004998207092285, 4.8850998878479, 4.872200012207031, 4.869800090789795, 4.858500003814697, 4.849599838256836, 4.81850004196167, 4.804200172424316, 4.799200057983398, 4.792900085449219, 4.785600185394287, 4.766900062561035, 4.763400077819824, 4.740499973297119, 4.6996002197265625, 4.673699855804443, 4.637400150299072, 4.627600193023682, 4.625999927520752, 4.625999927520752, 4.625999927520752, 4.625999927520752, 4.625999927520752, 4.625999927520752, 4.625999927520752, 4.625999927520752, 4.625999927520752, 4.625999927520752, 4.9770002365112305, 4.951300144195557, 4.94789981842041, 4.947299957275391, 4.9253997802734375, 4.916800022125244, 4.905200004577637, 4.903299808502197, 4.903200149536133, 4.9028000831604, 4.886199951171875, 4.883800029754639, 4.870699882507324, 4.868599891662598, 4.859899997711182, 4.844299793243408, 4.808700084686279, 4.785200119018555, 4.776000022888184, 4.770100116729736, 4.765399932861328, 4.7596001625061035, 4.7596001625061035, 4.7596001625061035, 4.750100135803223, 4.712200164794922, 4.712200164794922, 4.662899971008301, 4.655799865722656, 4.557400226593018, 4.557400226593018, 4.557400226593018, 4.557400226593018, 4.557400226593018, 4.557400226593018, 4.557400226593018, 4.557400226593018, 4.557400226593018, 4.557400226593018, 4.557400226593018, 4.557400226593018, 4.992700099945068, 4.968400001525879, 4.960400104522705, 4.9492998123168945, 4.940999984741211, 4.937099933624268, 4.930200099945068, 4.89739990234375, 4.88040018081665, 4.86870002746582, 4.867000102996826, 4.862599849700928, 4.853600025177002, 4.851600170135498, 4.841700077056885, 4.839799880981445, 4.839799880981445, 4.83650016784668, 4.777900218963623, 4.7729997634887695, 4.763999938964844, 4.74970006942749, 4.728499889373779, 4.690999984741211, 4.685400009155273, 4.685400009155273, 4.685400009155273, 4.685400009155273, 4.685400009155273, 4.685400009155273, 4.685400009155273, 4.685400009155273, 4.685400009155273, 4.685400009155273, 4.685400009155273, 4.685400009155273, 4.685400009155273, 4.685400009155273, 5.056700229644775, 5.038000106811523, 5.0258002281188965, 5.013299942016602, 5.0019001960754395, 5.0019001960754395, 4.98360013961792, 4.945199966430664, 4.945000171661377, 4.9430999755859375, 4.940499782562256, 4.940499782562256, 4.9207000732421875, 4.898600101470947, 4.896999835968018, 4.845900058746338, 4.828199863433838, 4.827300071716309, 4.8105998039245605, 4.809700012207031, 4.808499813079834, 4.808499813079834, 4.808499813079834, 4.808499813079834, 4.808499813079834, 4.808499813079834, 4.801000118255615, 4.788099765777588, 4.770299911499023, 4.700699806213379, 5.083600044250488, 5.082799911499023, 5.079999923706055, 5.058199882507324, 5.045300006866455, 5.029600143432617, 5.013500213623047, 5.012199878692627, 4.992300033569336, 4.980899810791016, 4.968400001525879, 4.958199977874756, 4.939599990844727, 4.924499988555908, 4.9120001792907715, 4.894700050354004, 4.870100021362305, 4.8368000984191895, 4.82859992980957, 4.82859992980957, 4.764100074768066, 4.760700225830078, 4.755099773406982, 4.755099773406982, 4.755099773406982, 4.755099773406982, 4.654200077056885, 4.619999885559082, 4.521999835968018, 4.505199909210205, 4.505199909210205, 4.505199909210205, 4.505199909210205, 4.505199909210205, 5.091800212860107, 5.087299823760986, 5.082399845123291, 5.077600002288818, 5.051400184631348, 5.047900199890137, 5.040999889373779, 5.0218000411987305, 5.019899845123291, 5.013000011444092, 5.007999897003174, 4.971700191497803, 4.950799942016602, 4.950699806213379, 4.9481000900268555, 4.93720006942749, 4.922699928283691, 4.908100128173828, 4.878200054168701, 4.831600189208984, 4.814899921417236, 4.8084001541137695, 4.800600051879883, 4.800600051879883, 4.800600051879883, 4.728600025177002, 4.670199871063232, 4.6479997634887695, 4.641200065612793, 4.629199981689453]}};\n",
       "\n",
       "function LDAvis_load_lib(url, callback){\n",
       "  var s = document.createElement('script');\n",
       "  s.src = url;\n",
       "  s.async = true;\n",
       "  s.onreadystatechange = s.onload = callback;\n",
       "  s.onerror = function(){console.warn(\"failed to load library \" + url);};\n",
       "  document.getElementsByTagName(\"head\")[0].appendChild(s);\n",
       "}\n",
       "\n",
       "if(typeof(LDAvis) !== \"undefined\"){\n",
       "   // already loaded: just create the visualization\n",
       "   !function(LDAvis){\n",
       "       new LDAvis(\"#\" + \"ldavis_el1528422949447101127155203086\", ldavis_el1528422949447101127155203086_data);\n",
       "   }(LDAvis);\n",
       "}else if(typeof define === \"function\" && define.amd){\n",
       "   // require.js is available: use it to load d3/LDAvis\n",
       "   require.config({paths: {d3: \"https://cdnjs.cloudflare.com/ajax/libs/d3/3.5.5/d3.min\"}});\n",
       "   require([\"d3\"], function(d3){\n",
       "      window.d3 = d3;\n",
       "      LDAvis_load_lib(\"https://cdn.rawgit.com/bmabey/pyLDAvis/files/ldavis.v1.0.0.js\", function(){\n",
       "        new LDAvis(\"#\" + \"ldavis_el1528422949447101127155203086\", ldavis_el1528422949447101127155203086_data);\n",
       "      });\n",
       "    });\n",
       "}else{\n",
       "    // require.js not available: dynamically load d3 & LDAvis\n",
       "    LDAvis_load_lib(\"https://cdnjs.cloudflare.com/ajax/libs/d3/3.5.5/d3.min.js\", function(){\n",
       "         LDAvis_load_lib(\"https://cdn.rawgit.com/bmabey/pyLDAvis/files/ldavis.v1.0.0.js\", function(){\n",
       "                 new LDAvis(\"#\" + \"ldavis_el1528422949447101127155203086\", ldavis_el1528422949447101127155203086_data);\n",
       "            })\n",
       "         });\n",
       "}\n",
       "</script>"
      ],
      "text/plain": [
       "PreparedData(topic_coordinates=            Freq  cluster  topics         x         y\n",
       "topic                                                \n",
       "10     11.497002        1       1 -0.243960  0.284272\n",
       "32      9.108455        1       2 -0.213527  0.167203\n",
       "52      8.423504        1       3 -0.249157 -0.156989\n",
       "35      5.825382        1       4 -0.252723 -0.242579\n",
       "1       5.035591        1       5 -0.225382 -0.191770\n",
       "13      2.642038        1       6 -0.093913  0.038711\n",
       "27      2.553998        1       7 -0.074422  0.031616\n",
       "18      2.223720        1       8 -0.059304  0.023964\n",
       "51      1.998874        1       9 -0.023054  0.011131\n",
       "5       1.956266        1      10 -0.041793  0.017280\n",
       "7       1.951207        1      11 -0.053770  0.023603\n",
       "37      1.926154        1      12 -0.069290  0.141755\n",
       "34      1.834493        1      13 -0.038816  0.016610\n",
       "28      1.798885        1      14 -0.046170  0.019107\n",
       "47      1.698473        1      15 -0.022663  0.011191\n",
       "33      1.644379        1      16 -0.026995  0.012028\n",
       "4       1.630671        1      17  0.012731  0.001500\n",
       "39      1.583287        1      18 -0.023321  0.011036\n",
       "26      1.380599        1      19  0.002683  0.004374\n",
       "48      1.378272        1      20  0.007821  0.003006\n",
       "49      1.367919        1      21 -0.005433  0.006505\n",
       "9       1.324793        1      22  0.012502  0.001284\n",
       "16      1.216075        1      23  0.046586 -0.005741\n",
       "11      1.202292        1      24  0.036095 -0.003061\n",
       "40      1.170002        1      25  0.030813 -0.002773\n",
       "38      1.164470        1      26  0.027605 -0.001420\n",
       "3       1.147863        1      27  0.035240 -0.003359\n",
       "19      1.121538        1      28  0.003065  0.003708\n",
       "2       1.110858        1      29  0.020400 -0.000291\n",
       "17      1.110696        1      30  0.011420  0.001328\n",
       "8       1.059549        1      31  0.022857 -0.000855\n",
       "43      1.050579        1      32  0.046258 -0.005637\n",
       "21      1.038653        1      33  0.048838 -0.006175\n",
       "41      1.018867        1      34  0.022085 -0.001278\n",
       "25      1.018187        1      35  0.030644 -0.027454\n",
       "6       1.003052        1      36  0.024483 -0.001033\n",
       "14      0.904443        1      37  0.040329 -0.004370\n",
       "42      0.888306        1      38  0.059260 -0.007226\n",
       "15      0.871728        1      39  0.086653 -0.012842\n",
       "44      0.850601        1      40  0.049134 -0.006307\n",
       "0       0.840892        1      41  0.068551 -0.009285\n",
       "22      0.829517        1      42  0.078641 -0.012133\n",
       "53      0.821646        1      43  0.059278 -0.007610\n",
       "24      0.816262        1      44  0.034030 -0.003543\n",
       "30      0.814077        1      45  0.070499 -0.009331\n",
       "31      0.803442        1      46  0.088140 -0.011970\n",
       "29      0.798656        1      47  0.036859 -0.004091\n",
       "46      0.754708        1      48  0.090410 -0.016103\n",
       "20      0.673688        1      49  0.070427 -0.009620\n",
       "50      0.662889        1      50  0.093171 -0.012905\n",
       "12      0.657783        1      51  0.102570 -0.013747\n",
       "36      0.611108        1      52  0.103448 -0.013932\n",
       "45      0.597505        1      53  0.088064 -0.012014\n",
       "23      0.586098        1      54  0.102105 -0.013770, topic_info=     Category        Freq                Term       Total  loglift  logprob\n",
       "term                                                                       \n",
       "844   Default  707.000000              system  707.000000  30.0000  30.0000\n",
       "388   Default  794.000000               brake  794.000000  29.0000  29.0000\n",
       "1830  Default  401.000000               drive  401.000000  28.0000  28.0000\n",
       "1347  Default  285.000000              camera  285.000000  27.0000  27.0000\n",
       "3553  Default  354.000000             problem  354.000000  26.0000  26.0000\n",
       "2625  Default  399.000000               issue  399.000000  25.0000  25.0000\n",
       "2286  Default  380.000000                time  380.000000  24.0000  24.0000\n",
       "4095  Default  212.000000                park  212.000000  23.0000  23.0000\n",
       "1819  Default  213.000000             warning  213.000000  22.0000  22.0000\n",
       "3584  Default  161.000000              driver  161.000000  21.0000  21.0000\n",
       "3715  Default  274.000000                  go  274.000000  20.0000  20.0000\n",
       "3214  Default  309.000000                lane  309.000000  19.0000  19.0000\n",
       "24    Default  182.000000               start  182.000000  18.0000  18.0000\n",
       "2379  Default  357.000000           collision  357.000000  17.0000  17.0000\n",
       "1387  Default  241.000000                work  241.000000  16.0000  16.0000\n",
       "2993  Default  285.000000              dealer  285.000000  15.0000  15.0000\n",
       "2525  Default  330.000000               front  330.000000  14.0000  14.0000\n",
       "2000  Default  277.000000                take  277.000000  13.0000  13.0000\n",
       "2078  Default  320.000000                stop  320.000000  12.0000  12.0000\n",
       "457   Default  160.000000                also  160.000000  11.0000  11.0000\n",
       "3128  Default  211.000000               light  211.000000  10.0000  10.0000\n",
       "1641  Default  238.000000              safety  238.000000   9.0000   9.0000\n",
       "3465  Default  148.000000                make  148.000000   8.0000   8.0000\n",
       "919   Default  128.000000             failure  128.000000   7.0000   7.0000\n",
       "2603  Default  138.000000                fail  138.000000   6.0000   6.0000\n",
       "1017  Default  116.000000                 see  116.000000   5.0000   5.0000\n",
       "4016  Default  131.000000                 say  131.000000   4.0000   4.0000\n",
       "437   Default  171.000000               truck  171.000000   3.0000   3.0000\n",
       "493   Default  104.000000             feature  104.000000   2.0000   2.0000\n",
       "231   Default  116.000000              screen  116.000000   1.0000   1.0000\n",
       "...       ...         ...                 ...         ...      ...      ...\n",
       "1554  Topic54   17.219341        deceleration   18.058823   5.0918  -2.6528\n",
       "3284  Topic54   15.671166  service_department   16.510647   5.0873  -2.7470\n",
       "3276  Topic54   14.303345              wiring   15.142825   5.0824  -2.8383\n",
       "363   Topic54   13.161147             usually   14.000628   5.0776  -2.9215\n",
       "118   Topic54    9.117343                live    9.956823   5.0514  -3.2886\n",
       "970   Topic54    8.754780                 lka    9.594260   5.0479  -3.3292\n",
       "904   Topic54    8.112741         significant    8.952221   5.0410  -3.4054\n",
       "823   Topic54    6.721746             recover    7.561227   5.0218  -3.5934\n",
       "1428  Topic54    6.611802             husband    7.451282   5.0199  -3.6099\n",
       "3614  Topic54    6.229290              figure    7.068770   5.0130  -3.6695\n",
       "3433  Topic54    5.975269           corporate    6.814750   5.0080  -3.7112\n",
       "1814  Topic54    4.596150              haptic    5.435799   4.9717  -3.9736\n",
       "1670  Topic54    4.044518                  md    4.883998   4.9508  -4.1014\n",
       "1146  Topic54    4.042182             improve    4.881663   4.9507  -4.1020\n",
       "1392  Topic54    3.980380               steel    4.819860   4.9481  -4.1174\n",
       "4084  Topic54    3.744817                list    4.584297   4.9372  -4.1784\n",
       "2908  Topic54    3.468825            identify    4.308306   4.9227  -4.2550\n",
       "4082  Topic54    3.224646                ever    4.064126   4.9081  -4.3280\n",
       "2557  Topic54    2.812456              museum    3.651937   4.8782  -4.4647\n",
       "3202  Topic54    2.329124                 hop    3.168605   4.8316  -4.6533\n",
       "4101  Topic54    2.189501               stomp    3.028982   4.8149  -4.7151\n",
       "2421  Topic54    2.139107        unacceptable    2.978588   4.8084  -4.7384\n",
       "3941  Topic54    2.081482         unannounced    2.921059   4.8006  -4.7657\n",
       "430   Topic54    2.081481             lawsuit    2.921059   4.8006  -4.7657\n",
       "926   Topic54    2.081482        verification    2.921059   4.8006  -4.7657\n",
       "1891  Topic54    1.652213            systemic    2.491693   4.7286  -4.9967\n",
       "2793  Topic54    1.402048             network    2.241529   4.6702  -5.1609\n",
       "637   Topic54    1.322699        circumstance    2.162180   4.6480  -5.2191\n",
       "793   Topic54    1.299929      simultaneously    2.139410   4.6412  -5.2365\n",
       "2411  Topic54    1.260912              friday    2.100392   4.6292  -5.2670\n",
       "\n",
       "[1720 rows x 6 columns], token_table=      Topic      Freq                     Term\n",
       "term                                          \n",
       "2284     37  0.896652                      aaa\n",
       "1383     15  0.859873                       ab\n",
       "1638     32  0.947428                  ability\n",
       "1732     36  0.977941                     able\n",
       "4037     18  0.843525                 abnormal\n",
       "114      28  0.900930                  abreast\n",
       "1310     47  0.913067                   abrupt\n",
       "2335     13  0.931733                 abruptly\n",
       "1975     46  0.943681               absolutely\n",
       "2304     20  0.977646                      acc\n",
       "55       31  0.990826               accelerate\n",
       "508       4  0.911422              accelerated\n",
       "2861     31  0.983728             acceleration\n",
       "32       31  0.946895              accelerator\n",
       "3340     39  0.674091                   accept\n",
       "2188     33  0.852588                accessory\n",
       "3976      1  0.785722                 accident\n",
       "3976      2  0.200999                 accident\n",
       "592       6  0.941493                   accord\n",
       "27        5  0.479460                     acid\n",
       "2790     26  0.859934              acknowledge\n",
       "2671     17  0.911449                      act\n",
       "2385      1  0.991485                 activate\n",
       "2974     49  0.951457                   active\n",
       "2057     19  0.929202                 actually\n",
       "440      52  0.870992                    acura\n",
       "1327     39  0.674091                       ad\n",
       "2903      3  0.962031          adaptive_cruise\n",
       "3024      3  0.993518  adaptive_cruise_control\n",
       "1865     13  0.932897                      add\n",
       "...     ...       ...                      ...\n",
       "3276     54  0.924530                   wiring\n",
       "2034     37  0.905732                     wish\n",
       "1942     16  0.922102                  witness\n",
       "4004      5  0.836990                 wobbling\n",
       "2508     43  0.439114                 woebcken\n",
       "3026     12  0.914577                   wonder\n",
       "748      50  0.438624                     wook\n",
       "2449     32  0.936845                     word\n",
       "1387      5  0.997829                     work\n",
       "2778     47  0.746699                   worker\n",
       "763      46  0.903055                  working\n",
       "2273     17  0.879767                  worried\n",
       "1960      5  0.902724                    worse\n",
       "1330     51  0.686044                    worth\n",
       "2544      2  0.994990                    would\n",
       "1147     12  0.711038                    wreck\n",
       "2605     14  0.966800                    write\n",
       "1180     52  0.773491                  writing\n",
       "3893     27  0.984801                    wrong\n",
       "1870     44  0.897768                     xxxx\n",
       "2847     44  0.897768                    xxxxx\n",
       "2945     24  0.793658                     yard\n",
       "1186      7  0.993443                     year\n",
       "953      29  0.919865                 year_old\n",
       "3840     47  0.746699                     yell\n",
       "2584     17  0.875185                yesterday\n",
       "3055     27  0.958294                      yet\n",
       "3119     52  0.867089                    youtu\n",
       "45       33  0.837320                  youtube\n",
       "2823     42  0.844260                     zone\n",
       "\n",
       "[1662 rows x 3 columns], R=30, lambda_step=0.01, plot_opts={'xlab': 'PC1', 'ylab': 'PC2'}, topic_order=[11, 33, 53, 36, 2, 14, 28, 19, 52, 6, 8, 38, 35, 29, 48, 34, 5, 40, 27, 49, 50, 10, 17, 12, 41, 39, 4, 20, 3, 18, 9, 44, 22, 42, 26, 7, 15, 43, 16, 45, 1, 23, 54, 25, 31, 32, 30, 47, 21, 51, 13, 37, 46, 24])"
      ]
     },
     "execution_count": 40,
     "metadata": {},
     "output_type": "execute_result"
    }
   ],
   "source": [
    "# Visualize the topics\n",
    "pyLDAvis.enable_notebook()\n",
    "vis = pyLDAvis.gensim.prepare(optimal_model, corpus, id2word)\n",
    "vis"
   ]
  },
  {
   "cell_type": "code",
   "execution_count": 42,
   "metadata": {},
   "outputs": [],
   "source": [
    "def format_topics_sentences(ldamodel=optimal_model, corpus=corpus, texts=data):\n",
    "    # Init output\n",
    "    sent_topics_df = pd.DataFrame()\n",
    "\n",
    "    # Get main topic in each document\n",
    "    for i, row in enumerate(ldamodel[corpus]):\n",
    "        row = sorted(row, key=lambda x: (x[1]), reverse=True)\n",
    "        # Get the Dominant topic, Perc Contribution and Keywords for each document\n",
    "        for j, (topic_num, prop_topic) in enumerate(row):\n",
    "            if j == 0:  # => dominant topic\n",
    "                wp = ldamodel.show_topic(topic_num)\n",
    "                topic_keywords = \", \".join([word for word, prop in wp])\n",
    "                sent_topics_df = sent_topics_df.append(pd.Series([int(topic_num), round(prop_topic,4), topic_keywords]), ignore_index=True)\n",
    "            else:\n",
    "                break\n",
    "    sent_topics_df.columns = ['Dominant_Topic', 'Perc_Contribution', 'Topic_Keywords']\n",
    "\n",
    "    # Add original text to the end of the output\n",
    "    contents = pd.Series(texts)\n",
    "    sent_topics_df = pd.concat([sent_topics_df, contents], axis=1)\n",
    "    return(sent_topics_df)\n"
   ]
  },
  {
   "cell_type": "code",
   "execution_count": 43,
   "metadata": {},
   "outputs": [],
   "source": [
    "ori_text = data[['CDESCR']][data[\"prediction\"] == 1]\n",
    "ori_text['CDESCR'] = ori_text['CDESCR'].apply(lambda x:x.lower())\n",
    "ori_text = ori_text['CDESCR'].tolist()"
   ]
  },
  {
   "cell_type": "code",
   "execution_count": 44,
   "metadata": {},
   "outputs": [],
   "source": [
    "df_topic_sents_keywords = format_topics_sentences(ldamodel=optimal_model, corpus=corpus, texts=ori_text)"
   ]
  },
  {
   "cell_type": "code",
   "execution_count": 45,
   "metadata": {},
   "outputs": [
    {
     "data": {
      "text/html": [
       "<div>\n",
       "<style scoped>\n",
       "    .dataframe tbody tr th:only-of-type {\n",
       "        vertical-align: middle;\n",
       "    }\n",
       "\n",
       "    .dataframe tbody tr th {\n",
       "        vertical-align: top;\n",
       "    }\n",
       "\n",
       "    .dataframe thead th {\n",
       "        text-align: right;\n",
       "    }\n",
       "</style>\n",
       "<table border=\"1\" class=\"dataframe\">\n",
       "  <thead>\n",
       "    <tr style=\"text-align: right;\">\n",
       "      <th></th>\n",
       "      <th>Document_No</th>\n",
       "      <th>Dominant_Topic</th>\n",
       "      <th>Topic_Perc_Contrib</th>\n",
       "      <th>Keywords</th>\n",
       "      <th>Text</th>\n",
       "    </tr>\n",
       "  </thead>\n",
       "  <tbody>\n",
       "    <tr>\n",
       "      <th>0</th>\n",
       "      <td>0</td>\n",
       "      <td>2.0</td>\n",
       "      <td>0.1669</td>\n",
       "      <td>replace, available, cover, order, warranty, di...</td>\n",
       "      <td>release button for emergency brake broke and c...</td>\n",
       "    </tr>\n",
       "    <tr>\n",
       "      <th>1</th>\n",
       "      <td>1</td>\n",
       "      <td>32.0</td>\n",
       "      <td>0.4188</td>\n",
       "      <td>issue, time, safety, happen, would, get, mile,...</td>\n",
       "      <td>i was traveling approximately 45 mph on route ...</td>\n",
       "    </tr>\n",
       "    <tr>\n",
       "      <th>2</th>\n",
       "      <td>2</td>\n",
       "      <td>52.0</td>\n",
       "      <td>0.3862</td>\n",
       "      <td>lane, dealer, take, back, adaptive_cruise_cont...</td>\n",
       "      <td>tl* the contact owns a 2012 ford explorer. the...</td>\n",
       "    </tr>\n",
       "    <tr>\n",
       "      <th>3</th>\n",
       "      <td>3</td>\n",
       "      <td>52.0</td>\n",
       "      <td>0.2763</td>\n",
       "      <td>lane, dealer, take, back, adaptive_cruise_cont...</td>\n",
       "      <td>the adaptive cruise has not recognized stopped...</td>\n",
       "    </tr>\n",
       "    <tr>\n",
       "      <th>4</th>\n",
       "      <td>4</td>\n",
       "      <td>52.0</td>\n",
       "      <td>0.2873</td>\n",
       "      <td>lane, dealer, take, back, adaptive_cruise_cont...</td>\n",
       "      <td>we were returning home via i55 and i turned on...</td>\n",
       "    </tr>\n",
       "    <tr>\n",
       "      <th>5</th>\n",
       "      <td>5</td>\n",
       "      <td>32.0</td>\n",
       "      <td>0.2396</td>\n",
       "      <td>issue, time, safety, happen, would, get, mile,...</td>\n",
       "      <td>on february 22nd and 27th 2014, while travelin...</td>\n",
       "    </tr>\n",
       "    <tr>\n",
       "      <th>6</th>\n",
       "      <td>6</td>\n",
       "      <td>51.0</td>\n",
       "      <td>0.3607</td>\n",
       "      <td>cause, transmission, well, result, line, power...</td>\n",
       "      <td>driving on an interstate freeway with adaptive...</td>\n",
       "    </tr>\n",
       "    <tr>\n",
       "      <th>7</th>\n",
       "      <td>7</td>\n",
       "      <td>10.0</td>\n",
       "      <td>0.6173</td>\n",
       "      <td>brake, front, stop, go, mph, road, come, speed...</td>\n",
       "      <td>to whom it concerns,    i have a great safety ...</td>\n",
       "    </tr>\n",
       "    <tr>\n",
       "      <th>8</th>\n",
       "      <td>8</td>\n",
       "      <td>39.0</td>\n",
       "      <td>0.1893</td>\n",
       "      <td>failure, repair, entertainment, manufacturer, ...</td>\n",
       "      <td>tl* the contact owns a 2013 freightliner casca...</td>\n",
       "    </tr>\n",
       "    <tr>\n",
       "      <th>9</th>\n",
       "      <td>9</td>\n",
       "      <td>1.0</td>\n",
       "      <td>0.2810</td>\n",
       "      <td>system, problem, work, collision, fix, still, ...</td>\n",
       "      <td>front left wheel came off when pulling into ga...</td>\n",
       "    </tr>\n",
       "  </tbody>\n",
       "</table>\n",
       "</div>"
      ],
      "text/plain": [
       "   Document_No  Dominant_Topic  Topic_Perc_Contrib  \\\n",
       "0            0             2.0              0.1669   \n",
       "1            1            32.0              0.4188   \n",
       "2            2            52.0              0.3862   \n",
       "3            3            52.0              0.2763   \n",
       "4            4            52.0              0.2873   \n",
       "5            5            32.0              0.2396   \n",
       "6            6            51.0              0.3607   \n",
       "7            7            10.0              0.6173   \n",
       "8            8            39.0              0.1893   \n",
       "9            9             1.0              0.2810   \n",
       "\n",
       "                                            Keywords  \\\n",
       "0  replace, available, cover, order, warranty, di...   \n",
       "1  issue, time, safety, happen, would, get, mile,...   \n",
       "2  lane, dealer, take, back, adaptive_cruise_cont...   \n",
       "3  lane, dealer, take, back, adaptive_cruise_cont...   \n",
       "4  lane, dealer, take, back, adaptive_cruise_cont...   \n",
       "5  issue, time, safety, happen, would, get, mile,...   \n",
       "6  cause, transmission, well, result, line, power...   \n",
       "7  brake, front, stop, go, mph, road, come, speed...   \n",
       "8  failure, repair, entertainment, manufacturer, ...   \n",
       "9  system, problem, work, collision, fix, still, ...   \n",
       "\n",
       "                                                Text  \n",
       "0  release button for emergency brake broke and c...  \n",
       "1  i was traveling approximately 45 mph on route ...  \n",
       "2  tl* the contact owns a 2012 ford explorer. the...  \n",
       "3  the adaptive cruise has not recognized stopped...  \n",
       "4  we were returning home via i55 and i turned on...  \n",
       "5  on february 22nd and 27th 2014, while travelin...  \n",
       "6  driving on an interstate freeway with adaptive...  \n",
       "7  to whom it concerns,    i have a great safety ...  \n",
       "8  tl* the contact owns a 2013 freightliner casca...  \n",
       "9  front left wheel came off when pulling into ga...  "
      ]
     },
     "execution_count": 45,
     "metadata": {},
     "output_type": "execute_result"
    }
   ],
   "source": [
    "# Format\n",
    "df_dominant_topic = df_topic_sents_keywords.reset_index()\n",
    "df_dominant_topic.columns = ['Document_No', 'Dominant_Topic', 'Topic_Perc_Contrib', 'Keywords', 'Text']\n",
    "\n",
    "# Show\n",
    "df_dominant_topic.head(10)"
   ]
  },
  {
   "cell_type": "code",
   "execution_count": null,
   "metadata": {},
   "outputs": [],
   "source": [
    "df_dominant_topic.to_csv(\"topic_keywords_54.csv\",index=False)"
   ]
  },
  {
   "cell_type": "code",
   "execution_count": 46,
   "metadata": {},
   "outputs": [
    {
     "data": {
      "text/html": [
       "<div>\n",
       "<style scoped>\n",
       "    .dataframe tbody tr th:only-of-type {\n",
       "        vertical-align: middle;\n",
       "    }\n",
       "\n",
       "    .dataframe tbody tr th {\n",
       "        vertical-align: top;\n",
       "    }\n",
       "\n",
       "    .dataframe thead th {\n",
       "        text-align: right;\n",
       "    }\n",
       "</style>\n",
       "<table border=\"1\" class=\"dataframe\">\n",
       "  <thead>\n",
       "    <tr style=\"text-align: right;\">\n",
       "      <th></th>\n",
       "      <th>Topic_Num</th>\n",
       "      <th>Topic_Perc_Contrib</th>\n",
       "      <th>Keywords</th>\n",
       "      <th>Text</th>\n",
       "    </tr>\n",
       "  </thead>\n",
       "  <tbody>\n",
       "    <tr>\n",
       "      <th>0</th>\n",
       "      <td>0.0</td>\n",
       "      <td>0.2159</td>\n",
       "      <td>curb, addition, resolve, early, must, daily, e...</td>\n",
       "      <td>the vehicle \"high centered\" at various places ...</td>\n",
       "    </tr>\n",
       "    <tr>\n",
       "      <th>1</th>\n",
       "      <td>1.0</td>\n",
       "      <td>0.2810</td>\n",
       "      <td>system, problem, work, collision, fix, still, ...</td>\n",
       "      <td>front left wheel came off when pulling into ga...</td>\n",
       "    </tr>\n",
       "    <tr>\n",
       "      <th>2</th>\n",
       "      <td>2.0</td>\n",
       "      <td>0.1669</td>\n",
       "      <td>replace, available, cover, order, warranty, di...</td>\n",
       "      <td>release button for emergency brake broke and c...</td>\n",
       "    </tr>\n",
       "    <tr>\n",
       "      <th>3</th>\n",
       "      <td>3.0</td>\n",
       "      <td>0.1853</td>\n",
       "      <td>monitor, people, panel, yet, area, wrong, kill...</td>\n",
       "      <td>vehicle has repeatedly thrown errors with warn...</td>\n",
       "    </tr>\n",
       "    <tr>\n",
       "      <th>4</th>\n",
       "      <td>4.0</td>\n",
       "      <td>0.2196</td>\n",
       "      <td>pedal, press, shut, hill, longer, idle, noise,...</td>\n",
       "      <td>rpms race while van is in idle an takes off wi...</td>\n",
       "    </tr>\n",
       "    <tr>\n",
       "      <th>5</th>\n",
       "      <td>5.0</td>\n",
       "      <td>0.2589</td>\n",
       "      <td>display, purchase, call, blind_spot, error, ba...</td>\n",
       "      <td>while driving the odometer messages started po...</td>\n",
       "    </tr>\n",
       "    <tr>\n",
       "      <th>6</th>\n",
       "      <td>6.0</td>\n",
       "      <td>0.1224</td>\n",
       "      <td>parking, able, gear, button, stationary, deter...</td>\n",
       "      <td>tl* the contact owns a 2017 nissan rogue. the ...</td>\n",
       "    </tr>\n",
       "    <tr>\n",
       "      <th>7</th>\n",
       "      <td>7.0</td>\n",
       "      <td>0.1991</td>\n",
       "      <td>keep, move, even, away, steer, flash, center, ...</td>\n",
       "      <td>experience on multiple occasions the forward c...</td>\n",
       "    </tr>\n",
       "    <tr>\n",
       "      <th>8</th>\n",
       "      <td>8.0</td>\n",
       "      <td>0.1396</td>\n",
       "      <td>accelerate, low, tow, acceleration, respond, v...</td>\n",
       "      <td>acceleration  driving east on us rte. 50 at ab...</td>\n",
       "    </tr>\n",
       "    <tr>\n",
       "      <th>9</th>\n",
       "      <td>9.0</td>\n",
       "      <td>0.2302</td>\n",
       "      <td>open, event, disable, close, attention, cluste...</td>\n",
       "      <td>i own a 2015 jeep grand cherokee overland.  i ...</td>\n",
       "    </tr>\n",
       "  </tbody>\n",
       "</table>\n",
       "</div>"
      ],
      "text/plain": [
       "   Topic_Num  Topic_Perc_Contrib  \\\n",
       "0        0.0              0.2159   \n",
       "1        1.0              0.2810   \n",
       "2        2.0              0.1669   \n",
       "3        3.0              0.1853   \n",
       "4        4.0              0.2196   \n",
       "5        5.0              0.2589   \n",
       "6        6.0              0.1224   \n",
       "7        7.0              0.1991   \n",
       "8        8.0              0.1396   \n",
       "9        9.0              0.2302   \n",
       "\n",
       "                                            Keywords  \\\n",
       "0  curb, addition, resolve, early, must, daily, e...   \n",
       "1  system, problem, work, collision, fix, still, ...   \n",
       "2  replace, available, cover, order, warranty, di...   \n",
       "3  monitor, people, panel, yet, area, wrong, kill...   \n",
       "4  pedal, press, shut, hill, longer, idle, noise,...   \n",
       "5  display, purchase, call, blind_spot, error, ba...   \n",
       "6  parking, able, gear, button, stationary, deter...   \n",
       "7  keep, move, even, away, steer, flash, center, ...   \n",
       "8  accelerate, low, tow, acceleration, respond, v...   \n",
       "9  open, event, disable, close, attention, cluste...   \n",
       "\n",
       "                                                Text  \n",
       "0  the vehicle \"high centered\" at various places ...  \n",
       "1  front left wheel came off when pulling into ga...  \n",
       "2  release button for emergency brake broke and c...  \n",
       "3  vehicle has repeatedly thrown errors with warn...  \n",
       "4  rpms race while van is in idle an takes off wi...  \n",
       "5  while driving the odometer messages started po...  \n",
       "6  tl* the contact owns a 2017 nissan rogue. the ...  \n",
       "7  experience on multiple occasions the forward c...  \n",
       "8  acceleration  driving east on us rte. 50 at ab...  \n",
       "9  i own a 2015 jeep grand cherokee overland.  i ...  "
      ]
     },
     "execution_count": 46,
     "metadata": {},
     "output_type": "execute_result"
    }
   ],
   "source": [
    "# Group top 5 sentences under each topic\n",
    "sent_topics_sorteddf_mallet = pd.DataFrame()\n",
    "\n",
    "sent_topics_outdf_grpd = df_topic_sents_keywords.groupby('Dominant_Topic')\n",
    "\n",
    "for i, grp in sent_topics_outdf_grpd:\n",
    "    sent_topics_sorteddf_mallet = pd.concat([sent_topics_sorteddf_mallet, \n",
    "                                             grp.sort_values(['Perc_Contribution'], ascending=[0]).head(1)], \n",
    "                                            axis=0)\n",
    "\n",
    "# Reset Index    \n",
    "sent_topics_sorteddf_mallet.reset_index(drop=True, inplace=True)\n",
    "\n",
    "# Format\n",
    "sent_topics_sorteddf_mallet.columns = ['Topic_Num', \"Topic_Perc_Contrib\", \"Keywords\", \"Text\"]\n",
    "\n",
    "# Show\n",
    "sent_topics_sorteddf_mallet.head(10)"
   ]
  },
  {
   "cell_type": "code",
   "execution_count": 47,
   "metadata": {},
   "outputs": [
    {
     "data": {
      "text/html": [
       "<div>\n",
       "<style scoped>\n",
       "    .dataframe tbody tr th:only-of-type {\n",
       "        vertical-align: middle;\n",
       "    }\n",
       "\n",
       "    .dataframe tbody tr th {\n",
       "        vertical-align: top;\n",
       "    }\n",
       "\n",
       "    .dataframe thead th {\n",
       "        text-align: right;\n",
       "    }\n",
       "</style>\n",
       "<table border=\"1\" class=\"dataframe\">\n",
       "  <thead>\n",
       "    <tr style=\"text-align: right;\">\n",
       "      <th></th>\n",
       "      <th>Dominant_Topic</th>\n",
       "      <th>Topic_Keywords</th>\n",
       "      <th>Num_Documents</th>\n",
       "      <th>Perc_Documents</th>\n",
       "    </tr>\n",
       "  </thead>\n",
       "  <tbody>\n",
       "    <tr>\n",
       "      <th>0</th>\n",
       "      <td>2.0</td>\n",
       "      <td>replace, available, cover, order, warranty, di...</td>\n",
       "      <td>4.0</td>\n",
       "      <td>0.0073</td>\n",
       "    </tr>\n",
       "    <tr>\n",
       "      <th>1</th>\n",
       "      <td>32.0</td>\n",
       "      <td>issue, time, safety, happen, would, get, mile,...</td>\n",
       "      <td>22.0</td>\n",
       "      <td>0.0401</td>\n",
       "    </tr>\n",
       "    <tr>\n",
       "      <th>2</th>\n",
       "      <td>52.0</td>\n",
       "      <td>lane, dealer, take, back, adaptive_cruise_cont...</td>\n",
       "      <td>1.0</td>\n",
       "      <td>0.0018</td>\n",
       "    </tr>\n",
       "    <tr>\n",
       "      <th>3</th>\n",
       "      <td>52.0</td>\n",
       "      <td>lane, dealer, take, back, adaptive_cruise_cont...</td>\n",
       "      <td>2.0</td>\n",
       "      <td>0.0036</td>\n",
       "    </tr>\n",
       "    <tr>\n",
       "      <th>4</th>\n",
       "      <td>52.0</td>\n",
       "      <td>lane, dealer, take, back, adaptive_cruise_cont...</td>\n",
       "      <td>3.0</td>\n",
       "      <td>0.0055</td>\n",
       "    </tr>\n",
       "  </tbody>\n",
       "</table>\n",
       "</div>"
      ],
      "text/plain": [
       "   Dominant_Topic                                     Topic_Keywords  \\\n",
       "0             2.0  replace, available, cover, order, warranty, di...   \n",
       "1            32.0  issue, time, safety, happen, would, get, mile,...   \n",
       "2            52.0  lane, dealer, take, back, adaptive_cruise_cont...   \n",
       "3            52.0  lane, dealer, take, back, adaptive_cruise_cont...   \n",
       "4            52.0  lane, dealer, take, back, adaptive_cruise_cont...   \n",
       "\n",
       "   Num_Documents  Perc_Documents  \n",
       "0            4.0          0.0073  \n",
       "1           22.0          0.0401  \n",
       "2            1.0          0.0018  \n",
       "3            2.0          0.0036  \n",
       "4            3.0          0.0055  "
      ]
     },
     "execution_count": 47,
     "metadata": {},
     "output_type": "execute_result"
    }
   ],
   "source": [
    "# Number of Documents for Each Topic\n",
    "topic_counts = df_topic_sents_keywords['Dominant_Topic'].value_counts()\n",
    "\n",
    "# Percentage of Documents for Each Topic\n",
    "topic_contribution = round(topic_counts/topic_counts.sum(), 4)\n",
    "\n",
    "# Topic Number and Keywords\n",
    "topic_num_keywords = df_topic_sents_keywords[['Dominant_Topic', 'Topic_Keywords']]\n",
    "\n",
    "# Concatenate Column wise\n",
    "df_dominant_topics = pd.concat([topic_num_keywords, topic_counts, topic_contribution], axis=1)\n",
    "\n",
    "# Change Column names\n",
    "df_dominant_topics.columns = ['Dominant_Topic', 'Topic_Keywords', 'Num_Documents', 'Perc_Documents']\n",
    "\n",
    "# Show\n",
    "df_dominant_topics.head(5)"
   ]
  }
 ],
 "metadata": {
  "kernelspec": {
   "display_name": "Python 3",
   "language": "python",
   "name": "python3"
  },
  "language_info": {
   "codemirror_mode": {
    "name": "ipython",
    "version": 3
   },
   "file_extension": ".py",
   "mimetype": "text/x-python",
   "name": "python",
   "nbconvert_exporter": "python",
   "pygments_lexer": "ipython3",
   "version": "3.5.4"
  }
 },
 "nbformat": 4,
 "nbformat_minor": 2
}
